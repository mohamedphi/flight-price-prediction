{
 "cells": [
  {
   "cell_type": "markdown",
   "id": "050f8c47",
   "metadata": {
    "papermill": {
     "duration": 0.106414,
     "end_time": "2022-03-28T19:12:33.610659",
     "exception": false,
     "start_time": "2022-03-28T19:12:33.504245",
     "status": "completed"
    },
    "tags": []
   },
   "source": [
    "# Import Libraries"
   ]
  },
  {
   "cell_type": "code",
   "execution_count": 1,
   "id": "318b40c8",
   "metadata": {
    "execution": {
     "iopub.execute_input": "2022-03-28T19:12:33.776587Z",
     "iopub.status.busy": "2022-03-28T19:12:33.775526Z",
     "iopub.status.idle": "2022-03-28T19:12:34.790262Z",
     "shell.execute_reply": "2022-03-28T19:12:34.789606Z",
     "shell.execute_reply.started": "2022-03-28T19:08:39.004499Z"
    },
    "papermill": {
     "duration": 1.097608,
     "end_time": "2022-03-28T19:12:34.790409",
     "exception": false,
     "start_time": "2022-03-28T19:12:33.692801",
     "status": "completed"
    },
    "tags": []
   },
   "outputs": [],
   "source": [
    "import numpy as np\n",
    "import pandas as pd\n",
    "import matplotlib.pyplot as plt\n",
    "%matplotlib inline\n",
    "import seaborn as sns\n",
    "sns.set(style = 'whitegrid')"
   ]
  },
  {
   "cell_type": "code",
   "execution_count": 2,
   "id": "a5f27251",
   "metadata": {
    "execution": {
     "iopub.execute_input": "2022-03-28T19:12:34.954295Z",
     "iopub.status.busy": "2022-03-28T19:12:34.953704Z",
     "iopub.status.idle": "2022-03-28T19:12:46.058085Z",
     "shell.execute_reply": "2022-03-28T19:12:46.057641Z",
     "shell.execute_reply.started": "2022-03-28T19:08:39.529151Z"
    },
    "papermill": {
     "duration": 11.187999,
     "end_time": "2022-03-28T19:12:46.058228",
     "exception": false,
     "start_time": "2022-03-28T19:12:34.870229",
     "status": "completed"
    },
    "tags": []
   },
   "outputs": [
    {
     "name": "stdout",
     "output_type": "stream",
     "text": [
      "Collecting openpyxl\r\n",
      "  Downloading openpyxl-3.0.9-py2.py3-none-any.whl (242 kB)\r\n",
      "     |████████████████████████████████| 242 kB 291 kB/s            \r\n",
      "\u001b[?25hCollecting et-xmlfile\r\n",
      "  Downloading et_xmlfile-1.1.0-py3-none-any.whl (4.7 kB)\r\n",
      "Installing collected packages: et-xmlfile, openpyxl\r\n",
      "Successfully installed et-xmlfile-1.1.0 openpyxl-3.0.9\r\n",
      "\u001b[33mWARNING: Running pip as the 'root' user can result in broken permissions and conflicting behaviour with the system package manager. It is recommended to use a virtual environment instead: https://pip.pypa.io/warnings/venv\u001b[0m\r\n",
      "Note: you may need to restart the kernel to use updated packages.\n"
     ]
    }
   ],
   "source": [
    "pip install openpyxl"
   ]
  },
  {
   "cell_type": "code",
   "execution_count": 3,
   "id": "d934f319",
   "metadata": {
    "execution": {
     "iopub.execute_input": "2022-03-28T19:12:46.234658Z",
     "iopub.status.busy": "2022-03-28T19:12:46.233746Z",
     "iopub.status.idle": "2022-03-28T19:12:48.296070Z",
     "shell.execute_reply": "2022-03-28T19:12:48.296465Z",
     "shell.execute_reply.started": "2022-03-28T19:08:48.178281Z"
    },
    "papermill": {
     "duration": 2.151564,
     "end_time": "2022-03-28T19:12:48.296666",
     "exception": false,
     "start_time": "2022-03-28T19:12:46.145102",
     "status": "completed"
    },
    "tags": []
   },
   "outputs": [
    {
     "data": {
      "text/html": [
       "<div>\n",
       "<style scoped>\n",
       "    .dataframe tbody tr th:only-of-type {\n",
       "        vertical-align: middle;\n",
       "    }\n",
       "\n",
       "    .dataframe tbody tr th {\n",
       "        vertical-align: top;\n",
       "    }\n",
       "\n",
       "    .dataframe thead th {\n",
       "        text-align: right;\n",
       "    }\n",
       "</style>\n",
       "<table border=\"1\" class=\"dataframe\">\n",
       "  <thead>\n",
       "    <tr style=\"text-align: right;\">\n",
       "      <th></th>\n",
       "      <th>Airline</th>\n",
       "      <th>Date_of_Journey</th>\n",
       "      <th>Source</th>\n",
       "      <th>Destination</th>\n",
       "      <th>Route</th>\n",
       "      <th>Dep_Time</th>\n",
       "      <th>Arrival_Time</th>\n",
       "      <th>Duration</th>\n",
       "      <th>Total_Stops</th>\n",
       "      <th>Additional_Info</th>\n",
       "      <th>Price</th>\n",
       "    </tr>\n",
       "  </thead>\n",
       "  <tbody>\n",
       "    <tr>\n",
       "      <th>0</th>\n",
       "      <td>IndiGo</td>\n",
       "      <td>24/03/2019</td>\n",
       "      <td>Banglore</td>\n",
       "      <td>New Delhi</td>\n",
       "      <td>BLR → DEL</td>\n",
       "      <td>22:20</td>\n",
       "      <td>01:10 22 Mar</td>\n",
       "      <td>2h 50m</td>\n",
       "      <td>non-stop</td>\n",
       "      <td>No info</td>\n",
       "      <td>3897</td>\n",
       "    </tr>\n",
       "    <tr>\n",
       "      <th>1</th>\n",
       "      <td>Air India</td>\n",
       "      <td>1/05/2019</td>\n",
       "      <td>Kolkata</td>\n",
       "      <td>Banglore</td>\n",
       "      <td>CCU → IXR → BBI → BLR</td>\n",
       "      <td>05:50</td>\n",
       "      <td>13:15</td>\n",
       "      <td>7h 25m</td>\n",
       "      <td>2 stops</td>\n",
       "      <td>No info</td>\n",
       "      <td>7662</td>\n",
       "    </tr>\n",
       "    <tr>\n",
       "      <th>2</th>\n",
       "      <td>Jet Airways</td>\n",
       "      <td>9/06/2019</td>\n",
       "      <td>Delhi</td>\n",
       "      <td>Cochin</td>\n",
       "      <td>DEL → LKO → BOM → COK</td>\n",
       "      <td>09:25</td>\n",
       "      <td>04:25 10 Jun</td>\n",
       "      <td>19h</td>\n",
       "      <td>2 stops</td>\n",
       "      <td>No info</td>\n",
       "      <td>13882</td>\n",
       "    </tr>\n",
       "    <tr>\n",
       "      <th>3</th>\n",
       "      <td>IndiGo</td>\n",
       "      <td>12/05/2019</td>\n",
       "      <td>Kolkata</td>\n",
       "      <td>Banglore</td>\n",
       "      <td>CCU → NAG → BLR</td>\n",
       "      <td>18:05</td>\n",
       "      <td>23:30</td>\n",
       "      <td>5h 25m</td>\n",
       "      <td>1 stop</td>\n",
       "      <td>No info</td>\n",
       "      <td>6218</td>\n",
       "    </tr>\n",
       "    <tr>\n",
       "      <th>4</th>\n",
       "      <td>IndiGo</td>\n",
       "      <td>01/03/2019</td>\n",
       "      <td>Banglore</td>\n",
       "      <td>New Delhi</td>\n",
       "      <td>BLR → NAG → DEL</td>\n",
       "      <td>16:50</td>\n",
       "      <td>21:35</td>\n",
       "      <td>4h 45m</td>\n",
       "      <td>1 stop</td>\n",
       "      <td>No info</td>\n",
       "      <td>13302</td>\n",
       "    </tr>\n",
       "    <tr>\n",
       "      <th>...</th>\n",
       "      <td>...</td>\n",
       "      <td>...</td>\n",
       "      <td>...</td>\n",
       "      <td>...</td>\n",
       "      <td>...</td>\n",
       "      <td>...</td>\n",
       "      <td>...</td>\n",
       "      <td>...</td>\n",
       "      <td>...</td>\n",
       "      <td>...</td>\n",
       "      <td>...</td>\n",
       "    </tr>\n",
       "    <tr>\n",
       "      <th>10678</th>\n",
       "      <td>Air Asia</td>\n",
       "      <td>9/04/2019</td>\n",
       "      <td>Kolkata</td>\n",
       "      <td>Banglore</td>\n",
       "      <td>CCU → BLR</td>\n",
       "      <td>19:55</td>\n",
       "      <td>22:25</td>\n",
       "      <td>2h 30m</td>\n",
       "      <td>non-stop</td>\n",
       "      <td>No info</td>\n",
       "      <td>4107</td>\n",
       "    </tr>\n",
       "    <tr>\n",
       "      <th>10679</th>\n",
       "      <td>Air India</td>\n",
       "      <td>27/04/2019</td>\n",
       "      <td>Kolkata</td>\n",
       "      <td>Banglore</td>\n",
       "      <td>CCU → BLR</td>\n",
       "      <td>20:45</td>\n",
       "      <td>23:20</td>\n",
       "      <td>2h 35m</td>\n",
       "      <td>non-stop</td>\n",
       "      <td>No info</td>\n",
       "      <td>4145</td>\n",
       "    </tr>\n",
       "    <tr>\n",
       "      <th>10680</th>\n",
       "      <td>Jet Airways</td>\n",
       "      <td>27/04/2019</td>\n",
       "      <td>Banglore</td>\n",
       "      <td>Delhi</td>\n",
       "      <td>BLR → DEL</td>\n",
       "      <td>08:20</td>\n",
       "      <td>11:20</td>\n",
       "      <td>3h</td>\n",
       "      <td>non-stop</td>\n",
       "      <td>No info</td>\n",
       "      <td>7229</td>\n",
       "    </tr>\n",
       "    <tr>\n",
       "      <th>10681</th>\n",
       "      <td>Vistara</td>\n",
       "      <td>01/03/2019</td>\n",
       "      <td>Banglore</td>\n",
       "      <td>New Delhi</td>\n",
       "      <td>BLR → DEL</td>\n",
       "      <td>11:30</td>\n",
       "      <td>14:10</td>\n",
       "      <td>2h 40m</td>\n",
       "      <td>non-stop</td>\n",
       "      <td>No info</td>\n",
       "      <td>12648</td>\n",
       "    </tr>\n",
       "    <tr>\n",
       "      <th>10682</th>\n",
       "      <td>Air India</td>\n",
       "      <td>9/05/2019</td>\n",
       "      <td>Delhi</td>\n",
       "      <td>Cochin</td>\n",
       "      <td>DEL → GOI → BOM → COK</td>\n",
       "      <td>10:55</td>\n",
       "      <td>19:15</td>\n",
       "      <td>8h 20m</td>\n",
       "      <td>2 stops</td>\n",
       "      <td>No info</td>\n",
       "      <td>11753</td>\n",
       "    </tr>\n",
       "  </tbody>\n",
       "</table>\n",
       "<p>10683 rows × 11 columns</p>\n",
       "</div>"
      ],
      "text/plain": [
       "           Airline Date_of_Journey    Source Destination  \\\n",
       "0           IndiGo      24/03/2019  Banglore   New Delhi   \n",
       "1        Air India       1/05/2019   Kolkata    Banglore   \n",
       "2      Jet Airways       9/06/2019     Delhi      Cochin   \n",
       "3           IndiGo      12/05/2019   Kolkata    Banglore   \n",
       "4           IndiGo      01/03/2019  Banglore   New Delhi   \n",
       "...            ...             ...       ...         ...   \n",
       "10678     Air Asia       9/04/2019   Kolkata    Banglore   \n",
       "10679    Air India      27/04/2019   Kolkata    Banglore   \n",
       "10680  Jet Airways      27/04/2019  Banglore       Delhi   \n",
       "10681      Vistara      01/03/2019  Banglore   New Delhi   \n",
       "10682    Air India       9/05/2019     Delhi      Cochin   \n",
       "\n",
       "                       Route Dep_Time  Arrival_Time Duration Total_Stops  \\\n",
       "0                  BLR → DEL    22:20  01:10 22 Mar   2h 50m    non-stop   \n",
       "1      CCU → IXR → BBI → BLR    05:50         13:15   7h 25m     2 stops   \n",
       "2      DEL → LKO → BOM → COK    09:25  04:25 10 Jun      19h     2 stops   \n",
       "3            CCU → NAG → BLR    18:05         23:30   5h 25m      1 stop   \n",
       "4            BLR → NAG → DEL    16:50         21:35   4h 45m      1 stop   \n",
       "...                      ...      ...           ...      ...         ...   \n",
       "10678              CCU → BLR    19:55         22:25   2h 30m    non-stop   \n",
       "10679              CCU → BLR    20:45         23:20   2h 35m    non-stop   \n",
       "10680              BLR → DEL    08:20         11:20       3h    non-stop   \n",
       "10681              BLR → DEL    11:30         14:10   2h 40m    non-stop   \n",
       "10682  DEL → GOI → BOM → COK    10:55         19:15   8h 20m     2 stops   \n",
       "\n",
       "      Additional_Info  Price  \n",
       "0             No info   3897  \n",
       "1             No info   7662  \n",
       "2             No info  13882  \n",
       "3             No info   6218  \n",
       "4             No info  13302  \n",
       "...               ...    ...  \n",
       "10678         No info   4107  \n",
       "10679         No info   4145  \n",
       "10680         No info   7229  \n",
       "10681         No info  12648  \n",
       "10682         No info  11753  \n",
       "\n",
       "[10683 rows x 11 columns]"
      ]
     },
     "execution_count": 3,
     "metadata": {},
     "output_type": "execute_result"
    }
   ],
   "source": [
    "#Reading Data\n",
    "df =pd.read_excel(\"../input/flight-fare-prediction-mh/Data_Train.xlsx\")\n",
    "Test=pd.read_excel(\"../input/flight-fare-prediction-mh/Test_set.xlsx\")\n",
    "df"
   ]
  },
  {
   "cell_type": "code",
   "execution_count": 4,
   "id": "c13512cb",
   "metadata": {
    "execution": {
     "iopub.execute_input": "2022-03-28T19:12:48.473812Z",
     "iopub.status.busy": "2022-03-28T19:12:48.473202Z",
     "iopub.status.idle": "2022-03-28T19:12:48.495251Z",
     "shell.execute_reply": "2022-03-28T19:12:48.494651Z",
     "shell.execute_reply.started": "2022-03-28T19:08:51.177262Z"
    },
    "papermill": {
     "duration": 0.114479,
     "end_time": "2022-03-28T19:12:48.495387",
     "exception": false,
     "start_time": "2022-03-28T19:12:48.380908",
     "status": "completed"
    },
    "tags": []
   },
   "outputs": [
    {
     "data": {
      "text/html": [
       "<div>\n",
       "<style scoped>\n",
       "    .dataframe tbody tr th:only-of-type {\n",
       "        vertical-align: middle;\n",
       "    }\n",
       "\n",
       "    .dataframe tbody tr th {\n",
       "        vertical-align: top;\n",
       "    }\n",
       "\n",
       "    .dataframe thead th {\n",
       "        text-align: right;\n",
       "    }\n",
       "</style>\n",
       "<table border=\"1\" class=\"dataframe\">\n",
       "  <thead>\n",
       "    <tr style=\"text-align: right;\">\n",
       "      <th></th>\n",
       "      <th>unicos</th>\n",
       "      <th>missing</th>\n",
       "      <th>tipo</th>\n",
       "    </tr>\n",
       "  </thead>\n",
       "  <tbody>\n",
       "    <tr>\n",
       "      <th>Airline</th>\n",
       "      <td>12</td>\n",
       "      <td>0</td>\n",
       "      <td>object</td>\n",
       "    </tr>\n",
       "    <tr>\n",
       "      <th>Date_of_Journey</th>\n",
       "      <td>44</td>\n",
       "      <td>0</td>\n",
       "      <td>object</td>\n",
       "    </tr>\n",
       "    <tr>\n",
       "      <th>Source</th>\n",
       "      <td>5</td>\n",
       "      <td>0</td>\n",
       "      <td>object</td>\n",
       "    </tr>\n",
       "    <tr>\n",
       "      <th>Destination</th>\n",
       "      <td>6</td>\n",
       "      <td>0</td>\n",
       "      <td>object</td>\n",
       "    </tr>\n",
       "    <tr>\n",
       "      <th>Route</th>\n",
       "      <td>128</td>\n",
       "      <td>1</td>\n",
       "      <td>object</td>\n",
       "    </tr>\n",
       "    <tr>\n",
       "      <th>Dep_Time</th>\n",
       "      <td>222</td>\n",
       "      <td>0</td>\n",
       "      <td>object</td>\n",
       "    </tr>\n",
       "    <tr>\n",
       "      <th>Arrival_Time</th>\n",
       "      <td>1343</td>\n",
       "      <td>0</td>\n",
       "      <td>object</td>\n",
       "    </tr>\n",
       "    <tr>\n",
       "      <th>Duration</th>\n",
       "      <td>368</td>\n",
       "      <td>0</td>\n",
       "      <td>object</td>\n",
       "    </tr>\n",
       "    <tr>\n",
       "      <th>Total_Stops</th>\n",
       "      <td>5</td>\n",
       "      <td>1</td>\n",
       "      <td>object</td>\n",
       "    </tr>\n",
       "    <tr>\n",
       "      <th>Additional_Info</th>\n",
       "      <td>10</td>\n",
       "      <td>0</td>\n",
       "      <td>object</td>\n",
       "    </tr>\n",
       "    <tr>\n",
       "      <th>Price</th>\n",
       "      <td>1870</td>\n",
       "      <td>0</td>\n",
       "      <td>int64</td>\n",
       "    </tr>\n",
       "  </tbody>\n",
       "</table>\n",
       "</div>"
      ],
      "text/plain": [
       "                 unicos  missing    tipo\n",
       "Airline              12        0  object\n",
       "Date_of_Journey      44        0  object\n",
       "Source                5        0  object\n",
       "Destination           6        0  object\n",
       "Route               128        1  object\n",
       "Dep_Time            222        0  object\n",
       "Arrival_Time       1343        0  object\n",
       "Duration            368        0  object\n",
       "Total_Stops           5        1  object\n",
       "Additional_Info      10        0  object\n",
       "Price              1870        0   int64"
      ]
     },
     "execution_count": 4,
     "metadata": {},
     "output_type": "execute_result"
    }
   ],
   "source": [
    "#Dataframe summary\n",
    "pd.DataFrame({'unicos':df.nunique(),\n",
    "              'missing': df.isna().sum(),\n",
    "              'tipo':df.dtypes})"
   ]
  },
  {
   "cell_type": "code",
   "execution_count": 5,
   "id": "8a319e49",
   "metadata": {
    "execution": {
     "iopub.execute_input": "2022-03-28T19:12:48.672897Z",
     "iopub.status.busy": "2022-03-28T19:12:48.672093Z",
     "iopub.status.idle": "2022-03-28T19:12:48.688101Z",
     "shell.execute_reply": "2022-03-28T19:12:48.688518Z",
     "shell.execute_reply.started": "2022-03-28T19:08:51.217295Z"
    },
    "papermill": {
     "duration": 0.109668,
     "end_time": "2022-03-28T19:12:48.688685",
     "exception": false,
     "start_time": "2022-03-28T19:12:48.579017",
     "status": "completed"
    },
    "tags": []
   },
   "outputs": [
    {
     "data": {
      "text/html": [
       "<div>\n",
       "<style scoped>\n",
       "    .dataframe tbody tr th:only-of-type {\n",
       "        vertical-align: middle;\n",
       "    }\n",
       "\n",
       "    .dataframe tbody tr th {\n",
       "        vertical-align: top;\n",
       "    }\n",
       "\n",
       "    .dataframe thead th {\n",
       "        text-align: right;\n",
       "    }\n",
       "</style>\n",
       "<table border=\"1\" class=\"dataframe\">\n",
       "  <thead>\n",
       "    <tr style=\"text-align: right;\">\n",
       "      <th></th>\n",
       "      <th>Airline</th>\n",
       "      <th>Date_of_Journey</th>\n",
       "      <th>Source</th>\n",
       "      <th>Destination</th>\n",
       "      <th>Route</th>\n",
       "      <th>Dep_Time</th>\n",
       "      <th>Arrival_Time</th>\n",
       "      <th>Duration</th>\n",
       "      <th>Total_Stops</th>\n",
       "      <th>Additional_Info</th>\n",
       "      <th>Price</th>\n",
       "    </tr>\n",
       "  </thead>\n",
       "  <tbody>\n",
       "    <tr>\n",
       "      <th>9039</th>\n",
       "      <td>Air India</td>\n",
       "      <td>6/05/2019</td>\n",
       "      <td>Delhi</td>\n",
       "      <td>Cochin</td>\n",
       "      <td>NaN</td>\n",
       "      <td>09:45</td>\n",
       "      <td>09:25 07 May</td>\n",
       "      <td>23h 40m</td>\n",
       "      <td>NaN</td>\n",
       "      <td>No info</td>\n",
       "      <td>7480</td>\n",
       "    </tr>\n",
       "    <tr>\n",
       "      <th>9039</th>\n",
       "      <td>Air India</td>\n",
       "      <td>6/05/2019</td>\n",
       "      <td>Delhi</td>\n",
       "      <td>Cochin</td>\n",
       "      <td>NaN</td>\n",
       "      <td>09:45</td>\n",
       "      <td>09:25 07 May</td>\n",
       "      <td>23h 40m</td>\n",
       "      <td>NaN</td>\n",
       "      <td>No info</td>\n",
       "      <td>7480</td>\n",
       "    </tr>\n",
       "  </tbody>\n",
       "</table>\n",
       "</div>"
      ],
      "text/plain": [
       "        Airline Date_of_Journey Source Destination Route Dep_Time  \\\n",
       "9039  Air India       6/05/2019  Delhi      Cochin   NaN    09:45   \n",
       "9039  Air India       6/05/2019  Delhi      Cochin   NaN    09:45   \n",
       "\n",
       "      Arrival_Time Duration Total_Stops Additional_Info  Price  \n",
       "9039  09:25 07 May  23h 40m         NaN         No info   7480  \n",
       "9039  09:25 07 May  23h 40m         NaN         No info   7480  "
      ]
     },
     "execution_count": 5,
     "metadata": {},
     "output_type": "execute_result"
    }
   ],
   "source": [
    "df[df.isna().values]"
   ]
  },
  {
   "cell_type": "code",
   "execution_count": 6,
   "id": "e1a02895",
   "metadata": {
    "execution": {
     "iopub.execute_input": "2022-03-28T19:12:48.859642Z",
     "iopub.status.busy": "2022-03-28T19:12:48.858763Z",
     "iopub.status.idle": "2022-03-28T19:12:48.864618Z",
     "shell.execute_reply": "2022-03-28T19:12:48.865160Z",
     "shell.execute_reply.started": "2022-03-28T19:08:51.247103Z"
    },
    "papermill": {
     "duration": 0.093079,
     "end_time": "2022-03-28T19:12:48.865331",
     "exception": false,
     "start_time": "2022-03-28T19:12:48.772252",
     "status": "completed"
    },
    "tags": []
   },
   "outputs": [],
   "source": [
    "#so you should drop row of the nullvalues\n",
    "df.drop([9039],axis=0,inplace=True)"
   ]
  },
  {
   "cell_type": "code",
   "execution_count": 7,
   "id": "a3cb3460",
   "metadata": {
    "execution": {
     "iopub.execute_input": "2022-03-28T19:12:49.036595Z",
     "iopub.status.busy": "2022-03-28T19:12:49.035625Z",
     "iopub.status.idle": "2022-03-28T19:12:49.044575Z",
     "shell.execute_reply": "2022-03-28T19:12:49.045077Z",
     "shell.execute_reply.started": "2022-03-28T19:08:51.255860Z"
    },
    "papermill": {
     "duration": 0.096536,
     "end_time": "2022-03-28T19:12:49.045251",
     "exception": false,
     "start_time": "2022-03-28T19:12:48.948715",
     "status": "completed"
    },
    "tags": []
   },
   "outputs": [],
   "source": [
    "df.reset_index(inplace=True)\n",
    "df.drop(['index'],axis=1,inplace=True)"
   ]
  },
  {
   "cell_type": "code",
   "execution_count": 8,
   "id": "2fca7e7c",
   "metadata": {
    "execution": {
     "iopub.execute_input": "2022-03-28T19:12:49.238051Z",
     "iopub.status.busy": "2022-03-28T19:12:49.237100Z",
     "iopub.status.idle": "2022-03-28T19:12:49.253624Z",
     "shell.execute_reply": "2022-03-28T19:12:49.253037Z",
     "shell.execute_reply.started": "2022-03-28T19:08:51.269372Z"
    },
    "papermill": {
     "duration": 0.109745,
     "end_time": "2022-03-28T19:12:49.253764",
     "exception": false,
     "start_time": "2022-03-28T19:12:49.144019",
     "status": "completed"
    },
    "tags": []
   },
   "outputs": [
    {
     "name": "stdout",
     "output_type": "stream",
     "text": [
      "<class 'pandas.core.frame.DataFrame'>\n",
      "RangeIndex: 10682 entries, 0 to 10681\n",
      "Data columns (total 11 columns):\n",
      " #   Column           Non-Null Count  Dtype \n",
      "---  ------           --------------  ----- \n",
      " 0   Airline          10682 non-null  object\n",
      " 1   Date_of_Journey  10682 non-null  object\n",
      " 2   Source           10682 non-null  object\n",
      " 3   Destination      10682 non-null  object\n",
      " 4   Route            10682 non-null  object\n",
      " 5   Dep_Time         10682 non-null  object\n",
      " 6   Arrival_Time     10682 non-null  object\n",
      " 7   Duration         10682 non-null  object\n",
      " 8   Total_Stops      10682 non-null  object\n",
      " 9   Additional_Info  10682 non-null  object\n",
      " 10  Price            10682 non-null  int64 \n",
      "dtypes: int64(1), object(10)\n",
      "memory usage: 918.1+ KB\n"
     ]
    }
   ],
   "source": [
    "df.info()"
   ]
  },
  {
   "cell_type": "code",
   "execution_count": 9,
   "id": "58363d32",
   "metadata": {
    "execution": {
     "iopub.execute_input": "2022-03-28T19:12:49.427625Z",
     "iopub.status.busy": "2022-03-28T19:12:49.426969Z",
     "iopub.status.idle": "2022-03-28T19:12:49.440597Z",
     "shell.execute_reply": "2022-03-28T19:12:49.441030Z",
     "shell.execute_reply.started": "2022-03-28T19:08:51.300695Z"
    },
    "papermill": {
     "duration": 0.102302,
     "end_time": "2022-03-28T19:12:49.441194",
     "exception": false,
     "start_time": "2022-03-28T19:12:49.338892",
     "status": "completed"
    },
    "tags": []
   },
   "outputs": [
    {
     "data": {
      "text/html": [
       "<div>\n",
       "<style scoped>\n",
       "    .dataframe tbody tr th:only-of-type {\n",
       "        vertical-align: middle;\n",
       "    }\n",
       "\n",
       "    .dataframe tbody tr th {\n",
       "        vertical-align: top;\n",
       "    }\n",
       "\n",
       "    .dataframe thead th {\n",
       "        text-align: right;\n",
       "    }\n",
       "</style>\n",
       "<table border=\"1\" class=\"dataframe\">\n",
       "  <thead>\n",
       "    <tr style=\"text-align: right;\">\n",
       "      <th></th>\n",
       "      <th>Price</th>\n",
       "    </tr>\n",
       "  </thead>\n",
       "  <tbody>\n",
       "    <tr>\n",
       "      <th>count</th>\n",
       "      <td>10682.000000</td>\n",
       "    </tr>\n",
       "    <tr>\n",
       "      <th>mean</th>\n",
       "      <td>9087.214567</td>\n",
       "    </tr>\n",
       "    <tr>\n",
       "      <th>std</th>\n",
       "      <td>4611.548810</td>\n",
       "    </tr>\n",
       "    <tr>\n",
       "      <th>min</th>\n",
       "      <td>1759.000000</td>\n",
       "    </tr>\n",
       "    <tr>\n",
       "      <th>25%</th>\n",
       "      <td>5277.000000</td>\n",
       "    </tr>\n",
       "    <tr>\n",
       "      <th>50%</th>\n",
       "      <td>8372.000000</td>\n",
       "    </tr>\n",
       "    <tr>\n",
       "      <th>75%</th>\n",
       "      <td>12373.000000</td>\n",
       "    </tr>\n",
       "    <tr>\n",
       "      <th>max</th>\n",
       "      <td>79512.000000</td>\n",
       "    </tr>\n",
       "  </tbody>\n",
       "</table>\n",
       "</div>"
      ],
      "text/plain": [
       "              Price\n",
       "count  10682.000000\n",
       "mean    9087.214567\n",
       "std     4611.548810\n",
       "min     1759.000000\n",
       "25%     5277.000000\n",
       "50%     8372.000000\n",
       "75%    12373.000000\n",
       "max    79512.000000"
      ]
     },
     "execution_count": 9,
     "metadata": {},
     "output_type": "execute_result"
    }
   ],
   "source": [
    "df.describe()"
   ]
  },
  {
   "cell_type": "markdown",
   "id": "c5883360",
   "metadata": {
    "papermill": {
     "duration": 0.08472,
     "end_time": "2022-03-28T19:12:49.611259",
     "exception": false,
     "start_time": "2022-03-28T19:12:49.526539",
     "status": "completed"
    },
    "tags": []
   },
   "source": [
    "# Handling numerical data\n"
   ]
  },
  {
   "cell_type": "code",
   "execution_count": 10,
   "id": "c26dc29b",
   "metadata": {
    "execution": {
     "iopub.execute_input": "2022-03-28T19:12:49.784209Z",
     "iopub.status.busy": "2022-03-28T19:12:49.783605Z",
     "iopub.status.idle": "2022-03-28T19:12:49.800530Z",
     "shell.execute_reply": "2022-03-28T19:12:49.800955Z",
     "shell.execute_reply.started": "2022-03-28T19:08:51.318318Z"
    },
    "papermill": {
     "duration": 0.105345,
     "end_time": "2022-03-28T19:12:49.801133",
     "exception": false,
     "start_time": "2022-03-28T19:12:49.695788",
     "status": "completed"
    },
    "tags": []
   },
   "outputs": [],
   "source": [
    "#Date_of_Journey\n",
    "#extract day and month from date of journy\n",
    "df[\"Day_of_Journey\"]=pd.to_datetime(df[\"Date_of_Journey\"],format=\"%d/%m/%Y\").dt.day\n",
    "df[\"month_of_Journey\"]=pd.to_datetime(df[\"Date_of_Journey\"],format=\"%d/%m/%Y\").dt.month\n"
   ]
  },
  {
   "cell_type": "code",
   "execution_count": 11,
   "id": "16194d82",
   "metadata": {
    "execution": {
     "iopub.execute_input": "2022-03-28T19:12:49.978981Z",
     "iopub.status.busy": "2022-03-28T19:12:49.978400Z",
     "iopub.status.idle": "2022-03-28T19:12:49.983421Z",
     "shell.execute_reply": "2022-03-28T19:12:49.983862Z",
     "shell.execute_reply.started": "2022-03-28T19:08:51.335708Z"
    },
    "papermill": {
     "duration": 0.095108,
     "end_time": "2022-03-28T19:12:49.984018",
     "exception": false,
     "start_time": "2022-03-28T19:12:49.888910",
     "status": "completed"
    },
    "tags": []
   },
   "outputs": [
    {
     "data": {
      "text/plain": [
       "array([24,  1,  9, 12, 27, 18,  3, 15,  6, 21])"
      ]
     },
     "execution_count": 11,
     "metadata": {},
     "output_type": "execute_result"
    }
   ],
   "source": [
    "df[\"Day_of_Journey\"].unique()"
   ]
  },
  {
   "cell_type": "code",
   "execution_count": 12,
   "id": "a211c59a",
   "metadata": {
    "execution": {
     "iopub.execute_input": "2022-03-28T19:12:50.162016Z",
     "iopub.status.busy": "2022-03-28T19:12:50.161406Z",
     "iopub.status.idle": "2022-03-28T19:12:50.165922Z",
     "shell.execute_reply": "2022-03-28T19:12:50.166429Z",
     "shell.execute_reply.started": "2022-03-28T19:08:51.346147Z"
    },
    "papermill": {
     "duration": 0.09477,
     "end_time": "2022-03-28T19:12:50.166626",
     "exception": false,
     "start_time": "2022-03-28T19:12:50.071856",
     "status": "completed"
    },
    "tags": []
   },
   "outputs": [
    {
     "data": {
      "text/plain": [
       "array([3, 5, 6, 4])"
      ]
     },
     "execution_count": 12,
     "metadata": {},
     "output_type": "execute_result"
    }
   ],
   "source": [
    "df[\"month_of_Journey\"].unique()"
   ]
  },
  {
   "cell_type": "code",
   "execution_count": 13,
   "id": "18c1adba",
   "metadata": {
    "execution": {
     "iopub.execute_input": "2022-03-28T19:12:50.340642Z",
     "iopub.status.busy": "2022-03-28T19:12:50.340090Z",
     "iopub.status.idle": "2022-03-28T19:12:50.346804Z",
     "shell.execute_reply": "2022-03-28T19:12:50.347312Z",
     "shell.execute_reply.started": "2022-03-28T19:08:51.358415Z"
    },
    "papermill": {
     "duration": 0.095163,
     "end_time": "2022-03-28T19:12:50.347467",
     "exception": false,
     "start_time": "2022-03-28T19:12:50.252304",
     "status": "completed"
    },
    "tags": []
   },
   "outputs": [
    {
     "data": {
      "text/plain": [
       "{1}"
      ]
     },
     "execution_count": 13,
     "metadata": {},
     "output_type": "execute_result"
    }
   ],
   "source": [
    "#Dep_Time\n",
    "set([len(i.split()) for i in df[\"Dep_Time\"].tolist()])"
   ]
  },
  {
   "cell_type": "markdown",
   "id": "b3d16a64",
   "metadata": {
    "papermill": {
     "duration": 0.086247,
     "end_time": "2022-03-28T19:12:50.519260",
     "exception": false,
     "start_time": "2022-03-28T19:12:50.433013",
     "status": "completed"
    },
    "tags": []
   },
   "source": [
    "so there is one form as H:M "
   ]
  },
  {
   "cell_type": "code",
   "execution_count": 14,
   "id": "1fc03ef6",
   "metadata": {
    "execution": {
     "iopub.execute_input": "2022-03-28T19:12:50.693837Z",
     "iopub.status.busy": "2022-03-28T19:12:50.693264Z",
     "iopub.status.idle": "2022-03-28T19:12:50.708025Z",
     "shell.execute_reply": "2022-03-28T19:12:50.708516Z",
     "shell.execute_reply.started": "2022-03-28T19:08:51.372302Z"
    },
    "papermill": {
     "duration": 0.103573,
     "end_time": "2022-03-28T19:12:50.708692",
     "exception": false,
     "start_time": "2022-03-28T19:12:50.605119",
     "status": "completed"
    },
    "tags": []
   },
   "outputs": [],
   "source": [
    "#From Dept_time  extract hour and minutes \n",
    "df[\"Hour_Dep_Time\"]=df[\"Dep_Time\"].apply(lambda x:x.split(\":\")[0]).astype(int)\n",
    "df[\"minute_Dep_Time\"]=df[\"Dep_Time\"].apply(lambda x:x.split(\":\")[1]).astype(int)"
   ]
  },
  {
   "cell_type": "code",
   "execution_count": 15,
   "id": "5e4ef1a9",
   "metadata": {
    "execution": {
     "iopub.execute_input": "2022-03-28T19:12:50.886329Z",
     "iopub.status.busy": "2022-03-28T19:12:50.885756Z",
     "iopub.status.idle": "2022-03-28T19:12:50.893068Z",
     "shell.execute_reply": "2022-03-28T19:12:50.893532Z",
     "shell.execute_reply.started": "2022-03-28T19:08:51.399887Z"
    },
    "papermill": {
     "duration": 0.095991,
     "end_time": "2022-03-28T19:12:50.893694",
     "exception": false,
     "start_time": "2022-03-28T19:12:50.797703",
     "status": "completed"
    },
    "tags": []
   },
   "outputs": [
    {
     "data": {
      "text/plain": [
       "{1, 3}"
      ]
     },
     "execution_count": 15,
     "metadata": {},
     "output_type": "execute_result"
    }
   ],
   "source": [
    "#Arrival_Time\n",
    "\n",
    "set([len(i.split()) for i in df[\"Arrival_Time\"].tolist()])\n"
   ]
  },
  {
   "cell_type": "markdown",
   "id": "391f689a",
   "metadata": {
    "papermill": {
     "duration": 0.086567,
     "end_time": "2022-03-28T19:12:51.066602",
     "exception": false,
     "start_time": "2022-03-28T19:12:50.980035",
     "status": "completed"
    },
    "tags": []
   },
   "source": [
    "so there are two forma as H:M or H:M + name of day +name of month"
   ]
  },
  {
   "cell_type": "code",
   "execution_count": 16,
   "id": "f4cd0c3f",
   "metadata": {
    "execution": {
     "iopub.execute_input": "2022-03-28T19:12:51.256301Z",
     "iopub.status.busy": "2022-03-28T19:12:51.255692Z",
     "iopub.status.idle": "2022-03-28T19:12:51.258912Z",
     "shell.execute_reply": "2022-03-28T19:12:51.259295Z",
     "shell.execute_reply.started": "2022-03-28T19:08:51.410115Z"
    },
    "papermill": {
     "duration": 0.104768,
     "end_time": "2022-03-28T19:12:51.259451",
     "exception": false,
     "start_time": "2022-03-28T19:12:51.154683",
     "status": "completed"
    },
    "tags": []
   },
   "outputs": [
    {
     "data": {
      "text/plain": [
       "1    6348\n",
       "3    4334\n",
       "dtype: int64"
      ]
     },
     "execution_count": 16,
     "metadata": {},
     "output_type": "execute_result"
    }
   ],
   "source": [
    "pd.Series([len(i.split()) for i in df[\"Arrival_Time\"].tolist()]).value_counts()\n"
   ]
  },
  {
   "cell_type": "markdown",
   "id": "cb4c7200",
   "metadata": {
    "papermill": {
     "duration": 0.086256,
     "end_time": "2022-03-28T19:12:51.432317",
     "exception": false,
     "start_time": "2022-03-28T19:12:51.346061",
     "status": "completed"
    },
    "tags": []
   },
   "source": [
    "there are 6348 as H:M and 4334 as H:M + name of day +name of month"
   ]
  },
  {
   "cell_type": "code",
   "execution_count": 17,
   "id": "38a288fc",
   "metadata": {
    "execution": {
     "iopub.execute_input": "2022-03-28T19:12:51.608809Z",
     "iopub.status.busy": "2022-03-28T19:12:51.608230Z",
     "iopub.status.idle": "2022-03-28T19:12:51.615727Z",
     "shell.execute_reply": "2022-03-28T19:12:51.616128Z",
     "shell.execute_reply.started": "2022-03-28T19:08:51.430964Z"
    },
    "papermill": {
     "duration": 0.097093,
     "end_time": "2022-03-28T19:12:51.616293",
     "exception": false,
     "start_time": "2022-03-28T19:12:51.519200",
     "status": "completed"
    },
    "tags": []
   },
   "outputs": [],
   "source": [
    "df['AccurateArrivalTime'] = df['Arrival_Time'].apply(lambda x : x.split()[0])"
   ]
  },
  {
   "cell_type": "code",
   "execution_count": 18,
   "id": "858aacc1",
   "metadata": {
    "execution": {
     "iopub.execute_input": "2022-03-28T19:12:51.795081Z",
     "iopub.status.busy": "2022-03-28T19:12:51.794514Z",
     "iopub.status.idle": "2022-03-28T19:12:51.815502Z",
     "shell.execute_reply": "2022-03-28T19:12:51.815917Z",
     "shell.execute_reply.started": "2022-03-28T19:08:51.446459Z"
    },
    "papermill": {
     "duration": 0.111649,
     "end_time": "2022-03-28T19:12:51.816094",
     "exception": false,
     "start_time": "2022-03-28T19:12:51.704445",
     "status": "completed"
    },
    "tags": []
   },
   "outputs": [],
   "source": [
    "df['AccurateArrivalDay']=df['Arrival_Time'].apply(lambda x:x.split()[1] if len(x.split())==3 else \"None\")\n",
    "df['AccurateArrivalmonth']=df['Arrival_Time'].apply(lambda x:str(x).split()[2] if len(str(x).split())==3 else \"None\")\n",
    "df['ArrivalHour'] = df['AccurateArrivalTime'].apply(lambda x : x.split(':')[0])"
   ]
  },
  {
   "cell_type": "code",
   "execution_count": 19,
   "id": "d8fb370e",
   "metadata": {
    "execution": {
     "iopub.execute_input": "2022-03-28T19:12:51.992385Z",
     "iopub.status.busy": "2022-03-28T19:12:51.991820Z",
     "iopub.status.idle": "2022-03-28T19:12:51.997114Z",
     "shell.execute_reply": "2022-03-28T19:12:51.997580Z",
     "shell.execute_reply.started": "2022-03-28T19:08:51.476649Z"
    },
    "papermill": {
     "duration": 0.095463,
     "end_time": "2022-03-28T19:12:51.997735",
     "exception": false,
     "start_time": "2022-03-28T19:12:51.902272",
     "status": "completed"
    },
    "tags": []
   },
   "outputs": [
    {
     "data": {
      "text/plain": [
       "array(['22', 'None', '10', '13', '02', '04', '28', '19', '07', '16', '25',\n",
       "       '20', '23', '11', '03', '08', '05', '26', '29', '17'], dtype=object)"
      ]
     },
     "execution_count": 19,
     "metadata": {},
     "output_type": "execute_result"
    }
   ],
   "source": [
    "df['AccurateArrivalDay'].unique()"
   ]
  },
  {
   "cell_type": "code",
   "execution_count": 20,
   "id": "2c5780a2",
   "metadata": {
    "execution": {
     "iopub.execute_input": "2022-03-28T19:12:52.177690Z",
     "iopub.status.busy": "2022-03-28T19:12:52.177039Z",
     "iopub.status.idle": "2022-03-28T19:12:52.182837Z",
     "shell.execute_reply": "2022-03-28T19:12:52.183261Z",
     "shell.execute_reply.started": "2022-03-28T19:08:51.486239Z"
    },
    "papermill": {
     "duration": 0.097226,
     "end_time": "2022-03-28T19:12:52.183414",
     "exception": false,
     "start_time": "2022-03-28T19:12:52.086188",
     "status": "completed"
    },
    "tags": []
   },
   "outputs": [
    {
     "data": {
      "text/plain": [
       "array(['Mar', 'None', 'Jun', 'May', 'Apr'], dtype=object)"
      ]
     },
     "execution_count": 20,
     "metadata": {},
     "output_type": "execute_result"
    }
   ],
   "source": [
    "df['AccurateArrivalmonth'].unique()"
   ]
  },
  {
   "cell_type": "code",
   "execution_count": 21,
   "id": "17b6f275",
   "metadata": {
    "execution": {
     "iopub.execute_input": "2022-03-28T19:12:52.362914Z",
     "iopub.status.busy": "2022-03-28T19:12:52.362021Z",
     "iopub.status.idle": "2022-03-28T19:12:52.577400Z",
     "shell.execute_reply": "2022-03-28T19:12:52.576916Z",
     "shell.execute_reply.started": "2022-03-28T19:08:51.501586Z"
    },
    "papermill": {
     "duration": 0.30617,
     "end_time": "2022-03-28T19:12:52.577583",
     "exception": false,
     "start_time": "2022-03-28T19:12:52.271413",
     "status": "completed"
    },
    "tags": []
   },
   "outputs": [],
   "source": [
    "#To find an error in the data\n",
    "def FindWrongData(DepDay,ArrivalDay):\n",
    "    if ArrivalDay !=\"None\":\n",
    "        if int(ArrivalDay)<int(DepDay):\n",
    "            return True\n",
    "        else :\n",
    "            return False\n",
    "    else: \n",
    "        return False\n",
    "df['DayDifference']=df.apply(lambda x:FindWrongData(x.Day_of_Journey,x.AccurateArrivalDay),axis=1)"
   ]
  },
  {
   "cell_type": "code",
   "execution_count": 22,
   "id": "528a28e5",
   "metadata": {
    "execution": {
     "iopub.execute_input": "2022-03-28T19:12:52.780087Z",
     "iopub.status.busy": "2022-03-28T19:12:52.779372Z",
     "iopub.status.idle": "2022-03-28T19:12:52.793009Z",
     "shell.execute_reply": "2022-03-28T19:12:52.793441Z",
     "shell.execute_reply.started": "2022-03-28T19:08:51.815314Z"
    },
    "papermill": {
     "duration": 0.113767,
     "end_time": "2022-03-28T19:12:52.793619",
     "exception": false,
     "start_time": "2022-03-28T19:12:52.679852",
     "status": "completed"
    },
    "tags": []
   },
   "outputs": [
    {
     "data": {
      "text/html": [
       "<div>\n",
       "<style scoped>\n",
       "    .dataframe tbody tr th:only-of-type {\n",
       "        vertical-align: middle;\n",
       "    }\n",
       "\n",
       "    .dataframe tbody tr th {\n",
       "        vertical-align: top;\n",
       "    }\n",
       "\n",
       "    .dataframe thead th {\n",
       "        text-align: right;\n",
       "    }\n",
       "</style>\n",
       "<table border=\"1\" class=\"dataframe\">\n",
       "  <thead>\n",
       "    <tr style=\"text-align: right;\">\n",
       "      <th></th>\n",
       "      <th>Day_of_Journey</th>\n",
       "      <th>AccurateArrivalDay</th>\n",
       "      <th>DayDifference</th>\n",
       "    </tr>\n",
       "  </thead>\n",
       "  <tbody>\n",
       "    <tr>\n",
       "      <th>0</th>\n",
       "      <td>24</td>\n",
       "      <td>22</td>\n",
       "      <td>True</td>\n",
       "    </tr>\n",
       "    <tr>\n",
       "      <th>1</th>\n",
       "      <td>1</td>\n",
       "      <td>None</td>\n",
       "      <td>False</td>\n",
       "    </tr>\n",
       "    <tr>\n",
       "      <th>2</th>\n",
       "      <td>9</td>\n",
       "      <td>10</td>\n",
       "      <td>False</td>\n",
       "    </tr>\n",
       "    <tr>\n",
       "      <th>3</th>\n",
       "      <td>12</td>\n",
       "      <td>None</td>\n",
       "      <td>False</td>\n",
       "    </tr>\n",
       "    <tr>\n",
       "      <th>4</th>\n",
       "      <td>1</td>\n",
       "      <td>None</td>\n",
       "      <td>False</td>\n",
       "    </tr>\n",
       "    <tr>\n",
       "      <th>...</th>\n",
       "      <td>...</td>\n",
       "      <td>...</td>\n",
       "      <td>...</td>\n",
       "    </tr>\n",
       "    <tr>\n",
       "      <th>10677</th>\n",
       "      <td>9</td>\n",
       "      <td>None</td>\n",
       "      <td>False</td>\n",
       "    </tr>\n",
       "    <tr>\n",
       "      <th>10678</th>\n",
       "      <td>27</td>\n",
       "      <td>None</td>\n",
       "      <td>False</td>\n",
       "    </tr>\n",
       "    <tr>\n",
       "      <th>10679</th>\n",
       "      <td>27</td>\n",
       "      <td>None</td>\n",
       "      <td>False</td>\n",
       "    </tr>\n",
       "    <tr>\n",
       "      <th>10680</th>\n",
       "      <td>1</td>\n",
       "      <td>None</td>\n",
       "      <td>False</td>\n",
       "    </tr>\n",
       "    <tr>\n",
       "      <th>10681</th>\n",
       "      <td>9</td>\n",
       "      <td>None</td>\n",
       "      <td>False</td>\n",
       "    </tr>\n",
       "  </tbody>\n",
       "</table>\n",
       "<p>10682 rows × 3 columns</p>\n",
       "</div>"
      ],
      "text/plain": [
       "       Day_of_Journey AccurateArrivalDay  DayDifference\n",
       "0                  24                 22           True\n",
       "1                   1               None          False\n",
       "2                   9                 10          False\n",
       "3                  12               None          False\n",
       "4                   1               None          False\n",
       "...               ...                ...            ...\n",
       "10677               9               None          False\n",
       "10678              27               None          False\n",
       "10679              27               None          False\n",
       "10680               1               None          False\n",
       "10681               9               None          False\n",
       "\n",
       "[10682 rows x 3 columns]"
      ]
     },
     "execution_count": 22,
     "metadata": {},
     "output_type": "execute_result"
    }
   ],
   "source": [
    "#errors in the data as true in column of DayDifference\n",
    "df[['Day_of_Journey','AccurateArrivalDay','DayDifference']]"
   ]
  },
  {
   "cell_type": "code",
   "execution_count": 23,
   "id": "86ee7f6c",
   "metadata": {
    "execution": {
     "iopub.execute_input": "2022-03-28T19:12:52.972072Z",
     "iopub.status.busy": "2022-03-28T19:12:52.971474Z",
     "iopub.status.idle": "2022-03-28T19:12:52.978457Z",
     "shell.execute_reply": "2022-03-28T19:12:52.978984Z",
     "shell.execute_reply.started": "2022-03-28T19:08:51.833095Z"
    },
    "papermill": {
     "duration": 0.097911,
     "end_time": "2022-03-28T19:12:52.979142",
     "exception": false,
     "start_time": "2022-03-28T19:12:52.881231",
     "status": "completed"
    },
    "tags": []
   },
   "outputs": [
    {
     "data": {
      "text/plain": [
       "False    10593\n",
       "True        89\n",
       "Name: DayDifference, dtype: int64"
      ]
     },
     "execution_count": 23,
     "metadata": {},
     "output_type": "execute_result"
    }
   ],
   "source": [
    "df[['Day_of_Journey','AccurateArrivalDay','DayDifference']][\"DayDifference\"].value_counts()"
   ]
  },
  {
   "cell_type": "markdown",
   "id": "26234d3f",
   "metadata": {
    "papermill": {
     "duration": 0.087199,
     "end_time": "2022-03-28T19:12:53.154300",
     "exception": false,
     "start_time": "2022-03-28T19:12:53.067101",
     "status": "completed"
    },
    "tags": []
   },
   "source": [
    "Found about 89 errors"
   ]
  },
  {
   "cell_type": "code",
   "execution_count": 24,
   "id": "6b520df1",
   "metadata": {
    "execution": {
     "iopub.execute_input": "2022-03-28T19:12:53.335237Z",
     "iopub.status.busy": "2022-03-28T19:12:53.334669Z",
     "iopub.status.idle": "2022-03-28T19:12:53.340356Z",
     "shell.execute_reply": "2022-03-28T19:12:53.340781Z",
     "shell.execute_reply.started": "2022-03-28T19:08:51.849866Z"
    },
    "papermill": {
     "duration": 0.097569,
     "end_time": "2022-03-28T19:12:53.340953",
     "exception": false,
     "start_time": "2022-03-28T19:12:53.243384",
     "status": "completed"
    },
    "tags": []
   },
   "outputs": [],
   "source": [
    "#rongIndices\n",
    "wrongIndices=df[df[\"DayDifference\"]==True].index"
   ]
  },
  {
   "cell_type": "code",
   "execution_count": 25,
   "id": "71e290d2",
   "metadata": {
    "execution": {
     "iopub.execute_input": "2022-03-28T19:12:53.520350Z",
     "iopub.status.busy": "2022-03-28T19:12:53.519775Z",
     "iopub.status.idle": "2022-03-28T19:12:53.530046Z",
     "shell.execute_reply": "2022-03-28T19:12:53.530463Z",
     "shell.execute_reply.started": "2022-03-28T19:08:51.858781Z"
    },
    "papermill": {
     "duration": 0.101086,
     "end_time": "2022-03-28T19:12:53.530657",
     "exception": false,
     "start_time": "2022-03-28T19:12:53.429571",
     "status": "completed"
    },
    "tags": []
   },
   "outputs": [
    {
     "data": {
      "text/html": [
       "<div>\n",
       "<style scoped>\n",
       "    .dataframe tbody tr th:only-of-type {\n",
       "        vertical-align: middle;\n",
       "    }\n",
       "\n",
       "    .dataframe tbody tr th {\n",
       "        vertical-align: top;\n",
       "    }\n",
       "\n",
       "    .dataframe thead th {\n",
       "        text-align: right;\n",
       "    }\n",
       "</style>\n",
       "<table border=\"1\" class=\"dataframe\">\n",
       "  <thead>\n",
       "    <tr style=\"text-align: right;\">\n",
       "      <th></th>\n",
       "      <th>Day_of_Journey</th>\n",
       "      <th>AccurateArrivalDay</th>\n",
       "    </tr>\n",
       "  </thead>\n",
       "  <tbody>\n",
       "    <tr>\n",
       "      <th>0</th>\n",
       "      <td>24</td>\n",
       "      <td>22</td>\n",
       "    </tr>\n",
       "    <tr>\n",
       "      <th>21</th>\n",
       "      <td>21</td>\n",
       "      <td>19</td>\n",
       "    </tr>\n",
       "    <tr>\n",
       "      <th>110</th>\n",
       "      <td>18</td>\n",
       "      <td>16</td>\n",
       "    </tr>\n",
       "    <tr>\n",
       "      <th>379</th>\n",
       "      <td>18</td>\n",
       "      <td>16</td>\n",
       "    </tr>\n",
       "    <tr>\n",
       "      <th>605</th>\n",
       "      <td>21</td>\n",
       "      <td>19</td>\n",
       "    </tr>\n",
       "    <tr>\n",
       "      <th>...</th>\n",
       "      <td>...</td>\n",
       "      <td>...</td>\n",
       "    </tr>\n",
       "    <tr>\n",
       "      <th>10440</th>\n",
       "      <td>18</td>\n",
       "      <td>16</td>\n",
       "    </tr>\n",
       "    <tr>\n",
       "      <th>10488</th>\n",
       "      <td>15</td>\n",
       "      <td>13</td>\n",
       "    </tr>\n",
       "    <tr>\n",
       "      <th>10589</th>\n",
       "      <td>24</td>\n",
       "      <td>22</td>\n",
       "    </tr>\n",
       "    <tr>\n",
       "      <th>10637</th>\n",
       "      <td>21</td>\n",
       "      <td>19</td>\n",
       "    </tr>\n",
       "    <tr>\n",
       "      <th>10659</th>\n",
       "      <td>21</td>\n",
       "      <td>19</td>\n",
       "    </tr>\n",
       "  </tbody>\n",
       "</table>\n",
       "<p>89 rows × 2 columns</p>\n",
       "</div>"
      ],
      "text/plain": [
       "       Day_of_Journey AccurateArrivalDay\n",
       "0                  24                 22\n",
       "21                 21                 19\n",
       "110                18                 16\n",
       "379                18                 16\n",
       "605                21                 19\n",
       "...               ...                ...\n",
       "10440              18                 16\n",
       "10488              15                 13\n",
       "10589              24                 22\n",
       "10637              21                 19\n",
       "10659              21                 19\n",
       "\n",
       "[89 rows x 2 columns]"
      ]
     },
     "execution_count": 25,
     "metadata": {},
     "output_type": "execute_result"
    }
   ],
   "source": [
    "df.loc[wrongIndices,['Day_of_Journey','AccurateArrivalDay']]"
   ]
  },
  {
   "cell_type": "code",
   "execution_count": 26,
   "id": "72f32d62",
   "metadata": {
    "execution": {
     "iopub.execute_input": "2022-03-28T19:12:53.711902Z",
     "iopub.status.busy": "2022-03-28T19:12:53.711299Z",
     "iopub.status.idle": "2022-03-28T19:12:53.723257Z",
     "shell.execute_reply": "2022-03-28T19:12:53.722695Z",
     "shell.execute_reply.started": "2022-03-28T19:08:51.877053Z"
    },
    "papermill": {
     "duration": 0.103906,
     "end_time": "2022-03-28T19:12:53.723388",
     "exception": false,
     "start_time": "2022-03-28T19:12:53.619482",
     "status": "completed"
    },
    "tags": []
   },
   "outputs": [
    {
     "data": {
      "text/html": [
       "<div>\n",
       "<style scoped>\n",
       "    .dataframe tbody tr th:only-of-type {\n",
       "        vertical-align: middle;\n",
       "    }\n",
       "\n",
       "    .dataframe tbody tr th {\n",
       "        vertical-align: top;\n",
       "    }\n",
       "\n",
       "    .dataframe thead th {\n",
       "        text-align: right;\n",
       "    }\n",
       "</style>\n",
       "<table border=\"1\" class=\"dataframe\">\n",
       "  <thead>\n",
       "    <tr style=\"text-align: right;\">\n",
       "      <th></th>\n",
       "      <th>month_of_Journey</th>\n",
       "      <th>AccurateArrivalmonth</th>\n",
       "    </tr>\n",
       "  </thead>\n",
       "  <tbody>\n",
       "    <tr>\n",
       "      <th>0</th>\n",
       "      <td>3</td>\n",
       "      <td>Mar</td>\n",
       "    </tr>\n",
       "    <tr>\n",
       "      <th>21</th>\n",
       "      <td>3</td>\n",
       "      <td>Mar</td>\n",
       "    </tr>\n",
       "    <tr>\n",
       "      <th>110</th>\n",
       "      <td>3</td>\n",
       "      <td>Mar</td>\n",
       "    </tr>\n",
       "    <tr>\n",
       "      <th>379</th>\n",
       "      <td>3</td>\n",
       "      <td>Mar</td>\n",
       "    </tr>\n",
       "    <tr>\n",
       "      <th>605</th>\n",
       "      <td>3</td>\n",
       "      <td>Mar</td>\n",
       "    </tr>\n",
       "    <tr>\n",
       "      <th>...</th>\n",
       "      <td>...</td>\n",
       "      <td>...</td>\n",
       "    </tr>\n",
       "    <tr>\n",
       "      <th>10440</th>\n",
       "      <td>3</td>\n",
       "      <td>Mar</td>\n",
       "    </tr>\n",
       "    <tr>\n",
       "      <th>10488</th>\n",
       "      <td>3</td>\n",
       "      <td>Mar</td>\n",
       "    </tr>\n",
       "    <tr>\n",
       "      <th>10589</th>\n",
       "      <td>3</td>\n",
       "      <td>Mar</td>\n",
       "    </tr>\n",
       "    <tr>\n",
       "      <th>10637</th>\n",
       "      <td>3</td>\n",
       "      <td>Mar</td>\n",
       "    </tr>\n",
       "    <tr>\n",
       "      <th>10659</th>\n",
       "      <td>3</td>\n",
       "      <td>Mar</td>\n",
       "    </tr>\n",
       "  </tbody>\n",
       "</table>\n",
       "<p>89 rows × 2 columns</p>\n",
       "</div>"
      ],
      "text/plain": [
       "       month_of_Journey AccurateArrivalmonth\n",
       "0                     3                  Mar\n",
       "21                    3                  Mar\n",
       "110                   3                  Mar\n",
       "379                   3                  Mar\n",
       "605                   3                  Mar\n",
       "...                 ...                  ...\n",
       "10440                 3                  Mar\n",
       "10488                 3                  Mar\n",
       "10589                 3                  Mar\n",
       "10637                 3                  Mar\n",
       "10659                 3                  Mar\n",
       "\n",
       "[89 rows x 2 columns]"
      ]
     },
     "execution_count": 26,
     "metadata": {},
     "output_type": "execute_result"
    }
   ],
   "source": [
    "df.loc[wrongIndices,['month_of_Journey','AccurateArrivalmonth']]"
   ]
  },
  {
   "cell_type": "code",
   "execution_count": 27,
   "id": "691c8ed3",
   "metadata": {
    "execution": {
     "iopub.execute_input": "2022-03-28T19:12:53.909693Z",
     "iopub.status.busy": "2022-03-28T19:12:53.907607Z",
     "iopub.status.idle": "2022-03-28T19:12:53.912539Z",
     "shell.execute_reply": "2022-03-28T19:12:53.913054Z",
     "shell.execute_reply.started": "2022-03-28T19:08:51.901559Z"
    },
    "papermill": {
     "duration": 0.101129,
     "end_time": "2022-03-28T19:12:53.913225",
     "exception": false,
     "start_time": "2022-03-28T19:12:53.812096",
     "status": "completed"
    },
    "tags": []
   },
   "outputs": [
    {
     "data": {
      "text/plain": [
       "3    88\n",
       "4     1\n",
       "Name: month_of_Journey, dtype: int64"
      ]
     },
     "execution_count": 27,
     "metadata": {},
     "output_type": "execute_result"
    }
   ],
   "source": [
    "df.loc[wrongIndices,['month_of_Journey','AccurateArrivalmonth']][\"month_of_Journey\"].value_counts()"
   ]
  },
  {
   "cell_type": "code",
   "execution_count": 28,
   "id": "f71405c3",
   "metadata": {
    "execution": {
     "iopub.execute_input": "2022-03-28T19:12:54.096395Z",
     "iopub.status.busy": "2022-03-28T19:12:54.095822Z",
     "iopub.status.idle": "2022-03-28T19:12:54.103889Z",
     "shell.execute_reply": "2022-03-28T19:12:54.104327Z",
     "shell.execute_reply.started": "2022-03-28T19:08:51.924854Z"
    },
    "papermill": {
     "duration": 0.100489,
     "end_time": "2022-03-28T19:12:54.104510",
     "exception": false,
     "start_time": "2022-03-28T19:12:54.004021",
     "status": "completed"
    },
    "tags": []
   },
   "outputs": [
    {
     "data": {
      "text/plain": [
       "Mar    88\n",
       "Apr     1\n",
       "Name: AccurateArrivalmonth, dtype: int64"
      ]
     },
     "execution_count": 28,
     "metadata": {},
     "output_type": "execute_result"
    }
   ],
   "source": [
    "df.loc[wrongIndices,['month_of_Journey','AccurateArrivalmonth']][\"AccurateArrivalmonth\"].value_counts()"
   ]
  },
  {
   "cell_type": "code",
   "execution_count": 29,
   "id": "eb8f1a62",
   "metadata": {
    "execution": {
     "iopub.execute_input": "2022-03-28T19:12:54.288455Z",
     "iopub.status.busy": "2022-03-28T19:12:54.287599Z",
     "iopub.status.idle": "2022-03-28T19:12:54.294721Z",
     "shell.execute_reply": "2022-03-28T19:12:54.295141Z",
     "shell.execute_reply.started": "2022-03-28T19:08:51.935213Z"
    },
    "papermill": {
     "duration": 0.099908,
     "end_time": "2022-03-28T19:12:54.295304",
     "exception": false,
     "start_time": "2022-03-28T19:12:54.195396",
     "status": "completed"
    },
    "tags": []
   },
   "outputs": [],
   "source": [
    "#to make sure that month_of_Journey equal AccurateArrivalmonth\n",
    "\n",
    "MonthsDict  = {3:'Mar',4:'Apr'}\n",
    "for a,b in zip(df.loc[wrongIndices,['month_of_Journey','AccurateArrivalmonth']]['month_of_Journey'].tolist(),\n",
    "               df.loc[wrongIndices,[\"month_of_Journey\",'AccurateArrivalmonth']]['AccurateArrivalmonth'].tolist()) : \n",
    "    if MonthsDict[a] != b : \n",
    "        print(a)"
   ]
  },
  {
   "cell_type": "code",
   "execution_count": 30,
   "id": "4e064404",
   "metadata": {
    "execution": {
     "iopub.execute_input": "2022-03-28T19:12:54.480389Z",
     "iopub.status.busy": "2022-03-28T19:12:54.479781Z",
     "iopub.status.idle": "2022-03-28T19:12:54.484513Z",
     "shell.execute_reply": "2022-03-28T19:12:54.484039Z",
     "shell.execute_reply.started": "2022-03-28T19:08:51.945357Z"
    },
    "papermill": {
     "duration": 0.099983,
     "end_time": "2022-03-28T19:12:54.484653",
     "exception": false,
     "start_time": "2022-03-28T19:12:54.384670",
     "status": "completed"
    },
    "tags": []
   },
   "outputs": [],
   "source": [
    "#drop rows when ArrivalDay < DepDay\n",
    "df.drop(df[df['DayDifference']==True].index,axis=0,inplace=True)"
   ]
  },
  {
   "cell_type": "code",
   "execution_count": 31,
   "id": "559c8085",
   "metadata": {
    "execution": {
     "iopub.execute_input": "2022-03-28T19:12:54.667638Z",
     "iopub.status.busy": "2022-03-28T19:12:54.667026Z",
     "iopub.status.idle": "2022-03-28T19:12:54.674084Z",
     "shell.execute_reply": "2022-03-28T19:12:54.674606Z",
     "shell.execute_reply.started": "2022-03-28T19:08:51.959682Z"
    },
    "papermill": {
     "duration": 0.100338,
     "end_time": "2022-03-28T19:12:54.674778",
     "exception": false,
     "start_time": "2022-03-28T19:12:54.574440",
     "status": "completed"
    },
    "tags": []
   },
   "outputs": [],
   "source": [
    "df.reset_index(inplace=True)\n",
    "df.drop(\"index\",axis=1,inplace=True)"
   ]
  },
  {
   "cell_type": "code",
   "execution_count": 32,
   "id": "ff568fd8",
   "metadata": {
    "execution": {
     "iopub.execute_input": "2022-03-28T19:12:54.857691Z",
     "iopub.status.busy": "2022-03-28T19:12:54.857114Z",
     "iopub.status.idle": "2022-03-28T19:12:54.880515Z",
     "shell.execute_reply": "2022-03-28T19:12:54.881058Z",
     "shell.execute_reply.started": "2022-03-28T19:08:51.972584Z"
    },
    "papermill": {
     "duration": 0.115865,
     "end_time": "2022-03-28T19:12:54.881218",
     "exception": false,
     "start_time": "2022-03-28T19:12:54.765353",
     "status": "completed"
    },
    "tags": []
   },
   "outputs": [
    {
     "data": {
      "text/html": [
       "<div>\n",
       "<style scoped>\n",
       "    .dataframe tbody tr th:only-of-type {\n",
       "        vertical-align: middle;\n",
       "    }\n",
       "\n",
       "    .dataframe tbody tr th {\n",
       "        vertical-align: top;\n",
       "    }\n",
       "\n",
       "    .dataframe thead th {\n",
       "        text-align: right;\n",
       "    }\n",
       "</style>\n",
       "<table border=\"1\" class=\"dataframe\">\n",
       "  <thead>\n",
       "    <tr style=\"text-align: right;\">\n",
       "      <th></th>\n",
       "      <th>Airline</th>\n",
       "      <th>Date_of_Journey</th>\n",
       "      <th>Source</th>\n",
       "      <th>Destination</th>\n",
       "      <th>Route</th>\n",
       "      <th>Dep_Time</th>\n",
       "      <th>Arrival_Time</th>\n",
       "      <th>Duration</th>\n",
       "      <th>Total_Stops</th>\n",
       "      <th>Additional_Info</th>\n",
       "      <th>Price</th>\n",
       "      <th>Day_of_Journey</th>\n",
       "      <th>month_of_Journey</th>\n",
       "      <th>Hour_Dep_Time</th>\n",
       "      <th>minute_Dep_Time</th>\n",
       "      <th>AccurateArrivalTime</th>\n",
       "      <th>AccurateArrivalDay</th>\n",
       "      <th>AccurateArrivalmonth</th>\n",
       "      <th>ArrivalHour</th>\n",
       "      <th>DayDifference</th>\n",
       "    </tr>\n",
       "  </thead>\n",
       "  <tbody>\n",
       "    <tr>\n",
       "      <th>1</th>\n",
       "      <td>Jet Airways</td>\n",
       "      <td>9/06/2019</td>\n",
       "      <td>Delhi</td>\n",
       "      <td>Cochin</td>\n",
       "      <td>DEL → LKO → BOM → COK</td>\n",
       "      <td>09:25</td>\n",
       "      <td>04:25 10 Jun</td>\n",
       "      <td>19h</td>\n",
       "      <td>2 stops</td>\n",
       "      <td>No info</td>\n",
       "      <td>13882</td>\n",
       "      <td>9</td>\n",
       "      <td>6</td>\n",
       "      <td>9</td>\n",
       "      <td>25</td>\n",
       "      <td>04:25</td>\n",
       "      <td>10</td>\n",
       "      <td>Jun</td>\n",
       "      <td>04</td>\n",
       "      <td>False</td>\n",
       "    </tr>\n",
       "    <tr>\n",
       "      <th>5</th>\n",
       "      <td>Jet Airways</td>\n",
       "      <td>12/03/2019</td>\n",
       "      <td>Banglore</td>\n",
       "      <td>New Delhi</td>\n",
       "      <td>BLR → BOM → DEL</td>\n",
       "      <td>18:55</td>\n",
       "      <td>10:25 13 Mar</td>\n",
       "      <td>15h 30m</td>\n",
       "      <td>1 stop</td>\n",
       "      <td>In-flight meal not included</td>\n",
       "      <td>11087</td>\n",
       "      <td>12</td>\n",
       "      <td>3</td>\n",
       "      <td>18</td>\n",
       "      <td>55</td>\n",
       "      <td>10:25</td>\n",
       "      <td>13</td>\n",
       "      <td>Mar</td>\n",
       "      <td>10</td>\n",
       "      <td>False</td>\n",
       "    </tr>\n",
       "    <tr>\n",
       "      <th>6</th>\n",
       "      <td>Jet Airways</td>\n",
       "      <td>01/03/2019</td>\n",
       "      <td>Banglore</td>\n",
       "      <td>New Delhi</td>\n",
       "      <td>BLR → BOM → DEL</td>\n",
       "      <td>08:00</td>\n",
       "      <td>05:05 02 Mar</td>\n",
       "      <td>21h 5m</td>\n",
       "      <td>1 stop</td>\n",
       "      <td>No info</td>\n",
       "      <td>22270</td>\n",
       "      <td>1</td>\n",
       "      <td>3</td>\n",
       "      <td>8</td>\n",
       "      <td>0</td>\n",
       "      <td>05:05</td>\n",
       "      <td>02</td>\n",
       "      <td>Mar</td>\n",
       "      <td>05</td>\n",
       "      <td>False</td>\n",
       "    </tr>\n",
       "    <tr>\n",
       "      <th>7</th>\n",
       "      <td>Jet Airways</td>\n",
       "      <td>12/03/2019</td>\n",
       "      <td>Banglore</td>\n",
       "      <td>New Delhi</td>\n",
       "      <td>BLR → BOM → DEL</td>\n",
       "      <td>08:55</td>\n",
       "      <td>10:25 13 Mar</td>\n",
       "      <td>25h 30m</td>\n",
       "      <td>1 stop</td>\n",
       "      <td>In-flight meal not included</td>\n",
       "      <td>11087</td>\n",
       "      <td>12</td>\n",
       "      <td>3</td>\n",
       "      <td>8</td>\n",
       "      <td>55</td>\n",
       "      <td>10:25</td>\n",
       "      <td>13</td>\n",
       "      <td>Mar</td>\n",
       "      <td>10</td>\n",
       "      <td>False</td>\n",
       "    </tr>\n",
       "    <tr>\n",
       "      <th>12</th>\n",
       "      <td>Jet Airways</td>\n",
       "      <td>9/05/2019</td>\n",
       "      <td>Kolkata</td>\n",
       "      <td>Banglore</td>\n",
       "      <td>CCU → BOM → BLR</td>\n",
       "      <td>21:10</td>\n",
       "      <td>09:20 10 May</td>\n",
       "      <td>12h 10m</td>\n",
       "      <td>1 stop</td>\n",
       "      <td>In-flight meal not included</td>\n",
       "      <td>9663</td>\n",
       "      <td>9</td>\n",
       "      <td>5</td>\n",
       "      <td>21</td>\n",
       "      <td>10</td>\n",
       "      <td>09:20</td>\n",
       "      <td>10</td>\n",
       "      <td>May</td>\n",
       "      <td>09</td>\n",
       "      <td>False</td>\n",
       "    </tr>\n",
       "    <tr>\n",
       "      <th>...</th>\n",
       "      <td>...</td>\n",
       "      <td>...</td>\n",
       "      <td>...</td>\n",
       "      <td>...</td>\n",
       "      <td>...</td>\n",
       "      <td>...</td>\n",
       "      <td>...</td>\n",
       "      <td>...</td>\n",
       "      <td>...</td>\n",
       "      <td>...</td>\n",
       "      <td>...</td>\n",
       "      <td>...</td>\n",
       "      <td>...</td>\n",
       "      <td>...</td>\n",
       "      <td>...</td>\n",
       "      <td>...</td>\n",
       "      <td>...</td>\n",
       "      <td>...</td>\n",
       "      <td>...</td>\n",
       "      <td>...</td>\n",
       "    </tr>\n",
       "    <tr>\n",
       "      <th>10576</th>\n",
       "      <td>Jet Airways</td>\n",
       "      <td>12/06/2019</td>\n",
       "      <td>Delhi</td>\n",
       "      <td>Cochin</td>\n",
       "      <td>DEL → BOM → COK</td>\n",
       "      <td>18:15</td>\n",
       "      <td>19:00 13 Jun</td>\n",
       "      <td>24h 45m</td>\n",
       "      <td>1 stop</td>\n",
       "      <td>In-flight meal not included</td>\n",
       "      <td>10262</td>\n",
       "      <td>12</td>\n",
       "      <td>6</td>\n",
       "      <td>18</td>\n",
       "      <td>15</td>\n",
       "      <td>19:00</td>\n",
       "      <td>13</td>\n",
       "      <td>Jun</td>\n",
       "      <td>19</td>\n",
       "      <td>False</td>\n",
       "    </tr>\n",
       "    <tr>\n",
       "      <th>10577</th>\n",
       "      <td>Jet Airways</td>\n",
       "      <td>12/03/2019</td>\n",
       "      <td>Banglore</td>\n",
       "      <td>New Delhi</td>\n",
       "      <td>BLR → BOM → DEL</td>\n",
       "      <td>22:55</td>\n",
       "      <td>20:20 13 Mar</td>\n",
       "      <td>21h 25m</td>\n",
       "      <td>1 stop</td>\n",
       "      <td>In-flight meal not included</td>\n",
       "      <td>11087</td>\n",
       "      <td>12</td>\n",
       "      <td>3</td>\n",
       "      <td>22</td>\n",
       "      <td>55</td>\n",
       "      <td>20:20</td>\n",
       "      <td>13</td>\n",
       "      <td>Mar</td>\n",
       "      <td>20</td>\n",
       "      <td>False</td>\n",
       "    </tr>\n",
       "    <tr>\n",
       "      <th>10582</th>\n",
       "      <td>Jet Airways</td>\n",
       "      <td>27/06/2019</td>\n",
       "      <td>Delhi</td>\n",
       "      <td>Cochin</td>\n",
       "      <td>DEL → AMD → BOM → COK</td>\n",
       "      <td>23:05</td>\n",
       "      <td>19:00 28 Jun</td>\n",
       "      <td>19h 55m</td>\n",
       "      <td>2 stops</td>\n",
       "      <td>In-flight meal not included</td>\n",
       "      <td>11150</td>\n",
       "      <td>27</td>\n",
       "      <td>6</td>\n",
       "      <td>23</td>\n",
       "      <td>5</td>\n",
       "      <td>19:00</td>\n",
       "      <td>28</td>\n",
       "      <td>Jun</td>\n",
       "      <td>19</td>\n",
       "      <td>False</td>\n",
       "    </tr>\n",
       "    <tr>\n",
       "      <th>10583</th>\n",
       "      <td>Jet Airways</td>\n",
       "      <td>27/05/2019</td>\n",
       "      <td>Delhi</td>\n",
       "      <td>Cochin</td>\n",
       "      <td>DEL → AMD → BOM → COK</td>\n",
       "      <td>13:25</td>\n",
       "      <td>04:25 28 May</td>\n",
       "      <td>15h</td>\n",
       "      <td>2 stops</td>\n",
       "      <td>No info</td>\n",
       "      <td>16704</td>\n",
       "      <td>27</td>\n",
       "      <td>5</td>\n",
       "      <td>13</td>\n",
       "      <td>25</td>\n",
       "      <td>04:25</td>\n",
       "      <td>28</td>\n",
       "      <td>May</td>\n",
       "      <td>04</td>\n",
       "      <td>False</td>\n",
       "    </tr>\n",
       "    <tr>\n",
       "      <th>10584</th>\n",
       "      <td>Jet Airways</td>\n",
       "      <td>12/03/2019</td>\n",
       "      <td>Banglore</td>\n",
       "      <td>New Delhi</td>\n",
       "      <td>BLR → BOM → DEL</td>\n",
       "      <td>20:35</td>\n",
       "      <td>21:20 13 Mar</td>\n",
       "      <td>24h 45m</td>\n",
       "      <td>1 stop</td>\n",
       "      <td>In-flight meal not included</td>\n",
       "      <td>11087</td>\n",
       "      <td>12</td>\n",
       "      <td>3</td>\n",
       "      <td>20</td>\n",
       "      <td>35</td>\n",
       "      <td>21:20</td>\n",
       "      <td>13</td>\n",
       "      <td>Mar</td>\n",
       "      <td>21</td>\n",
       "      <td>False</td>\n",
       "    </tr>\n",
       "  </tbody>\n",
       "</table>\n",
       "<p>4245 rows × 20 columns</p>\n",
       "</div>"
      ],
      "text/plain": [
       "           Airline Date_of_Journey    Source Destination  \\\n",
       "1      Jet Airways       9/06/2019     Delhi      Cochin   \n",
       "5      Jet Airways      12/03/2019  Banglore   New Delhi   \n",
       "6      Jet Airways      01/03/2019  Banglore   New Delhi   \n",
       "7      Jet Airways      12/03/2019  Banglore   New Delhi   \n",
       "12     Jet Airways       9/05/2019   Kolkata    Banglore   \n",
       "...            ...             ...       ...         ...   \n",
       "10576  Jet Airways      12/06/2019     Delhi      Cochin   \n",
       "10577  Jet Airways      12/03/2019  Banglore   New Delhi   \n",
       "10582  Jet Airways      27/06/2019     Delhi      Cochin   \n",
       "10583  Jet Airways      27/05/2019     Delhi      Cochin   \n",
       "10584  Jet Airways      12/03/2019  Banglore   New Delhi   \n",
       "\n",
       "                       Route Dep_Time  Arrival_Time Duration Total_Stops  \\\n",
       "1      DEL → LKO → BOM → COK    09:25  04:25 10 Jun      19h     2 stops   \n",
       "5            BLR → BOM → DEL    18:55  10:25 13 Mar  15h 30m      1 stop   \n",
       "6            BLR → BOM → DEL    08:00  05:05 02 Mar   21h 5m      1 stop   \n",
       "7            BLR → BOM → DEL    08:55  10:25 13 Mar  25h 30m      1 stop   \n",
       "12           CCU → BOM → BLR    21:10  09:20 10 May  12h 10m      1 stop   \n",
       "...                      ...      ...           ...      ...         ...   \n",
       "10576        DEL → BOM → COK    18:15  19:00 13 Jun  24h 45m      1 stop   \n",
       "10577        BLR → BOM → DEL    22:55  20:20 13 Mar  21h 25m      1 stop   \n",
       "10582  DEL → AMD → BOM → COK    23:05  19:00 28 Jun  19h 55m     2 stops   \n",
       "10583  DEL → AMD → BOM → COK    13:25  04:25 28 May      15h     2 stops   \n",
       "10584        BLR → BOM → DEL    20:35  21:20 13 Mar  24h 45m      1 stop   \n",
       "\n",
       "                   Additional_Info  Price  Day_of_Journey  month_of_Journey  \\\n",
       "1                          No info  13882               9                 6   \n",
       "5      In-flight meal not included  11087              12                 3   \n",
       "6                          No info  22270               1                 3   \n",
       "7      In-flight meal not included  11087              12                 3   \n",
       "12     In-flight meal not included   9663               9                 5   \n",
       "...                            ...    ...             ...               ...   \n",
       "10576  In-flight meal not included  10262              12                 6   \n",
       "10577  In-flight meal not included  11087              12                 3   \n",
       "10582  In-flight meal not included  11150              27                 6   \n",
       "10583                      No info  16704              27                 5   \n",
       "10584  In-flight meal not included  11087              12                 3   \n",
       "\n",
       "       Hour_Dep_Time  minute_Dep_Time AccurateArrivalTime AccurateArrivalDay  \\\n",
       "1                  9               25               04:25                 10   \n",
       "5                 18               55               10:25                 13   \n",
       "6                  8                0               05:05                 02   \n",
       "7                  8               55               10:25                 13   \n",
       "12                21               10               09:20                 10   \n",
       "...              ...              ...                 ...                ...   \n",
       "10576             18               15               19:00                 13   \n",
       "10577             22               55               20:20                 13   \n",
       "10582             23                5               19:00                 28   \n",
       "10583             13               25               04:25                 28   \n",
       "10584             20               35               21:20                 13   \n",
       "\n",
       "      AccurateArrivalmonth ArrivalHour  DayDifference  \n",
       "1                      Jun          04          False  \n",
       "5                      Mar          10          False  \n",
       "6                      Mar          05          False  \n",
       "7                      Mar          10          False  \n",
       "12                     May          09          False  \n",
       "...                    ...         ...            ...  \n",
       "10576                  Jun          19          False  \n",
       "10577                  Mar          20          False  \n",
       "10582                  Jun          19          False  \n",
       "10583                  May          04          False  \n",
       "10584                  Mar          21          False  \n",
       "\n",
       "[4245 rows x 20 columns]"
      ]
     },
     "execution_count": 32,
     "metadata": {},
     "output_type": "execute_result"
    }
   ],
   "source": [
    "PartOfData=df[df[\"AccurateArrivalDay\"]!=\"None\"]\n",
    "PartOfData"
   ]
  },
  {
   "cell_type": "code",
   "execution_count": 33,
   "id": "fdcb82eb",
   "metadata": {
    "execution": {
     "iopub.execute_input": "2022-03-28T19:12:55.066664Z",
     "iopub.status.busy": "2022-03-28T19:12:55.066010Z",
     "iopub.status.idle": "2022-03-28T19:12:55.073736Z",
     "shell.execute_reply": "2022-03-28T19:12:55.074150Z",
     "shell.execute_reply.started": "2022-03-28T19:08:52.007186Z"
    },
    "papermill": {
     "duration": 0.101576,
     "end_time": "2022-03-28T19:12:55.074317",
     "exception": false,
     "start_time": "2022-03-28T19:12:54.972741",
     "status": "completed"
    },
    "tags": []
   },
   "outputs": [
    {
     "data": {
      "text/plain": [
       "{1, 2, 4}"
      ]
     },
     "execution_count": 33,
     "metadata": {},
     "output_type": "execute_result"
    }
   ],
   "source": [
    "Differences = []\n",
    "for a,b in zip(PartOfData['Day_of_Journey'].tolist(),PartOfData['AccurateArrivalDay'].tolist()) : \n",
    "    Differences.append(int(b) - int(a))\n",
    "set(Differences)"
   ]
  },
  {
   "cell_type": "markdown",
   "id": "7800fc20",
   "metadata": {
    "papermill": {
     "duration": 0.091823,
     "end_time": "2022-03-28T19:12:55.257644",
     "exception": false,
     "start_time": "2022-03-28T19:12:55.165821",
     "status": "completed"
    },
    "tags": []
   },
   "source": [
    "It is clear that the travel time ranges from 1 or 2 or 4 days"
   ]
  },
  {
   "cell_type": "code",
   "execution_count": 34,
   "id": "1a1546a2",
   "metadata": {
    "execution": {
     "iopub.execute_input": "2022-03-28T19:12:55.448914Z",
     "iopub.status.busy": "2022-03-28T19:12:55.448144Z",
     "iopub.status.idle": "2022-03-28T19:12:55.451189Z",
     "shell.execute_reply": "2022-03-28T19:12:55.451618Z",
     "shell.execute_reply.started": "2022-03-28T19:08:52.020919Z"
    },
    "papermill": {
     "duration": 0.101993,
     "end_time": "2022-03-28T19:12:55.451773",
     "exception": false,
     "start_time": "2022-03-28T19:12:55.349780",
     "status": "completed"
    },
    "tags": []
   },
   "outputs": [
    {
     "data": {
      "text/plain": [
       "{1, 2}"
      ]
     },
     "execution_count": 34,
     "metadata": {},
     "output_type": "execute_result"
    }
   ],
   "source": [
    "#Duration\n",
    "set(len(i.split()) for i in df[\"Duration\"].tolist())"
   ]
  },
  {
   "cell_type": "code",
   "execution_count": 35,
   "id": "2ab3f3ec",
   "metadata": {
    "execution": {
     "iopub.execute_input": "2022-03-28T19:12:55.640684Z",
     "iopub.status.busy": "2022-03-28T19:12:55.639764Z",
     "iopub.status.idle": "2022-03-28T19:12:55.652521Z",
     "shell.execute_reply": "2022-03-28T19:12:55.653001Z",
     "shell.execute_reply.started": "2022-03-28T19:08:52.034971Z"
    },
    "papermill": {
     "duration": 0.109889,
     "end_time": "2022-03-28T19:12:55.653171",
     "exception": false,
     "start_time": "2022-03-28T19:12:55.543282",
     "status": "completed"
    },
    "tags": []
   },
   "outputs": [
    {
     "data": {
      "text/plain": [
       "2    9572\n",
       "1    1021\n",
       "dtype: int64"
      ]
     },
     "execution_count": 35,
     "metadata": {},
     "output_type": "execute_result"
    }
   ],
   "source": [
    "pd.Series(len(i.split()) for i in df[\"Duration\"].tolist()).value_counts()"
   ]
  },
  {
   "cell_type": "markdown",
   "id": "20f8ea3b",
   "metadata": {
    "papermill": {
     "duration": 0.091297,
     "end_time": "2022-03-28T19:12:55.837164",
     "exception": false,
     "start_time": "2022-03-28T19:12:55.745867",
     "status": "completed"
    },
    "tags": []
   },
   "source": [
    "there are two forms"
   ]
  },
  {
   "cell_type": "code",
   "execution_count": 36,
   "id": "84f6b4c4",
   "metadata": {
    "execution": {
     "iopub.execute_input": "2022-03-28T19:12:56.025270Z",
     "iopub.status.busy": "2022-03-28T19:12:56.024396Z",
     "iopub.status.idle": "2022-03-28T19:12:56.033821Z",
     "shell.execute_reply": "2022-03-28T19:12:56.034356Z",
     "shell.execute_reply.started": "2022-03-28T19:08:52.056831Z"
    },
    "papermill": {
     "duration": 0.105315,
     "end_time": "2022-03-28T19:12:56.034532",
     "exception": false,
     "start_time": "2022-03-28T19:12:55.929217",
     "status": "completed"
    },
    "tags": []
   },
   "outputs": [
    {
     "data": {
      "text/plain": [
       "(9572, 1020, 1, 0)"
      ]
     },
     "execution_count": 36,
     "metadata": {},
     "output_type": "execute_result"
    }
   ],
   "source": [
    "BothHM,HAlone,MAlone,NoHM =0,0,0,0\n",
    "for i in df['Duration'].tolist() : \n",
    "    if 'h' in i and 'm' in i : \n",
    "        BothHM+= 1 \n",
    "    elif 'h' in i and not 'm' in i : \n",
    "        HAlone+=1\n",
    "    elif not 'h' in i and  'm' in i : \n",
    "        MAlone+=1\n",
    "    else : \n",
    "        NoHM  +=1\n",
    "        \n",
    "BothHM,HAlone,MAlone,NoHM  "
   ]
  },
  {
   "cell_type": "code",
   "execution_count": 37,
   "id": "be14b7a0",
   "metadata": {
    "execution": {
     "iopub.execute_input": "2022-03-28T19:12:56.225633Z",
     "iopub.status.busy": "2022-03-28T19:12:56.224999Z",
     "iopub.status.idle": "2022-03-28T19:12:56.232225Z",
     "shell.execute_reply": "2022-03-28T19:12:56.232887Z",
     "shell.execute_reply.started": "2022-03-28T19:08:52.075307Z"
    },
    "papermill": {
     "duration": 0.105037,
     "end_time": "2022-03-28T19:12:56.233112",
     "exception": false,
     "start_time": "2022-03-28T19:12:56.128075",
     "status": "completed"
    },
    "tags": []
   },
   "outputs": [
    {
     "name": "stdout",
     "output_type": "stream",
     "text": [
      "6419\n"
     ]
    }
   ],
   "source": [
    "#for index of MAlone\n",
    "for n,i in enumerate(df['Duration'].tolist()) : \n",
    "    if not 'h' in i and  'm' in i  : \n",
    "        print(n)"
   ]
  },
  {
   "cell_type": "code",
   "execution_count": 38,
   "id": "3371da11",
   "metadata": {
    "execution": {
     "iopub.execute_input": "2022-03-28T19:12:56.423380Z",
     "iopub.status.busy": "2022-03-28T19:12:56.422476Z",
     "iopub.status.idle": "2022-03-28T19:12:56.428266Z",
     "shell.execute_reply": "2022-03-28T19:12:56.428776Z",
     "shell.execute_reply.started": "2022-03-28T19:08:52.089863Z"
    },
    "papermill": {
     "duration": 0.101432,
     "end_time": "2022-03-28T19:12:56.428946",
     "exception": false,
     "start_time": "2022-03-28T19:12:56.327514",
     "status": "completed"
    },
    "tags": []
   },
   "outputs": [
    {
     "data": {
      "text/plain": [
       "'5m'"
      ]
     },
     "execution_count": 38,
     "metadata": {},
     "output_type": "execute_result"
    }
   ],
   "source": [
    "df.loc[6419][\"Duration\"]"
   ]
  },
  {
   "cell_type": "code",
   "execution_count": 39,
   "id": "43b978a5",
   "metadata": {
    "execution": {
     "iopub.execute_input": "2022-03-28T19:12:56.622845Z",
     "iopub.status.busy": "2022-03-28T19:12:56.621918Z",
     "iopub.status.idle": "2022-03-28T19:12:56.634306Z",
     "shell.execute_reply": "2022-03-28T19:12:56.633612Z",
     "shell.execute_reply.started": "2022-03-28T19:08:52.102248Z"
    },
    "papermill": {
     "duration": 0.112804,
     "end_time": "2022-03-28T19:12:56.634455",
     "exception": false,
     "start_time": "2022-03-28T19:12:56.521651",
     "status": "completed"
    },
    "tags": []
   },
   "outputs": [],
   "source": [
    "df.drop([6419],axis = 0 , inplace=True)\n",
    "df.reset_index(inplace=True)\n",
    "df.drop(['index'],axis=1,inplace=True)"
   ]
  },
  {
   "cell_type": "code",
   "execution_count": 40,
   "id": "0bcba3e6",
   "metadata": {
    "execution": {
     "iopub.execute_input": "2022-03-28T19:12:56.842224Z",
     "iopub.status.busy": "2022-03-28T19:12:56.841606Z",
     "iopub.status.idle": "2022-03-28T19:12:56.861505Z",
     "shell.execute_reply": "2022-03-28T19:12:56.862000Z",
     "shell.execute_reply.started": "2022-03-28T19:08:52.121081Z"
    },
    "papermill": {
     "duration": 0.115798,
     "end_time": "2022-03-28T19:12:56.862195",
     "exception": false,
     "start_time": "2022-03-28T19:12:56.746397",
     "status": "completed"
    },
    "tags": []
   },
   "outputs": [],
   "source": [
    "#7h 25m\n",
    "#for Duration form as H:M or H\n",
    "def DurationTime(n) : \n",
    "    if 'm' in n : \n",
    "        H = n.split()[0]\n",
    "        H = H.strip('h')\n",
    "        \n",
    "        M = n.split()[1]\n",
    "        M = M.strip('m')\n",
    "        return (int(H)*60) + int(M)\n",
    "    else : \n",
    "        H = n.strip('h')\n",
    "        return int(H)*60\n",
    "        \n",
    "df['DurationInMinutes']     = df['Duration'].apply(lambda x : DurationTime(x))\n"
   ]
  },
  {
   "cell_type": "code",
   "execution_count": 41,
   "id": "11b998d1",
   "metadata": {
    "execution": {
     "iopub.execute_input": "2022-03-28T19:12:57.050479Z",
     "iopub.status.busy": "2022-03-28T19:12:57.049921Z",
     "iopub.status.idle": "2022-03-28T19:12:57.060650Z",
     "shell.execute_reply": "2022-03-28T19:12:57.061183Z",
     "shell.execute_reply.started": "2022-03-28T19:08:52.155026Z"
    },
    "papermill": {
     "duration": 0.106924,
     "end_time": "2022-03-28T19:12:57.061347",
     "exception": false,
     "start_time": "2022-03-28T19:12:56.954423",
     "status": "completed"
    },
    "tags": []
   },
   "outputs": [
    {
     "data": {
      "text/html": [
       "<div>\n",
       "<style scoped>\n",
       "    .dataframe tbody tr th:only-of-type {\n",
       "        vertical-align: middle;\n",
       "    }\n",
       "\n",
       "    .dataframe tbody tr th {\n",
       "        vertical-align: top;\n",
       "    }\n",
       "\n",
       "    .dataframe thead th {\n",
       "        text-align: right;\n",
       "    }\n",
       "</style>\n",
       "<table border=\"1\" class=\"dataframe\">\n",
       "  <thead>\n",
       "    <tr style=\"text-align: right;\">\n",
       "      <th></th>\n",
       "      <th>Duration</th>\n",
       "      <th>DurationInMinutes</th>\n",
       "    </tr>\n",
       "  </thead>\n",
       "  <tbody>\n",
       "    <tr>\n",
       "      <th>0</th>\n",
       "      <td>7h 25m</td>\n",
       "      <td>445</td>\n",
       "    </tr>\n",
       "    <tr>\n",
       "      <th>1</th>\n",
       "      <td>19h</td>\n",
       "      <td>1140</td>\n",
       "    </tr>\n",
       "    <tr>\n",
       "      <th>2</th>\n",
       "      <td>5h 25m</td>\n",
       "      <td>325</td>\n",
       "    </tr>\n",
       "    <tr>\n",
       "      <th>3</th>\n",
       "      <td>4h 45m</td>\n",
       "      <td>285</td>\n",
       "    </tr>\n",
       "    <tr>\n",
       "      <th>4</th>\n",
       "      <td>2h 25m</td>\n",
       "      <td>145</td>\n",
       "    </tr>\n",
       "    <tr>\n",
       "      <th>...</th>\n",
       "      <td>...</td>\n",
       "      <td>...</td>\n",
       "    </tr>\n",
       "    <tr>\n",
       "      <th>10587</th>\n",
       "      <td>2h 30m</td>\n",
       "      <td>150</td>\n",
       "    </tr>\n",
       "    <tr>\n",
       "      <th>10588</th>\n",
       "      <td>2h 35m</td>\n",
       "      <td>155</td>\n",
       "    </tr>\n",
       "    <tr>\n",
       "      <th>10589</th>\n",
       "      <td>3h</td>\n",
       "      <td>180</td>\n",
       "    </tr>\n",
       "    <tr>\n",
       "      <th>10590</th>\n",
       "      <td>2h 40m</td>\n",
       "      <td>160</td>\n",
       "    </tr>\n",
       "    <tr>\n",
       "      <th>10591</th>\n",
       "      <td>8h 20m</td>\n",
       "      <td>500</td>\n",
       "    </tr>\n",
       "  </tbody>\n",
       "</table>\n",
       "<p>10592 rows × 2 columns</p>\n",
       "</div>"
      ],
      "text/plain": [
       "      Duration  DurationInMinutes\n",
       "0       7h 25m                445\n",
       "1          19h               1140\n",
       "2       5h 25m                325\n",
       "3       4h 45m                285\n",
       "4       2h 25m                145\n",
       "...        ...                ...\n",
       "10587   2h 30m                150\n",
       "10588   2h 35m                155\n",
       "10589       3h                180\n",
       "10590   2h 40m                160\n",
       "10591   8h 20m                500\n",
       "\n",
       "[10592 rows x 2 columns]"
      ]
     },
     "execution_count": 41,
     "metadata": {},
     "output_type": "execute_result"
    }
   ],
   "source": [
    "df[['Duration','DurationInMinutes']]"
   ]
  },
  {
   "cell_type": "code",
   "execution_count": 42,
   "id": "703c8f6c",
   "metadata": {
    "execution": {
     "iopub.execute_input": "2022-03-28T19:12:57.251573Z",
     "iopub.status.busy": "2022-03-28T19:12:57.250999Z",
     "iopub.status.idle": "2022-03-28T19:12:57.269064Z",
     "shell.execute_reply": "2022-03-28T19:12:57.269613Z",
     "shell.execute_reply.started": "2022-03-28T19:08:52.172647Z"
    },
    "papermill": {
     "duration": 0.115061,
     "end_time": "2022-03-28T19:12:57.269780",
     "exception": false,
     "start_time": "2022-03-28T19:12:57.154719",
     "status": "completed"
    },
    "tags": []
   },
   "outputs": [
    {
     "data": {
      "text/html": [
       "<div>\n",
       "<style scoped>\n",
       "    .dataframe tbody tr th:only-of-type {\n",
       "        vertical-align: middle;\n",
       "    }\n",
       "\n",
       "    .dataframe tbody tr th {\n",
       "        vertical-align: top;\n",
       "    }\n",
       "\n",
       "    .dataframe thead th {\n",
       "        text-align: right;\n",
       "    }\n",
       "</style>\n",
       "<table border=\"1\" class=\"dataframe\">\n",
       "  <thead>\n",
       "    <tr style=\"text-align: right;\">\n",
       "      <th></th>\n",
       "      <th>Total_Stops</th>\n",
       "      <th>StopsCount</th>\n",
       "    </tr>\n",
       "  </thead>\n",
       "  <tbody>\n",
       "    <tr>\n",
       "      <th>0</th>\n",
       "      <td>2 stops</td>\n",
       "      <td>2</td>\n",
       "    </tr>\n",
       "    <tr>\n",
       "      <th>1</th>\n",
       "      <td>2 stops</td>\n",
       "      <td>2</td>\n",
       "    </tr>\n",
       "    <tr>\n",
       "      <th>2</th>\n",
       "      <td>1 stop</td>\n",
       "      <td>1</td>\n",
       "    </tr>\n",
       "    <tr>\n",
       "      <th>3</th>\n",
       "      <td>1 stop</td>\n",
       "      <td>1</td>\n",
       "    </tr>\n",
       "    <tr>\n",
       "      <th>4</th>\n",
       "      <td>non-stop</td>\n",
       "      <td>0</td>\n",
       "    </tr>\n",
       "    <tr>\n",
       "      <th>...</th>\n",
       "      <td>...</td>\n",
       "      <td>...</td>\n",
       "    </tr>\n",
       "    <tr>\n",
       "      <th>10587</th>\n",
       "      <td>non-stop</td>\n",
       "      <td>0</td>\n",
       "    </tr>\n",
       "    <tr>\n",
       "      <th>10588</th>\n",
       "      <td>non-stop</td>\n",
       "      <td>0</td>\n",
       "    </tr>\n",
       "    <tr>\n",
       "      <th>10589</th>\n",
       "      <td>non-stop</td>\n",
       "      <td>0</td>\n",
       "    </tr>\n",
       "    <tr>\n",
       "      <th>10590</th>\n",
       "      <td>non-stop</td>\n",
       "      <td>0</td>\n",
       "    </tr>\n",
       "    <tr>\n",
       "      <th>10591</th>\n",
       "      <td>2 stops</td>\n",
       "      <td>2</td>\n",
       "    </tr>\n",
       "  </tbody>\n",
       "</table>\n",
       "<p>10592 rows × 2 columns</p>\n",
       "</div>"
      ],
      "text/plain": [
       "      Total_Stops  StopsCount\n",
       "0         2 stops           2\n",
       "1         2 stops           2\n",
       "2          1 stop           1\n",
       "3          1 stop           1\n",
       "4        non-stop           0\n",
       "...           ...         ...\n",
       "10587    non-stop           0\n",
       "10588    non-stop           0\n",
       "10589    non-stop           0\n",
       "10590    non-stop           0\n",
       "10591     2 stops           2\n",
       "\n",
       "[10592 rows x 2 columns]"
      ]
     },
     "execution_count": 42,
     "metadata": {},
     "output_type": "execute_result"
    }
   ],
   "source": [
    "df['StopsCount'] = df['Route'].apply(lambda x : str(x).count('→') -1)\n",
    "\n",
    "df[['Total_Stops','StopsCount']]"
   ]
  },
  {
   "cell_type": "code",
   "execution_count": 43,
   "id": "0ef8cf1b",
   "metadata": {
    "execution": {
     "iopub.execute_input": "2022-03-28T19:12:57.458572Z",
     "iopub.status.busy": "2022-03-28T19:12:57.457993Z",
     "iopub.status.idle": "2022-03-28T19:12:57.464392Z",
     "shell.execute_reply": "2022-03-28T19:12:57.464874Z",
     "shell.execute_reply.started": "2022-03-28T19:08:52.201782Z"
    },
    "papermill": {
     "duration": 0.102061,
     "end_time": "2022-03-28T19:12:57.465032",
     "exception": false,
     "start_time": "2022-03-28T19:12:57.362971",
     "status": "completed"
    },
    "tags": []
   },
   "outputs": [
    {
     "data": {
      "text/plain": [
       "1 stop      5555\n",
       "non-stop    3483\n",
       "2 stops     1508\n",
       "3 stops       45\n",
       "4 stops        1\n",
       "Name: Total_Stops, dtype: int64"
      ]
     },
     "execution_count": 43,
     "metadata": {},
     "output_type": "execute_result"
    }
   ],
   "source": [
    "df['Total_Stops'].value_counts()"
   ]
  },
  {
   "cell_type": "code",
   "execution_count": 44,
   "id": "1e92f3b4",
   "metadata": {
    "execution": {
     "iopub.execute_input": "2022-03-28T19:12:57.661656Z",
     "iopub.status.busy": "2022-03-28T19:12:57.661057Z",
     "iopub.status.idle": "2022-03-28T19:12:57.663237Z",
     "shell.execute_reply": "2022-03-28T19:12:57.663756Z",
     "shell.execute_reply.started": "2022-03-28T19:08:52.213148Z"
    },
    "papermill": {
     "duration": 0.104778,
     "end_time": "2022-03-28T19:12:57.663911",
     "exception": false,
     "start_time": "2022-03-28T19:12:57.559133",
     "status": "completed"
    },
    "tags": []
   },
   "outputs": [
    {
     "data": {
      "text/plain": [
       "1    5555\n",
       "0    3483\n",
       "2    1508\n",
       "3      45\n",
       "4       1\n",
       "Name: StopsCount, dtype: int64"
      ]
     },
     "execution_count": 44,
     "metadata": {},
     "output_type": "execute_result"
    }
   ],
   "source": [
    "df['StopsCount'].value_counts()"
   ]
  },
  {
   "cell_type": "code",
   "execution_count": 45,
   "id": "130c425b",
   "metadata": {
    "execution": {
     "iopub.execute_input": "2022-03-28T19:12:57.855352Z",
     "iopub.status.busy": "2022-03-28T19:12:57.854773Z",
     "iopub.status.idle": "2022-03-28T19:12:57.860999Z",
     "shell.execute_reply": "2022-03-28T19:12:57.861458Z",
     "shell.execute_reply.started": "2022-03-28T19:08:52.226385Z"
    },
    "papermill": {
     "duration": 0.103768,
     "end_time": "2022-03-28T19:12:57.861640",
     "exception": false,
     "start_time": "2022-03-28T19:12:57.757872",
     "status": "completed"
    },
    "tags": []
   },
   "outputs": [],
   "source": [
    "dec={\"1 stop\":1,\"non-stop\":0,\"2 stops\":2,\"3 stops\":3,\"4 stops\":4}\n",
    "for x,i in zip(df[\"Total_Stops\"].tolist(),df['StopsCount'].tolist()):\n",
    "    \n",
    "    if dec[x]!=i:\n",
    "        \n",
    "        print(i)"
   ]
  },
  {
   "cell_type": "markdown",
   "id": "4e492210",
   "metadata": {
    "papermill": {
     "duration": 0.094938,
     "end_time": "2022-03-28T19:12:58.051406",
     "exception": false,
     "start_time": "2022-03-28T19:12:57.956468",
     "status": "completed"
    },
    "tags": []
   },
   "source": [
    "so df[\"Total_Stops\"] the same df[\"rout\"]"
   ]
  },
  {
   "cell_type": "code",
   "execution_count": 46,
   "id": "9a47fca1",
   "metadata": {
    "execution": {
     "iopub.execute_input": "2022-03-28T19:12:58.244161Z",
     "iopub.status.busy": "2022-03-28T19:12:58.243572Z",
     "iopub.status.idle": "2022-03-28T19:12:58.248780Z",
     "shell.execute_reply": "2022-03-28T19:12:58.249307Z",
     "shell.execute_reply.started": "2022-03-28T19:08:52.237511Z"
    },
    "papermill": {
     "duration": 0.103128,
     "end_time": "2022-03-28T19:12:58.249460",
     "exception": false,
     "start_time": "2022-03-28T19:12:58.146332",
     "status": "completed"
    },
    "tags": []
   },
   "outputs": [
    {
     "data": {
      "text/plain": [
       "array(['No info', 'In-flight meal not included',\n",
       "       'No check-in baggage included', '1 Short layover', 'No Info',\n",
       "       '1 Long layover', 'Change airports', 'Business class',\n",
       "       'Red-eye flight', '2 Long layover'], dtype=object)"
      ]
     },
     "execution_count": 46,
     "metadata": {},
     "output_type": "execute_result"
    }
   ],
   "source": [
    "#Additional_Info\n",
    "df['Additional_Info'].unique()"
   ]
  },
  {
   "cell_type": "code",
   "execution_count": 47,
   "id": "d0a93f5c",
   "metadata": {
    "execution": {
     "iopub.execute_input": "2022-03-28T19:12:58.439722Z",
     "iopub.status.busy": "2022-03-28T19:12:58.439118Z",
     "iopub.status.idle": "2022-03-28T19:12:58.445927Z",
     "shell.execute_reply": "2022-03-28T19:12:58.446406Z",
     "shell.execute_reply.started": "2022-03-28T19:08:52.250950Z"
    },
    "papermill": {
     "duration": 0.103134,
     "end_time": "2022-03-28T19:12:58.446602",
     "exception": false,
     "start_time": "2022-03-28T19:12:58.343468",
     "status": "completed"
    },
    "tags": []
   },
   "outputs": [
    {
     "data": {
      "text/plain": [
       "No info                         8292\n",
       "In-flight meal not included     1944\n",
       "No check-in baggage included     320\n",
       "1 Long layover                    19\n",
       "Change airports                    7\n",
       "Business class                     4\n",
       "No Info                            3\n",
       "1 Short layover                    1\n",
       "Red-eye flight                     1\n",
       "2 Long layover                     1\n",
       "Name: Additional_Info, dtype: int64"
      ]
     },
     "execution_count": 47,
     "metadata": {},
     "output_type": "execute_result"
    }
   ],
   "source": [
    "df['Additional_Info'].value_counts()"
   ]
  },
  {
   "cell_type": "code",
   "execution_count": 48,
   "id": "a1f6056c",
   "metadata": {
    "execution": {
     "iopub.execute_input": "2022-03-28T19:12:58.640293Z",
     "iopub.status.busy": "2022-03-28T19:12:58.639703Z",
     "iopub.status.idle": "2022-03-28T19:12:58.650878Z",
     "shell.execute_reply": "2022-03-28T19:12:58.651431Z",
     "shell.execute_reply.started": "2022-03-28T19:08:52.264273Z"
    },
    "papermill": {
     "duration": 0.109595,
     "end_time": "2022-03-28T19:12:58.651609",
     "exception": false,
     "start_time": "2022-03-28T19:12:58.542014",
     "status": "completed"
    },
    "tags": []
   },
   "outputs": [
    {
     "data": {
      "text/plain": [
       "1    8648\n",
       "0    1944\n",
       "Name: MealIncluded, dtype: int64"
      ]
     },
     "execution_count": 48,
     "metadata": {},
     "output_type": "execute_result"
    }
   ],
   "source": [
    "df['MealIncluded'] = df['Additional_Info'].apply(lambda x : 1 if x != 'In-flight meal not included' else 0)\n",
    "df['MealIncluded'].value_counts()"
   ]
  },
  {
   "cell_type": "code",
   "execution_count": 49,
   "id": "5d1b8de3",
   "metadata": {
    "execution": {
     "iopub.execute_input": "2022-03-28T19:12:58.843642Z",
     "iopub.status.busy": "2022-03-28T19:12:58.843057Z",
     "iopub.status.idle": "2022-03-28T19:12:58.847582Z",
     "shell.execute_reply": "2022-03-28T19:12:58.848057Z",
     "shell.execute_reply.started": "2022-03-28T19:08:52.285672Z"
    },
    "papermill": {
     "duration": 0.102165,
     "end_time": "2022-03-28T19:12:58.848228",
     "exception": false,
     "start_time": "2022-03-28T19:12:58.746063",
     "status": "completed"
    },
    "tags": []
   },
   "outputs": [],
   "source": [
    "df['Additional_Info'].replace('No Info','No info',inplace = True)"
   ]
  },
  {
   "cell_type": "code",
   "execution_count": 50,
   "id": "c638453a",
   "metadata": {
    "execution": {
     "iopub.execute_input": "2022-03-28T19:12:59.042294Z",
     "iopub.status.busy": "2022-03-28T19:12:59.041684Z",
     "iopub.status.idle": "2022-03-28T19:12:59.045946Z",
     "shell.execute_reply": "2022-03-28T19:12:59.046397Z",
     "shell.execute_reply.started": "2022-03-28T19:08:52.298960Z"
    },
    "papermill": {
     "duration": 0.10336,
     "end_time": "2022-03-28T19:12:59.046602",
     "exception": false,
     "start_time": "2022-03-28T19:12:58.943242",
     "status": "completed"
    },
    "tags": []
   },
   "outputs": [],
   "source": [
    "def DayPart(n) : \n",
    "    H = int(n.split(':')[0])\n",
    "    if H < 6 : \n",
    "        return 'Early Morning'\n",
    "    elif 6<=H < 12 : \n",
    "        return 'Morning'\n",
    "    elif  12<=H < 15 : \n",
    "        return 'Noon'\n",
    "    elif  15<=H < 19 : \n",
    "        return 'Evening'\n",
    "    else : \n",
    "        return 'Night'"
   ]
  },
  {
   "cell_type": "code",
   "execution_count": 51,
   "id": "9244b805",
   "metadata": {
    "execution": {
     "iopub.execute_input": "2022-03-28T19:12:59.250869Z",
     "iopub.status.busy": "2022-03-28T19:12:59.250236Z",
     "iopub.status.idle": "2022-03-28T19:12:59.276759Z",
     "shell.execute_reply": "2022-03-28T19:12:59.277277Z",
     "shell.execute_reply.started": "2022-03-28T19:08:52.311271Z"
    },
    "papermill": {
     "duration": 0.134614,
     "end_time": "2022-03-28T19:12:59.277439",
     "exception": false,
     "start_time": "2022-03-28T19:12:59.142825",
     "status": "completed"
    },
    "tags": []
   },
   "outputs": [
    {
     "data": {
      "text/html": [
       "<div>\n",
       "<style scoped>\n",
       "    .dataframe tbody tr th:only-of-type {\n",
       "        vertical-align: middle;\n",
       "    }\n",
       "\n",
       "    .dataframe tbody tr th {\n",
       "        vertical-align: top;\n",
       "    }\n",
       "\n",
       "    .dataframe thead th {\n",
       "        text-align: right;\n",
       "    }\n",
       "</style>\n",
       "<table border=\"1\" class=\"dataframe\">\n",
       "  <thead>\n",
       "    <tr style=\"text-align: right;\">\n",
       "      <th></th>\n",
       "      <th>Dep_Time</th>\n",
       "      <th>DepartureDayPart</th>\n",
       "      <th>AccurateArrivalTime</th>\n",
       "      <th>ArrivalDayPart</th>\n",
       "    </tr>\n",
       "  </thead>\n",
       "  <tbody>\n",
       "    <tr>\n",
       "      <th>0</th>\n",
       "      <td>05:50</td>\n",
       "      <td>Early Morning</td>\n",
       "      <td>13:15</td>\n",
       "      <td>Noon</td>\n",
       "    </tr>\n",
       "    <tr>\n",
       "      <th>1</th>\n",
       "      <td>09:25</td>\n",
       "      <td>Morning</td>\n",
       "      <td>04:25</td>\n",
       "      <td>Early Morning</td>\n",
       "    </tr>\n",
       "    <tr>\n",
       "      <th>2</th>\n",
       "      <td>18:05</td>\n",
       "      <td>Evening</td>\n",
       "      <td>23:30</td>\n",
       "      <td>Night</td>\n",
       "    </tr>\n",
       "    <tr>\n",
       "      <th>3</th>\n",
       "      <td>16:50</td>\n",
       "      <td>Evening</td>\n",
       "      <td>21:35</td>\n",
       "      <td>Night</td>\n",
       "    </tr>\n",
       "    <tr>\n",
       "      <th>4</th>\n",
       "      <td>09:00</td>\n",
       "      <td>Morning</td>\n",
       "      <td>11:25</td>\n",
       "      <td>Morning</td>\n",
       "    </tr>\n",
       "    <tr>\n",
       "      <th>...</th>\n",
       "      <td>...</td>\n",
       "      <td>...</td>\n",
       "      <td>...</td>\n",
       "      <td>...</td>\n",
       "    </tr>\n",
       "    <tr>\n",
       "      <th>10587</th>\n",
       "      <td>19:55</td>\n",
       "      <td>Night</td>\n",
       "      <td>22:25</td>\n",
       "      <td>Night</td>\n",
       "    </tr>\n",
       "    <tr>\n",
       "      <th>10588</th>\n",
       "      <td>20:45</td>\n",
       "      <td>Night</td>\n",
       "      <td>23:20</td>\n",
       "      <td>Night</td>\n",
       "    </tr>\n",
       "    <tr>\n",
       "      <th>10589</th>\n",
       "      <td>08:20</td>\n",
       "      <td>Morning</td>\n",
       "      <td>11:20</td>\n",
       "      <td>Morning</td>\n",
       "    </tr>\n",
       "    <tr>\n",
       "      <th>10590</th>\n",
       "      <td>11:30</td>\n",
       "      <td>Morning</td>\n",
       "      <td>14:10</td>\n",
       "      <td>Noon</td>\n",
       "    </tr>\n",
       "    <tr>\n",
       "      <th>10591</th>\n",
       "      <td>10:55</td>\n",
       "      <td>Morning</td>\n",
       "      <td>19:15</td>\n",
       "      <td>Night</td>\n",
       "    </tr>\n",
       "  </tbody>\n",
       "</table>\n",
       "<p>10592 rows × 4 columns</p>\n",
       "</div>"
      ],
      "text/plain": [
       "      Dep_Time DepartureDayPart AccurateArrivalTime ArrivalDayPart\n",
       "0        05:50    Early Morning               13:15           Noon\n",
       "1        09:25          Morning               04:25  Early Morning\n",
       "2        18:05          Evening               23:30          Night\n",
       "3        16:50          Evening               21:35          Night\n",
       "4        09:00          Morning               11:25        Morning\n",
       "...        ...              ...                 ...            ...\n",
       "10587    19:55            Night               22:25          Night\n",
       "10588    20:45            Night               23:20          Night\n",
       "10589    08:20          Morning               11:20        Morning\n",
       "10590    11:30          Morning               14:10           Noon\n",
       "10591    10:55          Morning               19:15          Night\n",
       "\n",
       "[10592 rows x 4 columns]"
      ]
     },
     "execution_count": 51,
     "metadata": {},
     "output_type": "execute_result"
    }
   ],
   "source": [
    "    \n",
    "df['DepartureDayPart']   = df['Dep_Time'].apply(lambda x : DayPart(x))\n",
    "df['ArrivalDayPart']   = df['AccurateArrivalTime'].apply(lambda x : DayPart(x))\n",
    "df[['Dep_Time','DepartureDayPart','AccurateArrivalTime','ArrivalDayPart']]"
   ]
  },
  {
   "cell_type": "code",
   "execution_count": 52,
   "id": "c87f411e",
   "metadata": {
    "execution": {
     "iopub.execute_input": "2022-03-28T19:12:59.473633Z",
     "iopub.status.busy": "2022-03-28T19:12:59.473007Z",
     "iopub.status.idle": "2022-03-28T19:12:59.477336Z",
     "shell.execute_reply": "2022-03-28T19:12:59.477867Z",
     "shell.execute_reply.started": "2022-03-28T19:08:52.361539Z"
    },
    "papermill": {
     "duration": 0.104987,
     "end_time": "2022-03-28T19:12:59.478024",
     "exception": false,
     "start_time": "2022-03-28T19:12:59.373037",
     "status": "completed"
    },
    "tags": []
   },
   "outputs": [
    {
     "data": {
      "text/plain": [
       "Index(['Airline', 'Date_of_Journey', 'Source', 'Destination', 'Route',\n",
       "       'Dep_Time', 'Arrival_Time', 'Duration', 'Total_Stops',\n",
       "       'Additional_Info', 'Price', 'Day_of_Journey', 'month_of_Journey',\n",
       "       'Hour_Dep_Time', 'minute_Dep_Time', 'AccurateArrivalTime',\n",
       "       'AccurateArrivalDay', 'AccurateArrivalmonth', 'ArrivalHour',\n",
       "       'DayDifference', 'DurationInMinutes', 'StopsCount', 'MealIncluded',\n",
       "       'DepartureDayPart', 'ArrivalDayPart'],\n",
       "      dtype='object')"
      ]
     },
     "execution_count": 52,
     "metadata": {},
     "output_type": "execute_result"
    }
   ],
   "source": [
    "df.columns"
   ]
  },
  {
   "cell_type": "code",
   "execution_count": 53,
   "id": "e4db5b0f",
   "metadata": {
    "execution": {
     "iopub.execute_input": "2022-03-28T19:12:59.673085Z",
     "iopub.status.busy": "2022-03-28T19:12:59.672535Z",
     "iopub.status.idle": "2022-03-28T19:12:59.678731Z",
     "shell.execute_reply": "2022-03-28T19:12:59.678248Z",
     "shell.execute_reply.started": "2022-03-28T19:08:52.369587Z"
    },
    "papermill": {
     "duration": 0.104111,
     "end_time": "2022-03-28T19:12:59.678873",
     "exception": false,
     "start_time": "2022-03-28T19:12:59.574762",
     "status": "completed"
    },
    "tags": []
   },
   "outputs": [
    {
     "data": {
      "text/plain": [
       "(75, 2860)"
      ]
     },
     "execution_count": 53,
     "metadata": {},
     "output_type": "execute_result"
    }
   ],
   "source": [
    "df['DurationInMinutes'].min(),df['DurationInMinutes'].max()"
   ]
  },
  {
   "cell_type": "code",
   "execution_count": 54,
   "id": "1907356f",
   "metadata": {
    "execution": {
     "iopub.execute_input": "2022-03-28T19:12:59.873739Z",
     "iopub.status.busy": "2022-03-28T19:12:59.873095Z",
     "iopub.status.idle": "2022-03-28T19:12:59.894908Z",
     "shell.execute_reply": "2022-03-28T19:12:59.894392Z",
     "shell.execute_reply.started": "2022-03-28T19:08:52.382693Z"
    },
    "papermill": {
     "duration": 0.12096,
     "end_time": "2022-03-28T19:12:59.895046",
     "exception": false,
     "start_time": "2022-03-28T19:12:59.774086",
     "status": "completed"
    },
    "tags": []
   },
   "outputs": [
    {
     "data": {
      "text/html": [
       "<div>\n",
       "<style scoped>\n",
       "    .dataframe tbody tr th:only-of-type {\n",
       "        vertical-align: middle;\n",
       "    }\n",
       "\n",
       "    .dataframe tbody tr th {\n",
       "        vertical-align: top;\n",
       "    }\n",
       "\n",
       "    .dataframe thead th {\n",
       "        text-align: right;\n",
       "    }\n",
       "</style>\n",
       "<table border=\"1\" class=\"dataframe\">\n",
       "  <thead>\n",
       "    <tr style=\"text-align: right;\">\n",
       "      <th></th>\n",
       "      <th>DurationInMinutes</th>\n",
       "      <th>FlightLength</th>\n",
       "    </tr>\n",
       "  </thead>\n",
       "  <tbody>\n",
       "    <tr>\n",
       "      <th>0</th>\n",
       "      <td>445</td>\n",
       "      <td>Medium</td>\n",
       "    </tr>\n",
       "    <tr>\n",
       "      <th>1</th>\n",
       "      <td>1140</td>\n",
       "      <td>Long</td>\n",
       "    </tr>\n",
       "    <tr>\n",
       "      <th>2</th>\n",
       "      <td>325</td>\n",
       "      <td>Medium</td>\n",
       "    </tr>\n",
       "    <tr>\n",
       "      <th>3</th>\n",
       "      <td>285</td>\n",
       "      <td>Medium</td>\n",
       "    </tr>\n",
       "    <tr>\n",
       "      <th>4</th>\n",
       "      <td>145</td>\n",
       "      <td>Short</td>\n",
       "    </tr>\n",
       "    <tr>\n",
       "      <th>...</th>\n",
       "      <td>...</td>\n",
       "      <td>...</td>\n",
       "    </tr>\n",
       "    <tr>\n",
       "      <th>10587</th>\n",
       "      <td>150</td>\n",
       "      <td>Short</td>\n",
       "    </tr>\n",
       "    <tr>\n",
       "      <th>10588</th>\n",
       "      <td>155</td>\n",
       "      <td>Short</td>\n",
       "    </tr>\n",
       "    <tr>\n",
       "      <th>10589</th>\n",
       "      <td>180</td>\n",
       "      <td>Medium</td>\n",
       "    </tr>\n",
       "    <tr>\n",
       "      <th>10590</th>\n",
       "      <td>160</td>\n",
       "      <td>Short</td>\n",
       "    </tr>\n",
       "    <tr>\n",
       "      <th>10591</th>\n",
       "      <td>500</td>\n",
       "      <td>Medium</td>\n",
       "    </tr>\n",
       "  </tbody>\n",
       "</table>\n",
       "<p>10592 rows × 2 columns</p>\n",
       "</div>"
      ],
      "text/plain": [
       "       DurationInMinutes FlightLength\n",
       "0                    445       Medium\n",
       "1                   1140         Long\n",
       "2                    325       Medium\n",
       "3                    285       Medium\n",
       "4                    145        Short\n",
       "...                  ...          ...\n",
       "10587                150        Short\n",
       "10588                155        Short\n",
       "10589                180       Medium\n",
       "10590                160        Short\n",
       "10591                500       Medium\n",
       "\n",
       "[10592 rows x 2 columns]"
      ]
     },
     "execution_count": 54,
     "metadata": {},
     "output_type": "execute_result"
    }
   ],
   "source": [
    "def FlightLength(H) : \n",
    "    if H < 180 : \n",
    "        return 'Short'\n",
    "    elif 180<=H < 600 : \n",
    "        return 'Medium'\n",
    "    else : \n",
    "        return 'Long'\n",
    "    \n",
    "df['FlightLength']   = df['DurationInMinutes'].apply(lambda x : FlightLength(x))\n",
    "df[['DurationInMinutes','FlightLength']]"
   ]
  },
  {
   "cell_type": "code",
   "execution_count": 55,
   "id": "a3ae1310",
   "metadata": {
    "execution": {
     "iopub.execute_input": "2022-03-28T19:13:00.096034Z",
     "iopub.status.busy": "2022-03-28T19:13:00.095337Z",
     "iopub.status.idle": "2022-03-28T19:13:00.098236Z",
     "shell.execute_reply": "2022-03-28T19:13:00.098670Z",
     "shell.execute_reply.started": "2022-03-28T19:08:52.414190Z"
    },
    "papermill": {
     "duration": 0.106209,
     "end_time": "2022-03-28T19:13:00.098828",
     "exception": false,
     "start_time": "2022-03-28T19:12:59.992619",
     "status": "completed"
    },
    "tags": []
   },
   "outputs": [
    {
     "data": {
      "text/plain": [
       "(1759, 79512)"
      ]
     },
     "execution_count": 55,
     "metadata": {},
     "output_type": "execute_result"
    }
   ],
   "source": [
    "#price\n",
    "df['Price'].min(),df['Price'].max()"
   ]
  },
  {
   "cell_type": "code",
   "execution_count": 56,
   "id": "a9573977",
   "metadata": {
    "execution": {
     "iopub.execute_input": "2022-03-28T19:13:00.311203Z",
     "iopub.status.busy": "2022-03-28T19:13:00.310540Z",
     "iopub.status.idle": "2022-03-28T19:13:00.312900Z",
     "shell.execute_reply": "2022-03-28T19:13:00.313446Z",
     "shell.execute_reply.started": "2022-03-28T19:08:52.425722Z"
    },
    "papermill": {
     "duration": 0.118418,
     "end_time": "2022-03-28T19:13:00.313621",
     "exception": false,
     "start_time": "2022-03-28T19:13:00.195203",
     "status": "completed"
    },
    "tags": []
   },
   "outputs": [
    {
     "data": {
      "text/html": [
       "<div>\n",
       "<style scoped>\n",
       "    .dataframe tbody tr th:only-of-type {\n",
       "        vertical-align: middle;\n",
       "    }\n",
       "\n",
       "    .dataframe tbody tr th {\n",
       "        vertical-align: top;\n",
       "    }\n",
       "\n",
       "    .dataframe thead th {\n",
       "        text-align: right;\n",
       "    }\n",
       "</style>\n",
       "<table border=\"1\" class=\"dataframe\">\n",
       "  <thead>\n",
       "    <tr style=\"text-align: right;\">\n",
       "      <th></th>\n",
       "      <th>Price</th>\n",
       "      <th>PriceRange</th>\n",
       "    </tr>\n",
       "  </thead>\n",
       "  <tbody>\n",
       "    <tr>\n",
       "      <th>0</th>\n",
       "      <td>7662</td>\n",
       "      <td>Medium</td>\n",
       "    </tr>\n",
       "    <tr>\n",
       "      <th>1</th>\n",
       "      <td>13882</td>\n",
       "      <td>Expensive</td>\n",
       "    </tr>\n",
       "    <tr>\n",
       "      <th>2</th>\n",
       "      <td>6218</td>\n",
       "      <td>Medium</td>\n",
       "    </tr>\n",
       "    <tr>\n",
       "      <th>3</th>\n",
       "      <td>13302</td>\n",
       "      <td>Expensive</td>\n",
       "    </tr>\n",
       "    <tr>\n",
       "      <th>4</th>\n",
       "      <td>3873</td>\n",
       "      <td>Cheap</td>\n",
       "    </tr>\n",
       "    <tr>\n",
       "      <th>...</th>\n",
       "      <td>...</td>\n",
       "      <td>...</td>\n",
       "    </tr>\n",
       "    <tr>\n",
       "      <th>10587</th>\n",
       "      <td>4107</td>\n",
       "      <td>Cheap</td>\n",
       "    </tr>\n",
       "    <tr>\n",
       "      <th>10588</th>\n",
       "      <td>4145</td>\n",
       "      <td>Cheap</td>\n",
       "    </tr>\n",
       "    <tr>\n",
       "      <th>10589</th>\n",
       "      <td>7229</td>\n",
       "      <td>Medium</td>\n",
       "    </tr>\n",
       "    <tr>\n",
       "      <th>10590</th>\n",
       "      <td>12648</td>\n",
       "      <td>Expensive</td>\n",
       "    </tr>\n",
       "    <tr>\n",
       "      <th>10591</th>\n",
       "      <td>11753</td>\n",
       "      <td>Expensive</td>\n",
       "    </tr>\n",
       "  </tbody>\n",
       "</table>\n",
       "<p>10592 rows × 2 columns</p>\n",
       "</div>"
      ],
      "text/plain": [
       "       Price PriceRange\n",
       "0       7662     Medium\n",
       "1      13882  Expensive\n",
       "2       6218     Medium\n",
       "3      13302  Expensive\n",
       "4       3873      Cheap\n",
       "...      ...        ...\n",
       "10587   4107      Cheap\n",
       "10588   4145      Cheap\n",
       "10589   7229     Medium\n",
       "10590  12648  Expensive\n",
       "10591  11753  Expensive\n",
       "\n",
       "[10592 rows x 2 columns]"
      ]
     },
     "execution_count": 56,
     "metadata": {},
     "output_type": "execute_result"
    }
   ],
   "source": [
    "def PriceRange(p) : \n",
    "    if p < 5000 : \n",
    "        return 'Cheap'\n",
    "    elif 5000<=p < 10000 : \n",
    "        return 'Medium'\n",
    "    else : \n",
    "        return 'Expensive'\n",
    "    \n",
    "df['PriceRange']   = df['Price'].apply(lambda x : PriceRange(x))\n",
    "df[['Price','PriceRange']]"
   ]
  },
  {
   "cell_type": "code",
   "execution_count": 57,
   "id": "60752c0c",
   "metadata": {
    "execution": {
     "iopub.execute_input": "2022-03-28T19:13:00.510513Z",
     "iopub.status.busy": "2022-03-28T19:13:00.509956Z",
     "iopub.status.idle": "2022-03-28T19:13:00.515353Z",
     "shell.execute_reply": "2022-03-28T19:13:00.515892Z",
     "shell.execute_reply.started": "2022-03-28T19:08:52.453371Z"
    },
    "papermill": {
     "duration": 0.104806,
     "end_time": "2022-03-28T19:13:00.516050",
     "exception": false,
     "start_time": "2022-03-28T19:13:00.411244",
     "status": "completed"
    },
    "tags": []
   },
   "outputs": [
    {
     "data": {
      "text/plain": [
       "array(['Kolkata', 'Delhi', 'Banglore', 'Chennai', 'Mumbai'], dtype=object)"
      ]
     },
     "execution_count": 57,
     "metadata": {},
     "output_type": "execute_result"
    }
   ],
   "source": [
    "#Source\n",
    "df['Source'].unique()"
   ]
  },
  {
   "cell_type": "code",
   "execution_count": 58,
   "id": "d87dadd1",
   "metadata": {
    "execution": {
     "iopub.execute_input": "2022-03-28T19:13:00.713605Z",
     "iopub.status.busy": "2022-03-28T19:13:00.713012Z",
     "iopub.status.idle": "2022-03-28T19:13:00.718415Z",
     "shell.execute_reply": "2022-03-28T19:13:00.718897Z",
     "shell.execute_reply.started": "2022-03-28T19:08:52.463046Z"
    },
    "papermill": {
     "duration": 0.105751,
     "end_time": "2022-03-28T19:13:00.719055",
     "exception": false,
     "start_time": "2022-03-28T19:13:00.613304",
     "status": "completed"
    },
    "tags": []
   },
   "outputs": [
    {
     "data": {
      "text/plain": [
       "array(['Air India', 'Jet Airways', 'IndiGo', 'SpiceJet',\n",
       "       'Multiple carriers', 'GoAir', 'Vistara', 'Air Asia',\n",
       "       'Vistara Premium economy', 'Jet Airways Business',\n",
       "       'Multiple carriers Premium economy', 'Trujet'], dtype=object)"
      ]
     },
     "execution_count": 58,
     "metadata": {},
     "output_type": "execute_result"
    }
   ],
   "source": [
    "#Airline\n",
    "df['Airline'].unique()"
   ]
  },
  {
   "cell_type": "markdown",
   "id": "7aefa84c",
   "metadata": {
    "papermill": {
     "duration": 0.097349,
     "end_time": "2022-03-28T19:13:00.913896",
     "exception": false,
     "start_time": "2022-03-28T19:13:00.816547",
     "status": "completed"
    },
    "tags": []
   },
   "source": [
    "# Data Visualization"
   ]
  },
  {
   "cell_type": "code",
   "execution_count": 59,
   "id": "cff8bf38",
   "metadata": {
    "execution": {
     "iopub.execute_input": "2022-03-28T19:13:01.113820Z",
     "iopub.status.busy": "2022-03-28T19:13:01.113189Z",
     "iopub.status.idle": "2022-03-28T19:13:01.120015Z",
     "shell.execute_reply": "2022-03-28T19:13:01.120541Z",
     "shell.execute_reply.started": "2022-03-28T19:08:52.478479Z"
    },
    "papermill": {
     "duration": 0.107795,
     "end_time": "2022-03-28T19:13:01.120701",
     "exception": false,
     "start_time": "2022-03-28T19:13:01.012906",
     "status": "completed"
    },
    "tags": []
   },
   "outputs": [],
   "source": [
    "def CPlot(feature) : \n",
    "    global df\n",
    "    fig,ax = plt.subplots(figsize = (10,6))\n",
    "    sns.countplot(x = feature,data=df,linewidth = 5)\n",
    "    ax.set_xticklabels(ax.get_xticklabels(),rotation = 30)\n",
    "    return None\n",
    "\n",
    "def KPlot(feature) : \n",
    "    global df\n",
    "    fig,ax = plt.subplots(figsize = (10,6))\n",
    "    sns.kdeplot(df[feature],shade=True)\n",
    "    return None\n",
    "def Pie(feature,limit=20) : \n",
    "    global data\n",
    "    fig,ax = plt.subplots(figsize = (10,6))\n",
    "    plt.pie(df[feature].value_counts()[:limit],labels = list(df[feature].value_counts()[:limit].index),\n",
    "            autopct = '%1.2f%%',labeldistance= 1.1)\n",
    "    return None"
   ]
  },
  {
   "cell_type": "code",
   "execution_count": 60,
   "id": "0d6fadc0",
   "metadata": {
    "execution": {
     "iopub.execute_input": "2022-03-28T19:13:01.321278Z",
     "iopub.status.busy": "2022-03-28T19:13:01.320662Z",
     "iopub.status.idle": "2022-03-28T19:13:01.327794Z",
     "shell.execute_reply": "2022-03-28T19:13:01.328378Z",
     "shell.execute_reply.started": "2022-03-28T19:08:52.489802Z"
    },
    "papermill": {
     "duration": 0.109637,
     "end_time": "2022-03-28T19:13:01.328590",
     "exception": false,
     "start_time": "2022-03-28T19:13:01.218953",
     "status": "completed"
    },
    "tags": []
   },
   "outputs": [
    {
     "data": {
      "text/plain": [
       "12"
      ]
     },
     "execution_count": 60,
     "metadata": {},
     "output_type": "execute_result"
    }
   ],
   "source": [
    "len(df['Airline'].unique())"
   ]
  },
  {
   "cell_type": "code",
   "execution_count": 61,
   "id": "63dcc17b",
   "metadata": {
    "execution": {
     "iopub.execute_input": "2022-03-28T19:13:01.527634Z",
     "iopub.status.busy": "2022-03-28T19:13:01.527084Z",
     "iopub.status.idle": "2022-03-28T19:13:01.730055Z",
     "shell.execute_reply": "2022-03-28T19:13:01.730868Z",
     "shell.execute_reply.started": "2022-03-28T19:08:52.503670Z"
    },
    "papermill": {
     "duration": 0.304199,
     "end_time": "2022-03-28T19:13:01.731135",
     "exception": false,
     "start_time": "2022-03-28T19:13:01.426936",
     "status": "completed"
    },
    "tags": []
   },
   "outputs": [
    {
     "data": {
      "image/png": "[encoded data removed]",
      "text/plain": [
       "<Figure size 720x432 with 1 Axes>"
      ]
     },
     "metadata": {},
     "output_type": "display_data"
    }
   ],
   "source": [
    "Pie('Airline',8)"
   ]
  },
  {
   "cell_type": "code",
   "execution_count": 62,
   "id": "b69a793d",
   "metadata": {
    "execution": {
     "iopub.execute_input": "2022-03-28T19:13:01.955773Z",
     "iopub.status.busy": "2022-03-28T19:13:01.955119Z",
     "iopub.status.idle": "2022-03-28T19:13:02.256413Z",
     "shell.execute_reply": "2022-03-28T19:13:02.255929Z",
     "shell.execute_reply.started": "2022-03-28T19:08:52.717482Z"
    },
    "papermill": {
     "duration": 0.405368,
     "end_time": "2022-03-28T19:13:02.256562",
     "exception": false,
     "start_time": "2022-03-28T19:13:01.851194",
     "status": "completed"
    },
    "tags": []
   },
   "outputs": [
    {
     "data": {
      "image/png": "[encoded data removed]",
      "text/plain": [
       "<Figure size 720x432 with 1 Axes>"
      ]
     },
     "metadata": {},
     "output_type": "display_data"
    }
   ],
   "source": [
    "CPlot('Airline')"
   ]
  },
  {
   "cell_type": "code",
   "execution_count": 63,
   "id": "f8dc8d24",
   "metadata": {
    "execution": {
     "iopub.execute_input": "2022-03-28T19:13:02.469850Z",
     "iopub.status.busy": "2022-03-28T19:13:02.468894Z",
     "iopub.status.idle": "2022-03-28T19:13:02.863868Z",
     "shell.execute_reply": "2022-03-28T19:13:02.864525Z",
     "shell.execute_reply.started": "2022-03-28T19:08:53.208491Z"
    },
    "papermill": {
     "duration": 0.505984,
     "end_time": "2022-03-28T19:13:02.864759",
     "exception": false,
     "start_time": "2022-03-28T19:13:02.358775",
     "status": "completed"
    },
    "tags": []
   },
   "outputs": [
    {
     "data": {
      "image/png": "[encoded data removed]",
      "text/plain": [
       "<Figure size 720x432 with 1 Axes>"
      ]
     },
     "metadata": {},
     "output_type": "display_data"
    }
   ],
   "source": [
    "CPlot('Destination')"
   ]
  },
  {
   "cell_type": "code",
   "execution_count": 64,
   "id": "1ec312a0",
   "metadata": {
    "execution": {
     "iopub.execute_input": "2022-03-28T19:13:03.097772Z",
     "iopub.status.busy": "2022-03-28T19:13:03.097149Z",
     "iopub.status.idle": "2022-03-28T19:13:03.298771Z",
     "shell.execute_reply": "2022-03-28T19:13:03.299608Z",
     "shell.execute_reply.started": "2022-03-28T19:08:53.460040Z"
    },
    "papermill": {
     "duration": 0.313159,
     "end_time": "2022-03-28T19:13:03.299879",
     "exception": false,
     "start_time": "2022-03-28T19:13:02.986720",
     "status": "completed"
    },
    "tags": []
   },
   "outputs": [
    {
     "data": {
      "image/png": "[encoded data removed]",
      "text/plain": [
       "<Figure size 720x432 with 1 Axes>"
      ]
     },
     "metadata": {},
     "output_type": "display_data"
    }
   ],
   "source": [
    "Pie('Route',10)"
   ]
  },
  {
   "cell_type": "code",
   "execution_count": 65,
   "id": "5daaa7c4",
   "metadata": {
    "execution": {
     "iopub.execute_input": "2022-03-28T19:13:03.541316Z",
     "iopub.status.busy": "2022-03-28T19:13:03.540157Z",
     "iopub.status.idle": "2022-03-28T19:13:03.701619Z",
     "shell.execute_reply": "2022-03-28T19:13:03.702340Z",
     "shell.execute_reply.started": "2022-03-28T19:08:53.681301Z"
    },
    "papermill": {
     "duration": 0.280473,
     "end_time": "2022-03-28T19:13:03.702628",
     "exception": false,
     "start_time": "2022-03-28T19:13:03.422155",
     "status": "completed"
    },
    "tags": []
   },
   "outputs": [
    {
     "data": {
      "image/png": "[encoded data removed]",
      "text/plain": [
       "<Figure size 720x432 with 1 Axes>"
      ]
     },
     "metadata": {},
     "output_type": "display_data"
    }
   ],
   "source": [
    "Pie('Dep_Time',10)"
   ]
  },
  {
   "cell_type": "code",
   "execution_count": 66,
   "id": "18a2dd95",
   "metadata": {
    "execution": {
     "iopub.execute_input": "2022-03-28T19:13:03.960290Z",
     "iopub.status.busy": "2022-03-28T19:13:03.945530Z",
     "iopub.status.idle": "2022-03-28T19:13:04.071177Z",
     "shell.execute_reply": "2022-03-28T19:13:04.072013Z",
     "shell.execute_reply.started": "2022-03-28T19:08:53.851558Z"
    },
    "papermill": {
     "duration": 0.236882,
     "end_time": "2022-03-28T19:13:04.072285",
     "exception": false,
     "start_time": "2022-03-28T19:13:03.835403",
     "status": "completed"
    },
    "tags": []
   },
   "outputs": [
    {
     "data": {
      "image/png": "[encoded data removed]",
      "text/plain": [
       "<Figure size 720x432 with 1 Axes>"
      ]
     },
     "metadata": {},
     "output_type": "display_data"
    }
   ],
   "source": [
    "Pie('DepartureDayPart')"
   ]
  },
  {
   "cell_type": "code",
   "execution_count": 67,
   "id": "4c782132",
   "metadata": {
    "execution": {
     "iopub.execute_input": "2022-03-28T19:13:04.320457Z",
     "iopub.status.busy": "2022-03-28T19:13:04.319902Z",
     "iopub.status.idle": "2022-03-28T19:13:04.544893Z",
     "shell.execute_reply": "2022-03-28T19:13:04.545714Z",
     "shell.execute_reply.started": "2022-03-28T19:08:53.977862Z"
    },
    "papermill": {
     "duration": 0.335855,
     "end_time": "2022-03-28T19:13:04.545987",
     "exception": false,
     "start_time": "2022-03-28T19:13:04.210132",
     "status": "completed"
    },
    "tags": []
   },
   "outputs": [
    {
     "data": {
      "image/png": "[encoded data removed]",
      "text/plain": [
       "<Figure size 720x432 with 1 Axes>"
      ]
     },
     "metadata": {},
     "output_type": "display_data"
    }
   ],
   "source": [
    "Pie('AccurateArrivalTime',15)"
   ]
  },
  {
   "cell_type": "code",
   "execution_count": 68,
   "id": "7be8afe7",
   "metadata": {
    "execution": {
     "iopub.execute_input": "2022-03-28T19:13:04.784105Z",
     "iopub.status.busy": "2022-03-28T19:13:04.783433Z",
     "iopub.status.idle": "2022-03-28T19:13:04.905240Z",
     "shell.execute_reply": "2022-03-28T19:13:04.906080Z",
     "shell.execute_reply.started": "2022-03-28T19:08:54.273778Z"
    },
    "papermill": {
     "duration": 0.235666,
     "end_time": "2022-03-28T19:13:04.906364",
     "exception": false,
     "start_time": "2022-03-28T19:13:04.670698",
     "status": "completed"
    },
    "tags": []
   },
   "outputs": [
    {
     "data": {
      "image/png": "[encoded data removed]",
      "text/plain": [
       "<Figure size 720x432 with 1 Axes>"
      ]
     },
     "metadata": {},
     "output_type": "display_data"
    }
   ],
   "source": [
    "Pie('ArrivalDayPart')"
   ]
  },
  {
   "cell_type": "code",
   "execution_count": 69,
   "id": "92d9d78a",
   "metadata": {
    "execution": {
     "iopub.execute_input": "2022-03-28T19:13:05.167005Z",
     "iopub.status.busy": "2022-03-28T19:13:05.166388Z",
     "iopub.status.idle": "2022-03-28T19:13:05.519749Z",
     "shell.execute_reply": "2022-03-28T19:13:05.520193Z",
     "shell.execute_reply.started": "2022-03-28T19:08:54.391611Z"
    },
    "papermill": {
     "duration": 0.467265,
     "end_time": "2022-03-28T19:13:05.520353",
     "exception": false,
     "start_time": "2022-03-28T19:13:05.053088",
     "status": "completed"
    },
    "tags": []
   },
   "outputs": [
    {
     "data": {
      "image/png": "[encoded data removed]",
      "text/plain": [
       "<Figure size 720x432 with 1 Axes>"
      ]
     },
     "metadata": {},
     "output_type": "display_data"
    }
   ],
   "source": [
    "KPlot('DurationInMinutes')"
   ]
  },
  {
   "cell_type": "code",
   "execution_count": 70,
   "id": "78de80e6",
   "metadata": {
    "execution": {
     "iopub.execute_input": "2022-03-28T19:13:05.766321Z",
     "iopub.status.busy": "2022-03-28T19:13:05.765400Z",
     "iopub.status.idle": "2022-03-28T19:13:05.963209Z",
     "shell.execute_reply": "2022-03-28T19:13:05.962568Z",
     "shell.execute_reply.started": "2022-03-28T19:08:54.781825Z"
    },
    "papermill": {
     "duration": 0.33218,
     "end_time": "2022-03-28T19:13:05.963343",
     "exception": false,
     "start_time": "2022-03-28T19:13:05.631163",
     "status": "completed"
    },
    "tags": []
   },
   "outputs": [
    {
     "data": {
      "image/png": "[encoded data removed]",
      "text/plain": [
       "<Figure size 720x432 with 1 Axes>"
      ]
     },
     "metadata": {},
     "output_type": "display_data"
    }
   ],
   "source": [
    "CPlot('Total_Stops')"
   ]
  },
  {
   "cell_type": "code",
   "execution_count": 71,
   "id": "17af3de8",
   "metadata": {
    "execution": {
     "iopub.execute_input": "2022-03-28T19:13:06.191715Z",
     "iopub.status.busy": "2022-03-28T19:13:06.191092Z",
     "iopub.status.idle": "2022-03-28T19:13:06.469853Z",
     "shell.execute_reply": "2022-03-28T19:13:06.470245Z",
     "shell.execute_reply.started": "2022-03-28T19:08:55.028195Z"
    },
    "papermill": {
     "duration": 0.394905,
     "end_time": "2022-03-28T19:13:06.470407",
     "exception": false,
     "start_time": "2022-03-28T19:13:06.075502",
     "status": "completed"
    },
    "tags": []
   },
   "outputs": [
    {
     "data": {
      "image/png": "[encoded data removed]",
      "text/plain": [
       "<Figure size 720x432 with 1 Axes>"
      ]
     },
     "metadata": {},
     "output_type": "display_data"
    }
   ],
   "source": [
    "CPlot('Additional_Info')"
   ]
  },
  {
   "cell_type": "code",
   "execution_count": 72,
   "id": "e937f780",
   "metadata": {
    "execution": {
     "iopub.execute_input": "2022-03-28T19:13:06.702267Z",
     "iopub.status.busy": "2022-03-28T19:13:06.701699Z",
     "iopub.status.idle": "2022-03-28T19:13:06.824682Z",
     "shell.execute_reply": "2022-03-28T19:13:06.825576Z",
     "shell.execute_reply.started": "2022-03-28T19:08:55.349170Z"
    },
    "papermill": {
     "duration": 0.241176,
     "end_time": "2022-03-28T19:13:06.825876",
     "exception": false,
     "start_time": "2022-03-28T19:13:06.584700",
     "status": "completed"
    },
    "tags": []
   },
   "outputs": [
    {
     "data": {
      "image/png": "[encoded data removed]",
      "text/plain": [
       "<Figure size 720x432 with 1 Axes>"
      ]
     },
     "metadata": {},
     "output_type": "display_data"
    }
   ],
   "source": [
    "Pie('Additional_Info',3)"
   ]
  },
  {
   "cell_type": "code",
   "execution_count": 73,
   "id": "aad12500",
   "metadata": {
    "execution": {
     "iopub.execute_input": "2022-03-28T19:13:07.093029Z",
     "iopub.status.busy": "2022-03-28T19:13:07.092361Z",
     "iopub.status.idle": "2022-03-28T19:13:07.430223Z",
     "shell.execute_reply": "2022-03-28T19:13:07.429431Z",
     "shell.execute_reply.started": "2022-03-28T19:08:55.488010Z"
    },
    "papermill": {
     "duration": 0.455194,
     "end_time": "2022-03-28T19:13:07.430361",
     "exception": false,
     "start_time": "2022-03-28T19:13:06.975167",
     "status": "completed"
    },
    "tags": []
   },
   "outputs": [
    {
     "data": {
      "image/png": "[encoded data removed]",
      "text/plain": [
       "<Figure size 720x432 with 1 Axes>"
      ]
     },
     "metadata": {},
     "output_type": "display_data"
    }
   ],
   "source": [
    "KPlot('Price')"
   ]
  },
  {
   "cell_type": "code",
   "execution_count": 74,
   "id": "9609109e",
   "metadata": {
    "execution": {
     "iopub.execute_input": "2022-03-28T19:13:07.689358Z",
     "iopub.status.busy": "2022-03-28T19:13:07.688451Z",
     "iopub.status.idle": "2022-03-28T19:13:07.793874Z",
     "shell.execute_reply": "2022-03-28T19:13:07.792318Z",
     "shell.execute_reply.started": "2022-03-28T19:08:55.862081Z"
    },
    "papermill": {
     "duration": 0.245659,
     "end_time": "2022-03-28T19:13:07.794105",
     "exception": false,
     "start_time": "2022-03-28T19:13:07.548446",
     "status": "completed"
    },
    "tags": []
   },
   "outputs": [
    {
     "data": {
      "image/png": "[encoded data removed]",
      "text/plain": [
       "<Figure size 720x432 with 1 Axes>"
      ]
     },
     "metadata": {},
     "output_type": "display_data"
    }
   ],
   "source": [
    "Pie('PriceRange')"
   ]
  },
  {
   "cell_type": "code",
   "execution_count": 75,
   "id": "351d3279",
   "metadata": {
    "execution": {
     "iopub.execute_input": "2022-03-28T19:13:08.070848Z",
     "iopub.status.busy": "2022-03-28T19:13:08.068290Z",
     "iopub.status.idle": "2022-03-28T19:13:08.271956Z",
     "shell.execute_reply": "2022-03-28T19:13:08.272462Z",
     "shell.execute_reply.started": "2022-03-28T19:08:55.984402Z"
    },
    "papermill": {
     "duration": 0.324153,
     "end_time": "2022-03-28T19:13:08.272665",
     "exception": false,
     "start_time": "2022-03-28T19:13:07.948512",
     "status": "completed"
    },
    "tags": []
   },
   "outputs": [
    {
     "data": {
      "image/png": "[encoded data removed]",
      "text/plain": [
       "<Figure size 720x432 with 1 Axes>"
      ]
     },
     "metadata": {},
     "output_type": "display_data"
    }
   ],
   "source": [
    "CPlot('StopsCount')"
   ]
  },
  {
   "cell_type": "code",
   "execution_count": 76,
   "id": "263a2e9c",
   "metadata": {
    "execution": {
     "iopub.execute_input": "2022-03-28T19:13:08.511328Z",
     "iopub.status.busy": "2022-03-28T19:13:08.510383Z",
     "iopub.status.idle": "2022-03-28T19:13:08.699952Z",
     "shell.execute_reply": "2022-03-28T19:13:08.700382Z",
     "shell.execute_reply.started": "2022-03-28T19:08:56.241054Z"
    },
    "papermill": {
     "duration": 0.30986,
     "end_time": "2022-03-28T19:13:08.700559",
     "exception": false,
     "start_time": "2022-03-28T19:13:08.390699",
     "status": "completed"
    },
    "tags": []
   },
   "outputs": [
    {
     "data": {
      "image/png": "[encoded data removed]",
      "text/plain": [
       "<Figure size 720x432 with 1 Axes>"
      ]
     },
     "metadata": {},
     "output_type": "display_data"
    }
   ],
   "source": [
    "CPlot('FlightLength')"
   ]
  },
  {
   "cell_type": "code",
   "execution_count": 77,
   "id": "fd1afd1f",
   "metadata": {
    "execution": {
     "iopub.execute_input": "2022-03-28T19:13:08.943898Z",
     "iopub.status.busy": "2022-03-28T19:13:08.942907Z",
     "iopub.status.idle": "2022-03-28T19:13:08.949204Z",
     "shell.execute_reply": "2022-03-28T19:13:08.949768Z",
     "shell.execute_reply.started": "2022-03-28T19:08:56.452250Z"
    },
    "papermill": {
     "duration": 0.131166,
     "end_time": "2022-03-28T19:13:08.949935",
     "exception": false,
     "start_time": "2022-03-28T19:13:08.818769",
     "status": "completed"
    },
    "tags": []
   },
   "outputs": [
    {
     "data": {
      "text/plain": [
       "array(['Medium', 'Expensive', 'Cheap'], dtype=object)"
      ]
     },
     "execution_count": 77,
     "metadata": {},
     "output_type": "execute_result"
    }
   ],
   "source": [
    "df['PriceRange'].unique()"
   ]
  },
  {
   "cell_type": "code",
   "execution_count": 78,
   "id": "edf380fd",
   "metadata": {
    "execution": {
     "iopub.execute_input": "2022-03-28T19:13:09.192217Z",
     "iopub.status.busy": "2022-03-28T19:13:09.191278Z",
     "iopub.status.idle": "2022-03-28T19:13:09.199197Z",
     "shell.execute_reply": "2022-03-28T19:13:09.199700Z",
     "shell.execute_reply.started": "2022-03-28T19:08:56.460289Z"
    },
    "papermill": {
     "duration": 0.129714,
     "end_time": "2022-03-28T19:13:09.199867",
     "exception": false,
     "start_time": "2022-03-28T19:13:09.070153",
     "status": "completed"
    },
    "tags": []
   },
   "outputs": [],
   "source": [
    "def SelectedFeaturePie(feature,limit=10) : \n",
    "    global df\n",
    "    fig,ax = plt.subplots(figsize = (15,5))\n",
    "    \n",
    "    plt.subplot(1,3,1)\n",
    "    plt.title('Cheap Tickets')\n",
    "    Data = df[df['PriceRange']=='Cheap']\n",
    "    plt.pie(Data[feature].value_counts()[:limit],labels = list(Data[feature].value_counts()[:limit].index),\n",
    "            autopct = '%1.2f%%',labeldistance= 1.1)\n",
    "\n",
    "    plt.subplot(1,3,2)\n",
    "    plt.title('Medium Tickets')\n",
    "    Data = df[df['PriceRange']=='Medium']\n",
    "    plt.pie(Data[feature].value_counts()[:limit],labels = list(Data[feature].value_counts()[:limit].index),\n",
    "            autopct = '%1.2f%%',labeldistance= 1.1)\n",
    "\n",
    "    plt.subplot(1,3,3)\n",
    "    plt.title('Expensive Tickets')\n",
    "    Data = df[df['PriceRange']=='Expensive']\n",
    "    plt.pie(Data[feature].value_counts()[:limit],labels = list(Data[feature].value_counts()[:limit].index),\n",
    "            autopct = '%1.2f%%',labeldistance= 1.1)\n",
    "    \n",
    "    return None  "
   ]
  },
  {
   "cell_type": "code",
   "execution_count": 79,
   "id": "2d3da14a",
   "metadata": {
    "execution": {
     "iopub.execute_input": "2022-03-28T19:13:09.441059Z",
     "iopub.status.busy": "2022-03-28T19:13:09.439322Z",
     "iopub.status.idle": "2022-03-28T19:13:09.810115Z",
     "shell.execute_reply": "2022-03-28T19:13:09.809668Z",
     "shell.execute_reply.started": "2022-03-28T19:08:56.473838Z"
    },
    "papermill": {
     "duration": 0.492281,
     "end_time": "2022-03-28T19:13:09.810253",
     "exception": false,
     "start_time": "2022-03-28T19:13:09.317972",
     "status": "completed"
    },
    "tags": []
   },
   "outputs": [
    {
     "data": {
      "image/png": "[encoded data removed]",
      "text/plain": [
       "<Figure size 1080x360 with 3 Axes>"
      ]
     },
     "metadata": {},
     "output_type": "display_data"
    }
   ],
   "source": [
    "SelectedFeaturePie('Airline',5)"
   ]
  },
  {
   "cell_type": "code",
   "execution_count": 80,
   "id": "51eebfa3",
   "metadata": {
    "execution": {
     "iopub.execute_input": "2022-03-28T19:13:10.057670Z",
     "iopub.status.busy": "2022-03-28T19:13:10.057033Z",
     "iopub.status.idle": "2022-03-28T19:13:10.411910Z",
     "shell.execute_reply": "2022-03-28T19:13:10.412345Z",
     "shell.execute_reply.started": "2022-03-28T19:08:56.898482Z"
    },
    "papermill": {
     "duration": 0.480937,
     "end_time": "2022-03-28T19:13:10.412533",
     "exception": false,
     "start_time": "2022-03-28T19:13:09.931596",
     "status": "completed"
    },
    "tags": []
   },
   "outputs": [
    {
     "data": {
      "image/png": "[encoded data removed]",
      "text/plain": [
       "<Figure size 1080x360 with 3 Axes>"
      ]
     },
     "metadata": {},
     "output_type": "display_data"
    }
   ],
   "source": [
    "SelectedFeaturePie('Source',5)"
   ]
  },
  {
   "cell_type": "markdown",
   "id": "6fcb218e",
   "metadata": {
    "papermill": {
     "duration": 0.122436,
     "end_time": "2022-03-28T19:13:10.658088",
     "exception": false,
     "start_time": "2022-03-28T19:13:10.535652",
     "status": "completed"
    },
    "tags": []
   },
   "source": [
    "# Data Preparing"
   ]
  },
  {
   "cell_type": "code",
   "execution_count": 81,
   "id": "d3a87379",
   "metadata": {
    "execution": {
     "iopub.execute_input": "2022-03-28T19:13:10.907793Z",
     "iopub.status.busy": "2022-03-28T19:13:10.906840Z",
     "iopub.status.idle": "2022-03-28T19:13:10.912295Z",
     "shell.execute_reply": "2022-03-28T19:13:10.912739Z",
     "shell.execute_reply.started": "2022-03-28T19:08:57.474852Z"
    },
    "papermill": {
     "duration": 0.131795,
     "end_time": "2022-03-28T19:13:10.912916",
     "exception": false,
     "start_time": "2022-03-28T19:13:10.781121",
     "status": "completed"
    },
    "tags": []
   },
   "outputs": [
    {
     "data": {
      "text/plain": [
       "Index(['Airline', 'Date_of_Journey', 'Source', 'Destination', 'Route',\n",
       "       'Dep_Time', 'Arrival_Time', 'Duration', 'Total_Stops',\n",
       "       'Additional_Info', 'Price', 'Day_of_Journey', 'month_of_Journey',\n",
       "       'Hour_Dep_Time', 'minute_Dep_Time', 'AccurateArrivalTime',\n",
       "       'AccurateArrivalDay', 'AccurateArrivalmonth', 'ArrivalHour',\n",
       "       'DayDifference', 'DurationInMinutes', 'StopsCount', 'MealIncluded',\n",
       "       'DepartureDayPart', 'ArrivalDayPart', 'FlightLength', 'PriceRange'],\n",
       "      dtype='object')"
      ]
     },
     "execution_count": 81,
     "metadata": {},
     "output_type": "execute_result"
    }
   ],
   "source": [
    "df.columns"
   ]
  },
  {
   "cell_type": "code",
   "execution_count": 82,
   "id": "784b6a4d",
   "metadata": {
    "execution": {
     "iopub.execute_input": "2022-03-28T19:13:11.224835Z",
     "iopub.status.busy": "2022-03-28T19:13:11.223929Z",
     "iopub.status.idle": "2022-03-28T19:13:11.506304Z",
     "shell.execute_reply": "2022-03-28T19:13:11.506788Z",
     "shell.execute_reply.started": "2022-03-28T19:08:57.490788Z"
    },
    "papermill": {
     "duration": 0.408497,
     "end_time": "2022-03-28T19:13:11.506970",
     "exception": false,
     "start_time": "2022-03-28T19:13:11.098473",
     "status": "completed"
    },
    "tags": []
   },
   "outputs": [],
   "source": [
    "from sklearn.preprocessing import LabelEncoder"
   ]
  },
  {
   "cell_type": "code",
   "execution_count": 83,
   "id": "5218a736",
   "metadata": {
    "execution": {
     "iopub.execute_input": "2022-03-28T19:13:11.762368Z",
     "iopub.status.busy": "2022-03-28T19:13:11.761777Z",
     "iopub.status.idle": "2022-03-28T19:13:11.766303Z",
     "shell.execute_reply": "2022-03-28T19:13:11.766723Z",
     "shell.execute_reply.started": "2022-03-28T19:08:57.541221Z"
    },
    "papermill": {
     "duration": 0.135607,
     "end_time": "2022-03-28T19:13:11.766895",
     "exception": false,
     "start_time": "2022-03-28T19:13:11.631288",
     "status": "completed"
    },
    "tags": []
   },
   "outputs": [],
   "source": [
    "AirLineEnc,SourceEnc,DestinationEnc,AdditionalInfoEnc,MealIncludedEnc,DepDayEnc,ArrivDayEnc,FlightLengthEnc = LabelEncoder(),LabelEncoder(),LabelEncoder(),LabelEncoder(),LabelEncoder(),LabelEncoder(),LabelEncoder(),LabelEncoder()"
   ]
  },
  {
   "cell_type": "code",
   "execution_count": 84,
   "id": "270b037a",
   "metadata": {
    "execution": {
     "iopub.execute_input": "2022-03-28T19:13:12.019189Z",
     "iopub.status.busy": "2022-03-28T19:13:12.018623Z",
     "iopub.status.idle": "2022-03-28T19:13:12.019979Z",
     "shell.execute_reply": "2022-03-28T19:13:12.020418Z",
     "shell.execute_reply.started": "2022-03-28T19:08:57.548323Z"
    },
    "papermill": {
     "duration": 0.130579,
     "end_time": "2022-03-28T19:13:12.020594",
     "exception": false,
     "start_time": "2022-03-28T19:13:11.890015",
     "status": "completed"
    },
    "tags": []
   },
   "outputs": [],
   "source": [
    "def ApplyEncoder(Encoder,OriginalColumn) : \n",
    "    global df\n",
    "    Encoder.fit(df[OriginalColumn])\n",
    "    return Encoder.transform(df[OriginalColumn])"
   ]
  },
  {
   "cell_type": "code",
   "execution_count": 85,
   "id": "8dd917b3",
   "metadata": {
    "execution": {
     "iopub.execute_input": "2022-03-28T19:13:12.270625Z",
     "iopub.status.busy": "2022-03-28T19:13:12.269999Z",
     "iopub.status.idle": "2022-03-28T19:13:12.310093Z",
     "shell.execute_reply": "2022-03-28T19:13:12.310529Z",
     "shell.execute_reply.started": "2022-03-28T19:08:57.558833Z"
    },
    "papermill": {
     "duration": 0.166738,
     "end_time": "2022-03-28T19:13:12.310700",
     "exception": false,
     "start_time": "2022-03-28T19:13:12.143962",
     "status": "completed"
    },
    "tags": []
   },
   "outputs": [
    {
     "data": {
      "text/html": [
       "<div>\n",
       "<style scoped>\n",
       "    .dataframe tbody tr th:only-of-type {\n",
       "        vertical-align: middle;\n",
       "    }\n",
       "\n",
       "    .dataframe tbody tr th {\n",
       "        vertical-align: top;\n",
       "    }\n",
       "\n",
       "    .dataframe thead th {\n",
       "        text-align: right;\n",
       "    }\n",
       "</style>\n",
       "<table border=\"1\" class=\"dataframe\">\n",
       "  <thead>\n",
       "    <tr style=\"text-align: right;\">\n",
       "      <th></th>\n",
       "      <th>Airline</th>\n",
       "      <th>Date_of_Journey</th>\n",
       "      <th>Source</th>\n",
       "      <th>Destination</th>\n",
       "      <th>Route</th>\n",
       "      <th>Dep_Time</th>\n",
       "      <th>Arrival_Time</th>\n",
       "      <th>Duration</th>\n",
       "      <th>Total_Stops</th>\n",
       "      <th>Additional_Info</th>\n",
       "      <th>...</th>\n",
       "      <th>FlightLength</th>\n",
       "      <th>PriceRange</th>\n",
       "      <th>AirLineEnc</th>\n",
       "      <th>SourceEnc</th>\n",
       "      <th>DestinationEnc</th>\n",
       "      <th>AdditionalInfoEnc</th>\n",
       "      <th>MealIncludedEnc</th>\n",
       "      <th>DepDayEnc</th>\n",
       "      <th>ArrivDayEnc</th>\n",
       "      <th>FlightLengthEnc</th>\n",
       "    </tr>\n",
       "  </thead>\n",
       "  <tbody>\n",
       "    <tr>\n",
       "      <th>0</th>\n",
       "      <td>Air India</td>\n",
       "      <td>1/05/2019</td>\n",
       "      <td>Kolkata</td>\n",
       "      <td>Banglore</td>\n",
       "      <td>CCU → IXR → BBI → BLR</td>\n",
       "      <td>05:50</td>\n",
       "      <td>13:15</td>\n",
       "      <td>7h 25m</td>\n",
       "      <td>2 stops</td>\n",
       "      <td>No info</td>\n",
       "      <td>...</td>\n",
       "      <td>Medium</td>\n",
       "      <td>Medium</td>\n",
       "      <td>1</td>\n",
       "      <td>3</td>\n",
       "      <td>0</td>\n",
       "      <td>7</td>\n",
       "      <td>1</td>\n",
       "      <td>0</td>\n",
       "      <td>4</td>\n",
       "      <td>1</td>\n",
       "    </tr>\n",
       "    <tr>\n",
       "      <th>1</th>\n",
       "      <td>Jet Airways</td>\n",
       "      <td>9/06/2019</td>\n",
       "      <td>Delhi</td>\n",
       "      <td>Cochin</td>\n",
       "      <td>DEL → LKO → BOM → COK</td>\n",
       "      <td>09:25</td>\n",
       "      <td>04:25 10 Jun</td>\n",
       "      <td>19h</td>\n",
       "      <td>2 stops</td>\n",
       "      <td>No info</td>\n",
       "      <td>...</td>\n",
       "      <td>Long</td>\n",
       "      <td>Expensive</td>\n",
       "      <td>4</td>\n",
       "      <td>2</td>\n",
       "      <td>1</td>\n",
       "      <td>7</td>\n",
       "      <td>1</td>\n",
       "      <td>2</td>\n",
       "      <td>0</td>\n",
       "      <td>0</td>\n",
       "    </tr>\n",
       "    <tr>\n",
       "      <th>2</th>\n",
       "      <td>IndiGo</td>\n",
       "      <td>12/05/2019</td>\n",
       "      <td>Kolkata</td>\n",
       "      <td>Banglore</td>\n",
       "      <td>CCU → NAG → BLR</td>\n",
       "      <td>18:05</td>\n",
       "      <td>23:30</td>\n",
       "      <td>5h 25m</td>\n",
       "      <td>1 stop</td>\n",
       "      <td>No info</td>\n",
       "      <td>...</td>\n",
       "      <td>Medium</td>\n",
       "      <td>Medium</td>\n",
       "      <td>3</td>\n",
       "      <td>3</td>\n",
       "      <td>0</td>\n",
       "      <td>7</td>\n",
       "      <td>1</td>\n",
       "      <td>1</td>\n",
       "      <td>3</td>\n",
       "      <td>1</td>\n",
       "    </tr>\n",
       "    <tr>\n",
       "      <th>3</th>\n",
       "      <td>IndiGo</td>\n",
       "      <td>01/03/2019</td>\n",
       "      <td>Banglore</td>\n",
       "      <td>New Delhi</td>\n",
       "      <td>BLR → NAG → DEL</td>\n",
       "      <td>16:50</td>\n",
       "      <td>21:35</td>\n",
       "      <td>4h 45m</td>\n",
       "      <td>1 stop</td>\n",
       "      <td>No info</td>\n",
       "      <td>...</td>\n",
       "      <td>Medium</td>\n",
       "      <td>Expensive</td>\n",
       "      <td>3</td>\n",
       "      <td>0</td>\n",
       "      <td>5</td>\n",
       "      <td>7</td>\n",
       "      <td>1</td>\n",
       "      <td>1</td>\n",
       "      <td>3</td>\n",
       "      <td>1</td>\n",
       "    </tr>\n",
       "    <tr>\n",
       "      <th>4</th>\n",
       "      <td>SpiceJet</td>\n",
       "      <td>24/06/2019</td>\n",
       "      <td>Kolkata</td>\n",
       "      <td>Banglore</td>\n",
       "      <td>CCU → BLR</td>\n",
       "      <td>09:00</td>\n",
       "      <td>11:25</td>\n",
       "      <td>2h 25m</td>\n",
       "      <td>non-stop</td>\n",
       "      <td>No info</td>\n",
       "      <td>...</td>\n",
       "      <td>Short</td>\n",
       "      <td>Cheap</td>\n",
       "      <td>8</td>\n",
       "      <td>3</td>\n",
       "      <td>0</td>\n",
       "      <td>7</td>\n",
       "      <td>1</td>\n",
       "      <td>2</td>\n",
       "      <td>2</td>\n",
       "      <td>2</td>\n",
       "    </tr>\n",
       "  </tbody>\n",
       "</table>\n",
       "<p>5 rows × 35 columns</p>\n",
       "</div>"
      ],
      "text/plain": [
       "       Airline Date_of_Journey    Source Destination                  Route  \\\n",
       "0    Air India       1/05/2019   Kolkata    Banglore  CCU → IXR → BBI → BLR   \n",
       "1  Jet Airways       9/06/2019     Delhi      Cochin  DEL → LKO → BOM → COK   \n",
       "2       IndiGo      12/05/2019   Kolkata    Banglore        CCU → NAG → BLR   \n",
       "3       IndiGo      01/03/2019  Banglore   New Delhi        BLR → NAG → DEL   \n",
       "4     SpiceJet      24/06/2019   Kolkata    Banglore              CCU → BLR   \n",
       "\n",
       "  Dep_Time  Arrival_Time Duration Total_Stops Additional_Info  ...  \\\n",
       "0    05:50         13:15   7h 25m     2 stops         No info  ...   \n",
       "1    09:25  04:25 10 Jun      19h     2 stops         No info  ...   \n",
       "2    18:05         23:30   5h 25m      1 stop         No info  ...   \n",
       "3    16:50         21:35   4h 45m      1 stop         No info  ...   \n",
       "4    09:00         11:25   2h 25m    non-stop         No info  ...   \n",
       "\n",
       "   FlightLength  PriceRange  AirLineEnc  SourceEnc  DestinationEnc  \\\n",
       "0        Medium      Medium           1          3               0   \n",
       "1          Long   Expensive           4          2               1   \n",
       "2        Medium      Medium           3          3               0   \n",
       "3        Medium   Expensive           3          0               5   \n",
       "4         Short       Cheap           8          3               0   \n",
       "\n",
       "  AdditionalInfoEnc MealIncludedEnc DepDayEnc ArrivDayEnc  FlightLengthEnc  \n",
       "0                 7               1         0           4                1  \n",
       "1                 7               1         2           0                0  \n",
       "2                 7               1         1           3                1  \n",
       "3                 7               1         1           3                1  \n",
       "4                 7               1         2           2                2  \n",
       "\n",
       "[5 rows x 35 columns]"
      ]
     },
     "execution_count": 85,
     "metadata": {},
     "output_type": "execute_result"
    }
   ],
   "source": [
    "df['AirLineEnc'] = ApplyEncoder(AirLineEnc,'Airline')\n",
    "df['SourceEnc'] = ApplyEncoder(SourceEnc,'Source')\n",
    "df['DestinationEnc'] = ApplyEncoder(DestinationEnc,'Destination')\n",
    "df['AdditionalInfoEnc'] = ApplyEncoder(AdditionalInfoEnc,'Additional_Info')\n",
    "df['MealIncludedEnc'] = ApplyEncoder(MealIncludedEnc,'MealIncluded')\n",
    "df['DepDayEnc'] = ApplyEncoder(DepDayEnc,'DepartureDayPart')\n",
    "df['ArrivDayEnc'] = ApplyEncoder(ArrivDayEnc,'ArrivalDayPart')\n",
    "df['FlightLengthEnc'] = ApplyEncoder(FlightLengthEnc,'FlightLength')\n",
    "df.head()"
   ]
  },
  {
   "cell_type": "code",
   "execution_count": 86,
   "id": "e6e36cd4",
   "metadata": {
    "execution": {
     "iopub.execute_input": "2022-03-28T19:13:12.568183Z",
     "iopub.status.busy": "2022-03-28T19:13:12.567600Z",
     "iopub.status.idle": "2022-03-28T19:13:12.571886Z",
     "shell.execute_reply": "2022-03-28T19:13:12.572324Z",
     "shell.execute_reply.started": "2022-03-28T19:08:57.618377Z"
    },
    "papermill": {
     "duration": 0.134224,
     "end_time": "2022-03-28T19:13:12.572511",
     "exception": false,
     "start_time": "2022-03-28T19:13:12.438287",
     "status": "completed"
    },
    "tags": []
   },
   "outputs": [
    {
     "data": {
      "text/plain": [
       "Index(['Airline', 'Date_of_Journey', 'Source', 'Destination', 'Route',\n",
       "       'Dep_Time', 'Arrival_Time', 'Duration', 'Total_Stops',\n",
       "       'Additional_Info', 'Price', 'Day_of_Journey', 'month_of_Journey',\n",
       "       'Hour_Dep_Time', 'minute_Dep_Time', 'AccurateArrivalTime',\n",
       "       'AccurateArrivalDay', 'AccurateArrivalmonth', 'ArrivalHour',\n",
       "       'DayDifference', 'DurationInMinutes', 'StopsCount', 'MealIncluded',\n",
       "       'DepartureDayPart', 'ArrivalDayPart', 'FlightLength', 'PriceRange',\n",
       "       'AirLineEnc', 'SourceEnc', 'DestinationEnc', 'AdditionalInfoEnc',\n",
       "       'MealIncludedEnc', 'DepDayEnc', 'ArrivDayEnc', 'FlightLengthEnc'],\n",
       "      dtype='object')"
      ]
     },
     "execution_count": 86,
     "metadata": {},
     "output_type": "execute_result"
    }
   ],
   "source": [
    "df.columns"
   ]
  },
  {
   "cell_type": "code",
   "execution_count": 87,
   "id": "c1ec5b60",
   "metadata": {
    "execution": {
     "iopub.execute_input": "2022-03-28T19:13:12.837514Z",
     "iopub.status.busy": "2022-03-28T19:13:12.836901Z",
     "iopub.status.idle": "2022-03-28T19:13:12.856658Z",
     "shell.execute_reply": "2022-03-28T19:13:12.857092Z",
     "shell.execute_reply.started": "2022-03-28T19:08:57.626192Z"
    },
    "papermill": {
     "duration": 0.154119,
     "end_time": "2022-03-28T19:13:12.857260",
     "exception": false,
     "start_time": "2022-03-28T19:13:12.703141",
     "status": "completed"
    },
    "tags": []
   },
   "outputs": [
    {
     "data": {
      "text/html": [
       "<div>\n",
       "<style scoped>\n",
       "    .dataframe tbody tr th:only-of-type {\n",
       "        vertical-align: middle;\n",
       "    }\n",
       "\n",
       "    .dataframe tbody tr th {\n",
       "        vertical-align: top;\n",
       "    }\n",
       "\n",
       "    .dataframe thead th {\n",
       "        text-align: right;\n",
       "    }\n",
       "</style>\n",
       "<table border=\"1\" class=\"dataframe\">\n",
       "  <thead>\n",
       "    <tr style=\"text-align: right;\">\n",
       "      <th></th>\n",
       "      <th>Airline</th>\n",
       "      <th>Date_of_Journey</th>\n",
       "      <th>Source</th>\n",
       "      <th>Destination</th>\n",
       "      <th>Route</th>\n",
       "      <th>Dep_Time</th>\n",
       "      <th>Arrival_Time</th>\n",
       "      <th>Duration</th>\n",
       "      <th>Total_Stops</th>\n",
       "      <th>Additional_Info</th>\n",
       "      <th>...</th>\n",
       "      <th>FlightLength</th>\n",
       "      <th>PriceRange</th>\n",
       "      <th>AirLineEnc</th>\n",
       "      <th>SourceEnc</th>\n",
       "      <th>DestinationEnc</th>\n",
       "      <th>AdditionalInfoEnc</th>\n",
       "      <th>MealIncludedEnc</th>\n",
       "      <th>DepDayEnc</th>\n",
       "      <th>ArrivDayEnc</th>\n",
       "      <th>FlightLengthEnc</th>\n",
       "    </tr>\n",
       "  </thead>\n",
       "  <tbody>\n",
       "    <tr>\n",
       "      <th>0</th>\n",
       "      <td>Air India</td>\n",
       "      <td>1/05/2019</td>\n",
       "      <td>Kolkata</td>\n",
       "      <td>Banglore</td>\n",
       "      <td>CCU → IXR → BBI → BLR</td>\n",
       "      <td>05:50</td>\n",
       "      <td>13:15</td>\n",
       "      <td>7h 25m</td>\n",
       "      <td>2 stops</td>\n",
       "      <td>No info</td>\n",
       "      <td>...</td>\n",
       "      <td>Medium</td>\n",
       "      <td>Medium</td>\n",
       "      <td>1</td>\n",
       "      <td>3</td>\n",
       "      <td>0</td>\n",
       "      <td>7</td>\n",
       "      <td>1</td>\n",
       "      <td>0</td>\n",
       "      <td>4</td>\n",
       "      <td>1</td>\n",
       "    </tr>\n",
       "    <tr>\n",
       "      <th>1</th>\n",
       "      <td>Jet Airways</td>\n",
       "      <td>9/06/2019</td>\n",
       "      <td>Delhi</td>\n",
       "      <td>Cochin</td>\n",
       "      <td>DEL → LKO → BOM → COK</td>\n",
       "      <td>09:25</td>\n",
       "      <td>04:25 10 Jun</td>\n",
       "      <td>19h</td>\n",
       "      <td>2 stops</td>\n",
       "      <td>No info</td>\n",
       "      <td>...</td>\n",
       "      <td>Long</td>\n",
       "      <td>Expensive</td>\n",
       "      <td>4</td>\n",
       "      <td>2</td>\n",
       "      <td>1</td>\n",
       "      <td>7</td>\n",
       "      <td>1</td>\n",
       "      <td>2</td>\n",
       "      <td>0</td>\n",
       "      <td>0</td>\n",
       "    </tr>\n",
       "    <tr>\n",
       "      <th>2</th>\n",
       "      <td>IndiGo</td>\n",
       "      <td>12/05/2019</td>\n",
       "      <td>Kolkata</td>\n",
       "      <td>Banglore</td>\n",
       "      <td>CCU → NAG → BLR</td>\n",
       "      <td>18:05</td>\n",
       "      <td>23:30</td>\n",
       "      <td>5h 25m</td>\n",
       "      <td>1 stop</td>\n",
       "      <td>No info</td>\n",
       "      <td>...</td>\n",
       "      <td>Medium</td>\n",
       "      <td>Medium</td>\n",
       "      <td>3</td>\n",
       "      <td>3</td>\n",
       "      <td>0</td>\n",
       "      <td>7</td>\n",
       "      <td>1</td>\n",
       "      <td>1</td>\n",
       "      <td>3</td>\n",
       "      <td>1</td>\n",
       "    </tr>\n",
       "    <tr>\n",
       "      <th>3</th>\n",
       "      <td>IndiGo</td>\n",
       "      <td>01/03/2019</td>\n",
       "      <td>Banglore</td>\n",
       "      <td>New Delhi</td>\n",
       "      <td>BLR → NAG → DEL</td>\n",
       "      <td>16:50</td>\n",
       "      <td>21:35</td>\n",
       "      <td>4h 45m</td>\n",
       "      <td>1 stop</td>\n",
       "      <td>No info</td>\n",
       "      <td>...</td>\n",
       "      <td>Medium</td>\n",
       "      <td>Expensive</td>\n",
       "      <td>3</td>\n",
       "      <td>0</td>\n",
       "      <td>5</td>\n",
       "      <td>7</td>\n",
       "      <td>1</td>\n",
       "      <td>1</td>\n",
       "      <td>3</td>\n",
       "      <td>1</td>\n",
       "    </tr>\n",
       "    <tr>\n",
       "      <th>4</th>\n",
       "      <td>SpiceJet</td>\n",
       "      <td>24/06/2019</td>\n",
       "      <td>Kolkata</td>\n",
       "      <td>Banglore</td>\n",
       "      <td>CCU → BLR</td>\n",
       "      <td>09:00</td>\n",
       "      <td>11:25</td>\n",
       "      <td>2h 25m</td>\n",
       "      <td>non-stop</td>\n",
       "      <td>No info</td>\n",
       "      <td>...</td>\n",
       "      <td>Short</td>\n",
       "      <td>Cheap</td>\n",
       "      <td>8</td>\n",
       "      <td>3</td>\n",
       "      <td>0</td>\n",
       "      <td>7</td>\n",
       "      <td>1</td>\n",
       "      <td>2</td>\n",
       "      <td>2</td>\n",
       "      <td>2</td>\n",
       "    </tr>\n",
       "  </tbody>\n",
       "</table>\n",
       "<p>5 rows × 35 columns</p>\n",
       "</div>"
      ],
      "text/plain": [
       "       Airline Date_of_Journey    Source Destination                  Route  \\\n",
       "0    Air India       1/05/2019   Kolkata    Banglore  CCU → IXR → BBI → BLR   \n",
       "1  Jet Airways       9/06/2019     Delhi      Cochin  DEL → LKO → BOM → COK   \n",
       "2       IndiGo      12/05/2019   Kolkata    Banglore        CCU → NAG → BLR   \n",
       "3       IndiGo      01/03/2019  Banglore   New Delhi        BLR → NAG → DEL   \n",
       "4     SpiceJet      24/06/2019   Kolkata    Banglore              CCU → BLR   \n",
       "\n",
       "  Dep_Time  Arrival_Time Duration Total_Stops Additional_Info  ...  \\\n",
       "0    05:50         13:15   7h 25m     2 stops         No info  ...   \n",
       "1    09:25  04:25 10 Jun      19h     2 stops         No info  ...   \n",
       "2    18:05         23:30   5h 25m      1 stop         No info  ...   \n",
       "3    16:50         21:35   4h 45m      1 stop         No info  ...   \n",
       "4    09:00         11:25   2h 25m    non-stop         No info  ...   \n",
       "\n",
       "   FlightLength  PriceRange  AirLineEnc  SourceEnc  DestinationEnc  \\\n",
       "0        Medium      Medium           1          3               0   \n",
       "1          Long   Expensive           4          2               1   \n",
       "2        Medium      Medium           3          3               0   \n",
       "3        Medium   Expensive           3          0               5   \n",
       "4         Short       Cheap           8          3               0   \n",
       "\n",
       "  AdditionalInfoEnc MealIncludedEnc DepDayEnc  ArrivDayEnc  FlightLengthEnc  \n",
       "0                 7               1         0            4                1  \n",
       "1                 7               1         2            0                0  \n",
       "2                 7               1         1            3                1  \n",
       "3                 7               1         1            3                1  \n",
       "4                 7               1         2            2                2  \n",
       "\n",
       "[5 rows x 35 columns]"
      ]
     },
     "execution_count": 87,
     "metadata": {},
     "output_type": "execute_result"
    }
   ],
   "source": [
    "ColumnsToInt = ['Day_of_Journey','month_of_Journey','DurationInMinutes','StopsCount','Hour_Dep_Time','ArrivalHour']\n",
    "\n",
    "for col in ColumnsToInt : \n",
    "    df[col] = df[col].astype(int)\n",
    "df.head()  "
   ]
  },
  {
   "cell_type": "markdown",
   "id": "a8ecb02f",
   "metadata": {
    "papermill": {
     "duration": 0.125733,
     "end_time": "2022-03-28T19:13:13.107562",
     "exception": false,
     "start_time": "2022-03-28T19:13:12.981829",
     "status": "completed"
    },
    "tags": []
   },
   "source": [
    "# data is ready for the modeling"
   ]
  },
  {
   "cell_type": "code",
   "execution_count": 88,
   "id": "39d41ebf",
   "metadata": {
    "execution": {
     "iopub.execute_input": "2022-03-28T19:13:13.365357Z",
     "iopub.status.busy": "2022-03-28T19:13:13.362707Z",
     "iopub.status.idle": "2022-03-28T19:13:13.368980Z",
     "shell.execute_reply": "2022-03-28T19:13:13.369446Z",
     "shell.execute_reply.started": "2022-03-28T19:08:57.661192Z"
    },
    "papermill": {
     "duration": 0.137443,
     "end_time": "2022-03-28T19:13:13.369646",
     "exception": false,
     "start_time": "2022-03-28T19:13:13.232203",
     "status": "completed"
    },
    "tags": []
   },
   "outputs": [],
   "source": [
    "# spiliting the dataset\n",
    "X = df[['Day_of_Journey', 'month_of_Journey','DurationInMinutes', 'StopsCount',\n",
    "        'Hour_Dep_Time', 'ArrivalHour', 'AirLineEnc', 'SourceEnc',\n",
    "       'DestinationEnc', 'AdditionalInfoEnc', 'MealIncludedEnc', 'DepDayEnc',\n",
    "       'ArrivDayEnc', 'FlightLengthEnc']]\n",
    "\n",
    "y = df['Price']"
   ]
  },
  {
   "cell_type": "code",
   "execution_count": 89,
   "id": "91055bf4",
   "metadata": {
    "execution": {
     "iopub.execute_input": "2022-03-28T19:13:13.623259Z",
     "iopub.status.busy": "2022-03-28T19:13:13.622633Z",
     "iopub.status.idle": "2022-03-28T19:13:13.635510Z",
     "shell.execute_reply": "2022-03-28T19:13:13.635983Z",
     "shell.execute_reply.started": "2022-03-28T19:08:57.670443Z"
    },
    "papermill": {
     "duration": 0.141875,
     "end_time": "2022-03-28T19:13:13.636157",
     "exception": false,
     "start_time": "2022-03-28T19:13:13.494282",
     "status": "completed"
    },
    "tags": []
   },
   "outputs": [
    {
     "data": {
      "text/html": [
       "<div>\n",
       "<style scoped>\n",
       "    .dataframe tbody tr th:only-of-type {\n",
       "        vertical-align: middle;\n",
       "    }\n",
       "\n",
       "    .dataframe tbody tr th {\n",
       "        vertical-align: top;\n",
       "    }\n",
       "\n",
       "    .dataframe thead th {\n",
       "        text-align: right;\n",
       "    }\n",
       "</style>\n",
       "<table border=\"1\" class=\"dataframe\">\n",
       "  <thead>\n",
       "    <tr style=\"text-align: right;\">\n",
       "      <th></th>\n",
       "      <th>Day_of_Journey</th>\n",
       "      <th>month_of_Journey</th>\n",
       "      <th>DurationInMinutes</th>\n",
       "      <th>StopsCount</th>\n",
       "      <th>Hour_Dep_Time</th>\n",
       "      <th>ArrivalHour</th>\n",
       "      <th>AirLineEnc</th>\n",
       "      <th>SourceEnc</th>\n",
       "      <th>DestinationEnc</th>\n",
       "      <th>AdditionalInfoEnc</th>\n",
       "      <th>MealIncludedEnc</th>\n",
       "      <th>DepDayEnc</th>\n",
       "      <th>ArrivDayEnc</th>\n",
       "      <th>FlightLengthEnc</th>\n",
       "    </tr>\n",
       "  </thead>\n",
       "  <tbody>\n",
       "    <tr>\n",
       "      <th>0</th>\n",
       "      <td>1</td>\n",
       "      <td>5</td>\n",
       "      <td>445</td>\n",
       "      <td>2</td>\n",
       "      <td>5</td>\n",
       "      <td>13</td>\n",
       "      <td>1</td>\n",
       "      <td>3</td>\n",
       "      <td>0</td>\n",
       "      <td>7</td>\n",
       "      <td>1</td>\n",
       "      <td>0</td>\n",
       "      <td>4</td>\n",
       "      <td>1</td>\n",
       "    </tr>\n",
       "    <tr>\n",
       "      <th>1</th>\n",
       "      <td>9</td>\n",
       "      <td>6</td>\n",
       "      <td>1140</td>\n",
       "      <td>2</td>\n",
       "      <td>9</td>\n",
       "      <td>4</td>\n",
       "      <td>4</td>\n",
       "      <td>2</td>\n",
       "      <td>1</td>\n",
       "      <td>7</td>\n",
       "      <td>1</td>\n",
       "      <td>2</td>\n",
       "      <td>0</td>\n",
       "      <td>0</td>\n",
       "    </tr>\n",
       "    <tr>\n",
       "      <th>2</th>\n",
       "      <td>12</td>\n",
       "      <td>5</td>\n",
       "      <td>325</td>\n",
       "      <td>1</td>\n",
       "      <td>18</td>\n",
       "      <td>23</td>\n",
       "      <td>3</td>\n",
       "      <td>3</td>\n",
       "      <td>0</td>\n",
       "      <td>7</td>\n",
       "      <td>1</td>\n",
       "      <td>1</td>\n",
       "      <td>3</td>\n",
       "      <td>1</td>\n",
       "    </tr>\n",
       "    <tr>\n",
       "      <th>3</th>\n",
       "      <td>1</td>\n",
       "      <td>3</td>\n",
       "      <td>285</td>\n",
       "      <td>1</td>\n",
       "      <td>16</td>\n",
       "      <td>21</td>\n",
       "      <td>3</td>\n",
       "      <td>0</td>\n",
       "      <td>5</td>\n",
       "      <td>7</td>\n",
       "      <td>1</td>\n",
       "      <td>1</td>\n",
       "      <td>3</td>\n",
       "      <td>1</td>\n",
       "    </tr>\n",
       "    <tr>\n",
       "      <th>4</th>\n",
       "      <td>24</td>\n",
       "      <td>6</td>\n",
       "      <td>145</td>\n",
       "      <td>0</td>\n",
       "      <td>9</td>\n",
       "      <td>11</td>\n",
       "      <td>8</td>\n",
       "      <td>3</td>\n",
       "      <td>0</td>\n",
       "      <td>7</td>\n",
       "      <td>1</td>\n",
       "      <td>2</td>\n",
       "      <td>2</td>\n",
       "      <td>2</td>\n",
       "    </tr>\n",
       "    <tr>\n",
       "      <th>...</th>\n",
       "      <td>...</td>\n",
       "      <td>...</td>\n",
       "      <td>...</td>\n",
       "      <td>...</td>\n",
       "      <td>...</td>\n",
       "      <td>...</td>\n",
       "      <td>...</td>\n",
       "      <td>...</td>\n",
       "      <td>...</td>\n",
       "      <td>...</td>\n",
       "      <td>...</td>\n",
       "      <td>...</td>\n",
       "      <td>...</td>\n",
       "      <td>...</td>\n",
       "    </tr>\n",
       "    <tr>\n",
       "      <th>10587</th>\n",
       "      <td>9</td>\n",
       "      <td>4</td>\n",
       "      <td>150</td>\n",
       "      <td>0</td>\n",
       "      <td>19</td>\n",
       "      <td>22</td>\n",
       "      <td>0</td>\n",
       "      <td>3</td>\n",
       "      <td>0</td>\n",
       "      <td>7</td>\n",
       "      <td>1</td>\n",
       "      <td>3</td>\n",
       "      <td>3</td>\n",
       "      <td>2</td>\n",
       "    </tr>\n",
       "    <tr>\n",
       "      <th>10588</th>\n",
       "      <td>27</td>\n",
       "      <td>4</td>\n",
       "      <td>155</td>\n",
       "      <td>0</td>\n",
       "      <td>20</td>\n",
       "      <td>23</td>\n",
       "      <td>1</td>\n",
       "      <td>3</td>\n",
       "      <td>0</td>\n",
       "      <td>7</td>\n",
       "      <td>1</td>\n",
       "      <td>3</td>\n",
       "      <td>3</td>\n",
       "      <td>2</td>\n",
       "    </tr>\n",
       "    <tr>\n",
       "      <th>10589</th>\n",
       "      <td>27</td>\n",
       "      <td>4</td>\n",
       "      <td>180</td>\n",
       "      <td>0</td>\n",
       "      <td>8</td>\n",
       "      <td>11</td>\n",
       "      <td>4</td>\n",
       "      <td>0</td>\n",
       "      <td>2</td>\n",
       "      <td>7</td>\n",
       "      <td>1</td>\n",
       "      <td>2</td>\n",
       "      <td>2</td>\n",
       "      <td>1</td>\n",
       "    </tr>\n",
       "    <tr>\n",
       "      <th>10590</th>\n",
       "      <td>1</td>\n",
       "      <td>3</td>\n",
       "      <td>160</td>\n",
       "      <td>0</td>\n",
       "      <td>11</td>\n",
       "      <td>14</td>\n",
       "      <td>10</td>\n",
       "      <td>0</td>\n",
       "      <td>5</td>\n",
       "      <td>7</td>\n",
       "      <td>1</td>\n",
       "      <td>2</td>\n",
       "      <td>4</td>\n",
       "      <td>2</td>\n",
       "    </tr>\n",
       "    <tr>\n",
       "      <th>10591</th>\n",
       "      <td>9</td>\n",
       "      <td>5</td>\n",
       "      <td>500</td>\n",
       "      <td>2</td>\n",
       "      <td>10</td>\n",
       "      <td>19</td>\n",
       "      <td>1</td>\n",
       "      <td>2</td>\n",
       "      <td>1</td>\n",
       "      <td>7</td>\n",
       "      <td>1</td>\n",
       "      <td>2</td>\n",
       "      <td>3</td>\n",
       "      <td>1</td>\n",
       "    </tr>\n",
       "  </tbody>\n",
       "</table>\n",
       "<p>10592 rows × 14 columns</p>\n",
       "</div>"
      ],
      "text/plain": [
       "       Day_of_Journey  month_of_Journey  DurationInMinutes  StopsCount  \\\n",
       "0                   1                 5                445           2   \n",
       "1                   9                 6               1140           2   \n",
       "2                  12                 5                325           1   \n",
       "3                   1                 3                285           1   \n",
       "4                  24                 6                145           0   \n",
       "...               ...               ...                ...         ...   \n",
       "10587               9                 4                150           0   \n",
       "10588              27                 4                155           0   \n",
       "10589              27                 4                180           0   \n",
       "10590               1                 3                160           0   \n",
       "10591               9                 5                500           2   \n",
       "\n",
       "       Hour_Dep_Time  ArrivalHour  AirLineEnc  SourceEnc  DestinationEnc  \\\n",
       "0                  5           13           1          3               0   \n",
       "1                  9            4           4          2               1   \n",
       "2                 18           23           3          3               0   \n",
       "3                 16           21           3          0               5   \n",
       "4                  9           11           8          3               0   \n",
       "...              ...          ...         ...        ...             ...   \n",
       "10587             19           22           0          3               0   \n",
       "10588             20           23           1          3               0   \n",
       "10589              8           11           4          0               2   \n",
       "10590             11           14          10          0               5   \n",
       "10591             10           19           1          2               1   \n",
       "\n",
       "       AdditionalInfoEnc  MealIncludedEnc  DepDayEnc  ArrivDayEnc  \\\n",
       "0                      7                1          0            4   \n",
       "1                      7                1          2            0   \n",
       "2                      7                1          1            3   \n",
       "3                      7                1          1            3   \n",
       "4                      7                1          2            2   \n",
       "...                  ...              ...        ...          ...   \n",
       "10587                  7                1          3            3   \n",
       "10588                  7                1          3            3   \n",
       "10589                  7                1          2            2   \n",
       "10590                  7                1          2            4   \n",
       "10591                  7                1          2            3   \n",
       "\n",
       "       FlightLengthEnc  \n",
       "0                    1  \n",
       "1                    0  \n",
       "2                    1  \n",
       "3                    1  \n",
       "4                    2  \n",
       "...                ...  \n",
       "10587                2  \n",
       "10588                2  \n",
       "10589                1  \n",
       "10590                2  \n",
       "10591                1  \n",
       "\n",
       "[10592 rows x 14 columns]"
      ]
     },
     "execution_count": 89,
     "metadata": {},
     "output_type": "execute_result"
    }
   ],
   "source": [
    "X"
   ]
  },
  {
   "cell_type": "code",
   "execution_count": 90,
   "id": "4f27f3e5",
   "metadata": {
    "execution": {
     "iopub.execute_input": "2022-03-28T19:13:13.891009Z",
     "iopub.status.busy": "2022-03-28T19:13:13.890426Z",
     "iopub.status.idle": "2022-03-28T19:13:13.935053Z",
     "shell.execute_reply": "2022-03-28T19:13:13.935531Z",
     "shell.execute_reply.started": "2022-03-28T19:08:57.691414Z"
    },
    "papermill": {
     "duration": 0.173965,
     "end_time": "2022-03-28T19:13:13.935695",
     "exception": false,
     "start_time": "2022-03-28T19:13:13.761730",
     "status": "completed"
    },
    "tags": []
   },
   "outputs": [],
   "source": [
    "from sklearn.model_selection import train_test_split"
   ]
  },
  {
   "cell_type": "code",
   "execution_count": 91,
   "id": "238e9b29",
   "metadata": {
    "execution": {
     "iopub.execute_input": "2022-03-28T19:13:14.190525Z",
     "iopub.status.busy": "2022-03-28T19:13:14.189866Z",
     "iopub.status.idle": "2022-03-28T19:13:14.197783Z",
     "shell.execute_reply": "2022-03-28T19:13:14.198219Z",
     "shell.execute_reply.started": "2022-03-28T19:08:57.715251Z"
    },
    "papermill": {
     "duration": 0.137653,
     "end_time": "2022-03-28T19:13:14.198381",
     "exception": false,
     "start_time": "2022-03-28T19:13:14.060728",
     "status": "completed"
    },
    "tags": []
   },
   "outputs": [
    {
     "data": {
      "text/plain": [
       "((7944, 14), (2648, 14), (7944,), (2648,))"
      ]
     },
     "execution_count": 91,
     "metadata": {},
     "output_type": "execute_result"
    }
   ],
   "source": [
    "X_train,X_test, y_train,y_test = train_test_split(X,y,test_size = 0.25,shuffle = True , random_state = 44)\n",
    "\n",
    "X_train.shape,X_test.shape,y_train.shape,y_test.shape"
   ]
  },
  {
   "cell_type": "code",
   "execution_count": 92,
   "id": "ec9b2062",
   "metadata": {
    "execution": {
     "iopub.execute_input": "2022-03-28T19:13:14.460468Z",
     "iopub.status.busy": "2022-03-28T19:13:14.459895Z",
     "iopub.status.idle": "2022-03-28T19:13:14.638301Z",
     "shell.execute_reply": "2022-03-28T19:13:14.637802Z",
     "shell.execute_reply.started": "2022-03-28T19:08:57.730433Z"
    },
    "papermill": {
     "duration": 0.309795,
     "end_time": "2022-03-28T19:13:14.638440",
     "exception": false,
     "start_time": "2022-03-28T19:13:14.328645",
     "status": "completed"
    },
    "tags": []
   },
   "outputs": [],
   "source": [
    "from sklearn.linear_model import LinearRegression,SGDRegressor,Lasso,Ridge\n",
    "from sklearn.ensemble import RandomForestRegressor,GradientBoostingRegressor\n",
    "from sklearn.svm import SVR\n",
    "from sklearn.tree import DecisionTreeRegressor\n",
    "from sklearn.neighbors import KNeighborsRegressor\n",
    "from sklearn.metrics import mean_absolute_error,mean_squared_error,median_absolute_error \n",
    "\n",
    "LinearRegressionModel = LinearRegression(fit_intercept=True, normalize=True,copy_X=True,n_jobs=-1)\n",
    "SGDRegressionModel = SGDRegressor(alpha=0.1,random_state=33,penalty='l2',loss = 'huber')\n",
    "LassoRegressionModel = Lasso(alpha=1.0,random_state=33,normalize=False)\n",
    "RidgeRegressionModel = Ridge(alpha=1.0,random_state=33)\n",
    "RandomForestRegressorModel = RandomForestRegressor(n_estimators=1000,max_depth=8, random_state=33)\n",
    "GBRModel = GradientBoostingRegressor(n_estimators=500,max_depth=7,learning_rate = 1.5 ,random_state=33)\n",
    "SVRModel = SVR(C = 1.0 ,epsilon=0.1,kernel = 'rbf') \n",
    "DecisionTreeRegressorModel = DecisionTreeRegressor( max_depth=3,random_state=33)\n",
    "KNeighborsRegressorModel = KNeighborsRegressor(n_neighbors = 5, weights='uniform',algorithm = 'auto')    \n",
    "\n",
    "\n",
    "Models = [LinearRegressionModel,SGDRegressionModel,LassoRegressionModel,RidgeRegressionModel,RandomForestRegressorModel,\n",
    "          GBRModel,SVRModel,DecisionTreeRegressorModel,KNeighborsRegressorModel]\n"
   ]
  },
  {
   "cell_type": "code",
   "execution_count": 93,
   "id": "d0bdc004",
   "metadata": {
    "execution": {
     "iopub.execute_input": "2022-03-28T19:13:14.894133Z",
     "iopub.status.busy": "2022-03-28T19:13:14.893379Z",
     "iopub.status.idle": "2022-03-28T19:13:45.967798Z",
     "shell.execute_reply": "2022-03-28T19:13:45.968314Z",
     "shell.execute_reply.started": "2022-03-28T19:08:57.953070Z"
    },
    "papermill": {
     "duration": 31.20426,
     "end_time": "2022-03-28T19:13:45.968481",
     "exception": false,
     "start_time": "2022-03-28T19:13:14.764221",
     "status": "completed"
    },
    "tags": []
   },
   "outputs": [
    {
     "name": "stdout",
     "output_type": "stream",
     "text": [
      "for Model LinearRegression\n",
      "Train Score is : 0.48210021656232194\n",
      "Test Score is : 0.4710814686303183\n",
      "MAE value is  : 2366.9140052054704\n",
      "MSE value is  : 10544854.054514736\n",
      "MdSE value is  : 1920.0350468034285\n",
      "=================================================\n",
      "for Model SGDRegressor\n",
      "Train Score is : -0.36078781377453417\n",
      "Test Score is : -0.3773612281585108\n",
      "MAE value is  : 4078.1177137351665\n",
      "MSE value is  : 27459943.771807894\n",
      "MdSE value is  : 3060.6587937900895\n",
      "=================================================\n",
      "for Model Lasso\n",
      "Train Score is : 0.48209642283998966\n",
      "Test Score is : 0.4711816571896449\n",
      "MAE value is  : 2366.3151530580944\n",
      "MSE value is  : 10542856.632088836\n",
      "MdSE value is  : 1920.2913371104323\n",
      "=================================================\n",
      "for Model Ridge\n",
      "Train Score is : 0.4820999308629763\n",
      "Test Score is : 0.4711141089079085\n"
     ]
    },
    {
     "name": "stderr",
     "output_type": "stream",
     "text": [
      "/opt/conda/lib/python3.7/site-packages/sklearn/linear_model/_base.py:145: FutureWarning: 'normalize' was deprecated in version 1.0 and will be removed in 1.2.\n",
      "If you wish to scale the data, use Pipeline with a StandardScaler in a preprocessing stage. To reproduce the previous behavior:\n",
      "\n",
      "from sklearn.pipeline import make_pipeline\n",
      "\n",
      "model = make_pipeline(StandardScaler(with_mean=False), LinearRegression())\n",
      "\n",
      "If you wish to pass a sample_weight parameter, you need to pass it as a fit parameter to each step of the pipeline as follows:\n",
      "\n",
      "kwargs = {s[0] + '__sample_weight': sample_weight for s in model.steps}\n",
      "model.fit(X, y, **kwargs)\n",
      "\n",
      "\n",
      "  FutureWarning,\n",
      "/opt/conda/lib/python3.7/site-packages/sklearn/linear_model/_base.py:155: FutureWarning: 'normalize' was deprecated in version 1.0 and will be removed in 1.2. Please leave the normalize parameter to its default value to silence this warning. The default behavior of this estimator is to not do any normalization. If normalization is needed please use sklearn.preprocessing.StandardScaler instead.\n",
      "  FutureWarning,\n"
     ]
    },
    {
     "name": "stdout",
     "output_type": "stream",
     "text": [
      "MAE value is  : 2366.750480427889\n",
      "MSE value is  : 10544203.317315955\n",
      "MdSE value is  : 1919.5426741696574\n",
      "=================================================\n",
      "for Model RandomForestRegressor\n",
      "Train Score is : 0.882407243176945\n",
      "Test Score is : 0.7921527405568698\n",
      "MAE value is  : 1179.7979131708585\n",
      "MSE value is  : 4143774.2988187913\n",
      "MdSE value is  : 705.0644598001154\n",
      "=================================================\n",
      "for Model GradientBoostingRegressor\n",
      "Train Score is : 0.9956415734849003\n",
      "Test Score is : 0.6715500506042225\n",
      "MAE value is  : 1380.0501336775017\n",
      "MSE value is  : 6548185.73216237\n",
      "MdSE value is  : 781.2011823527655\n",
      "=================================================\n",
      "for Model SVR\n",
      "Train Score is : 0.15654286211378043\n",
      "Test Score is : 0.16535961511360175\n",
      "MAE value is  : 3027.1916590522196\n",
      "MSE value is  : 16639918.105799176\n",
      "MdSE value is  : 2548.5308432042734\n",
      "=================================================\n",
      "for Model DecisionTreeRegressor\n",
      "Train Score is : 0.5433870589982432\n",
      "Test Score is : 0.5057635079399678\n",
      "MAE value is  : 2018.1048982257785\n",
      "MSE value is  : 9853411.00394485\n",
      "MdSE value is  : 1428.6999271667883\n",
      "=================================================\n",
      "for Model KNeighborsRegressor\n",
      "Train Score is : 0.7218462786272628\n",
      "Test Score is : 0.5279540143292245\n",
      "MAE value is  : 1887.8947129909366\n",
      "MSE value is  : 9411007.046827795\n",
      "MdSE value is  : 1206.8999999999996\n",
      "=================================================\n"
     ]
    }
   ],
   "source": [
    "for Model in Models : \n",
    "    print(f'for Model {str(Model).split(\"(\")[0]}')\n",
    "    Model.fit(X_train, y_train)\n",
    "    print(f'Train Score is : {Model.score(X_train, y_train)}')\n",
    "    print(f'Test Score is : {Model.score(X_test, y_test)}')\n",
    "    y_pred = Model.predict(X_test)\n",
    "    print(f'MAE value is  : {mean_absolute_error(y_test, y_pred)}')\n",
    "    print(f'MSE value is  : {mean_squared_error(y_test, y_pred)}')\n",
    "    print(f'MdSE value is  : {median_absolute_error(y_test, y_pred)}')\n",
    "    print('=================================================')\n"
   ]
  },
  {
   "cell_type": "code",
   "execution_count": 94,
   "id": "23d37005",
   "metadata": {
    "execution": {
     "iopub.execute_input": "2022-03-28T19:13:46.247284Z",
     "iopub.status.busy": "2022-03-28T19:13:46.246647Z",
     "iopub.status.idle": "2022-03-28T19:15:10.227048Z",
     "shell.execute_reply": "2022-03-28T19:15:10.227693Z",
     "shell.execute_reply.started": "2022-03-28T19:09:29.222510Z"
    },
    "papermill": {
     "duration": 84.125152,
     "end_time": "2022-03-28T19:15:10.227893",
     "exception": false,
     "start_time": "2022-03-28T19:13:46.102741",
     "status": "completed"
    },
    "tags": []
   },
   "outputs": [
    {
     "name": "stdout",
     "output_type": "stream",
     "text": [
      "All Results are :\n",
      "     mean_test_score  std_test_score                                   params  \\\n",
      "0          0.466898        0.005522    {'max_depth': 2, 'n_estimators': 100}   \n",
      "1          0.469376        0.008243    {'max_depth': 2, 'n_estimators': 200}   \n",
      "2          0.469814        0.008585    {'max_depth': 2, 'n_estimators': 500}   \n",
      "3          0.469252        0.008139   {'max_depth': 2, 'n_estimators': 1000}   \n",
      "4          0.627902        0.032620    {'max_depth': 4, 'n_estimators': 100}   \n",
      "5          0.629231        0.029266    {'max_depth': 4, 'n_estimators': 200}   \n",
      "6          0.630594        0.030714    {'max_depth': 4, 'n_estimators': 500}   \n",
      "7          0.630792        0.030530   {'max_depth': 4, 'n_estimators': 1000}   \n",
      "8          0.805211        0.005709    {'max_depth': 8, 'n_estimators': 100}   \n",
      "9          0.807351        0.007402    {'max_depth': 8, 'n_estimators': 200}   \n",
      "10         0.806599        0.006725    {'max_depth': 8, 'n_estimators': 500}   \n",
      "11         0.806901        0.006887   {'max_depth': 8, 'n_estimators': 1000}   \n",
      "12         0.830391        0.008258   {'max_depth': 10, 'n_estimators': 100}   \n",
      "13         0.833136        0.010476   {'max_depth': 10, 'n_estimators': 200}   \n",
      "14         0.832689        0.010059   {'max_depth': 10, 'n_estimators': 500}   \n",
      "15         0.832231        0.010231  {'max_depth': 10, 'n_estimators': 1000}   \n",
      "\n",
      "    rank_test_score  mean_fit_time  \n",
      "0                16       0.250203  \n",
      "1                14       0.494070  \n",
      "2                13       1.216588  \n",
      "3                15       2.453773  \n",
      "4                12       0.371876  \n",
      "5                11       0.739206  \n",
      "6                10       1.849504  \n",
      "7                 9       3.713725  \n",
      "8                 8       0.622430  \n",
      "9                 5       1.258026  \n",
      "10                7       3.109028  \n",
      "11                6       6.246656  \n",
      "12                4       0.751724  \n",
      "13                1       1.500400  \n",
      "14                2       3.832777  \n",
      "15                3       7.623283  \n",
      "Best Score is : 0.8331363775790999\n",
      "Best Parameters are : {'max_depth': 10, 'n_estimators': 200}\n",
      "Best Estimator is : RandomForestRegressor(max_depth=10, n_estimators=200, random_state=33)\n"
     ]
    }
   ],
   "source": [
    "from sklearn.model_selection import GridSearchCV\n",
    "\n",
    "SelectedModel = RandomForestRegressor(random_state=33)\n",
    "SelectedParameters = {'n_estimators':[100,200,500,1000],'max_depth':[2,4,8,10]}\n",
    "\n",
    "\n",
    "\n",
    "GridSearchModel = GridSearchCV(SelectedModel,SelectedParameters,\n",
    "                               cv = 2,return_train_score=True)\n",
    "GridSearchModel.fit(X_train, y_train)\n",
    "sorted(GridSearchModel.cv_results_.keys())\n",
    "GridSearchResults = pd.DataFrame(GridSearchModel.cv_results_)[\n",
    "    ['mean_test_score','std_test_score','params','rank_test_score','mean_fit_time']]\n",
    "\n",
    "# Showing Results\n",
    "print('All Results are :\\n', GridSearchResults )\n",
    "print('Best Score is :', GridSearchModel.best_score_)\n",
    "print('Best Parameters are :', GridSearchModel.best_params_)\n",
    "print('Best Estimator is :', GridSearchModel.best_estimator_)"
   ]
  },
  {
   "cell_type": "code",
   "execution_count": 95,
   "id": "5577a6eb",
   "metadata": {
    "execution": {
     "iopub.execute_input": "2022-03-28T19:15:10.507645Z",
     "iopub.status.busy": "2022-03-28T19:15:10.507033Z",
     "iopub.status.idle": "2022-03-28T19:15:10.512083Z",
     "shell.execute_reply": "2022-03-28T19:15:10.512590Z",
     "shell.execute_reply.started": "2022-03-28T19:10:59.445852Z"
    },
    "papermill": {
     "duration": 0.146028,
     "end_time": "2022-03-28T19:15:10.512858",
     "exception": false,
     "start_time": "2022-03-28T19:15:10.366830",
     "status": "completed"
    },
    "tags": []
   },
   "outputs": [
    {
     "data": {
      "text/plain": [
       "RandomForestRegressor(max_depth=10, n_estimators=200, random_state=33)"
      ]
     },
     "execution_count": 95,
     "metadata": {},
     "output_type": "execute_result"
    }
   ],
   "source": [
    "GridSearchModel.best_estimator_"
   ]
  },
  {
   "cell_type": "markdown",
   "id": "0322fb9d",
   "metadata": {
    "papermill": {
     "duration": 0.137843,
     "end_time": "2022-03-28T19:15:10.784623",
     "exception": false,
     "start_time": "2022-03-28T19:15:10.646780",
     "status": "completed"
    },
    "tags": []
   },
   "source": [
    "# for test data"
   ]
  },
  {
   "cell_type": "code",
   "execution_count": 96,
   "id": "2fe361d7",
   "metadata": {
    "execution": {
     "iopub.execute_input": "2022-03-28T19:15:11.066630Z",
     "iopub.status.busy": "2022-03-28T19:15:11.065966Z",
     "iopub.status.idle": "2022-03-28T19:15:11.117165Z",
     "shell.execute_reply": "2022-03-28T19:15:11.117596Z",
     "shell.execute_reply.started": "2022-03-28T19:10:59.454075Z"
    },
    "papermill": {
     "duration": 0.194031,
     "end_time": "2022-03-28T19:15:11.117772",
     "exception": false,
     "start_time": "2022-03-28T19:15:10.923741",
     "status": "completed"
    },
    "tags": []
   },
   "outputs": [
    {
     "data": {
      "text/html": [
       "<div>\n",
       "<style scoped>\n",
       "    .dataframe tbody tr th:only-of-type {\n",
       "        vertical-align: middle;\n",
       "    }\n",
       "\n",
       "    .dataframe tbody tr th {\n",
       "        vertical-align: top;\n",
       "    }\n",
       "\n",
       "    .dataframe thead th {\n",
       "        text-align: right;\n",
       "    }\n",
       "</style>\n",
       "<table border=\"1\" class=\"dataframe\">\n",
       "  <thead>\n",
       "    <tr style=\"text-align: right;\">\n",
       "      <th></th>\n",
       "      <th>Airline</th>\n",
       "      <th>Date_of_Journey</th>\n",
       "      <th>Source</th>\n",
       "      <th>Destination</th>\n",
       "      <th>Route</th>\n",
       "      <th>Dep_Time</th>\n",
       "      <th>Arrival_Time</th>\n",
       "      <th>Duration</th>\n",
       "      <th>Total_Stops</th>\n",
       "      <th>Additional_Info</th>\n",
       "      <th>...</th>\n",
       "      <th>MonthOfJourney</th>\n",
       "      <th>ArrivalTime</th>\n",
       "      <th>DurationTime</th>\n",
       "      <th>StopsCount</th>\n",
       "      <th>Meal Included</th>\n",
       "      <th>DepartureDayPart</th>\n",
       "      <th>ArrivalDayPart</th>\n",
       "      <th>FlightLength</th>\n",
       "      <th>DepartureHour</th>\n",
       "      <th>ArrivalHour</th>\n",
       "    </tr>\n",
       "  </thead>\n",
       "  <tbody>\n",
       "    <tr>\n",
       "      <th>0</th>\n",
       "      <td>Jet Airways</td>\n",
       "      <td>6/06/2019</td>\n",
       "      <td>Delhi</td>\n",
       "      <td>Cochin</td>\n",
       "      <td>DEL → BOM → COK</td>\n",
       "      <td>17:30</td>\n",
       "      <td>04:25 07 Jun</td>\n",
       "      <td>10h 55m</td>\n",
       "      <td>1 stop</td>\n",
       "      <td>No info</td>\n",
       "      <td>...</td>\n",
       "      <td>06</td>\n",
       "      <td>04:25</td>\n",
       "      <td>655</td>\n",
       "      <td>1</td>\n",
       "      <td>1</td>\n",
       "      <td>Evening</td>\n",
       "      <td>Early Morning</td>\n",
       "      <td>Long</td>\n",
       "      <td>17</td>\n",
       "      <td>04</td>\n",
       "    </tr>\n",
       "    <tr>\n",
       "      <th>1</th>\n",
       "      <td>IndiGo</td>\n",
       "      <td>12/05/2019</td>\n",
       "      <td>Kolkata</td>\n",
       "      <td>Banglore</td>\n",
       "      <td>CCU → MAA → BLR</td>\n",
       "      <td>06:20</td>\n",
       "      <td>10:20</td>\n",
       "      <td>4h</td>\n",
       "      <td>1 stop</td>\n",
       "      <td>No info</td>\n",
       "      <td>...</td>\n",
       "      <td>05</td>\n",
       "      <td>10:20</td>\n",
       "      <td>240</td>\n",
       "      <td>1</td>\n",
       "      <td>1</td>\n",
       "      <td>Morning</td>\n",
       "      <td>Morning</td>\n",
       "      <td>Medium</td>\n",
       "      <td>06</td>\n",
       "      <td>10</td>\n",
       "    </tr>\n",
       "    <tr>\n",
       "      <th>2</th>\n",
       "      <td>Jet Airways</td>\n",
       "      <td>21/05/2019</td>\n",
       "      <td>Delhi</td>\n",
       "      <td>Cochin</td>\n",
       "      <td>DEL → BOM → COK</td>\n",
       "      <td>19:15</td>\n",
       "      <td>19:00 22 May</td>\n",
       "      <td>23h 45m</td>\n",
       "      <td>1 stop</td>\n",
       "      <td>In-flight meal not included</td>\n",
       "      <td>...</td>\n",
       "      <td>05</td>\n",
       "      <td>19:00</td>\n",
       "      <td>1425</td>\n",
       "      <td>1</td>\n",
       "      <td>0</td>\n",
       "      <td>Night</td>\n",
       "      <td>Night</td>\n",
       "      <td>Long</td>\n",
       "      <td>19</td>\n",
       "      <td>19</td>\n",
       "    </tr>\n",
       "    <tr>\n",
       "      <th>3</th>\n",
       "      <td>Multiple carriers</td>\n",
       "      <td>21/05/2019</td>\n",
       "      <td>Delhi</td>\n",
       "      <td>Cochin</td>\n",
       "      <td>DEL → BOM → COK</td>\n",
       "      <td>08:00</td>\n",
       "      <td>21:00</td>\n",
       "      <td>13h</td>\n",
       "      <td>1 stop</td>\n",
       "      <td>No info</td>\n",
       "      <td>...</td>\n",
       "      <td>05</td>\n",
       "      <td>21:00</td>\n",
       "      <td>780</td>\n",
       "      <td>1</td>\n",
       "      <td>1</td>\n",
       "      <td>Morning</td>\n",
       "      <td>Night</td>\n",
       "      <td>Long</td>\n",
       "      <td>08</td>\n",
       "      <td>21</td>\n",
       "    </tr>\n",
       "    <tr>\n",
       "      <th>4</th>\n",
       "      <td>Air Asia</td>\n",
       "      <td>24/06/2019</td>\n",
       "      <td>Banglore</td>\n",
       "      <td>Delhi</td>\n",
       "      <td>BLR → DEL</td>\n",
       "      <td>23:55</td>\n",
       "      <td>02:45 25 Jun</td>\n",
       "      <td>2h 50m</td>\n",
       "      <td>non-stop</td>\n",
       "      <td>No info</td>\n",
       "      <td>...</td>\n",
       "      <td>06</td>\n",
       "      <td>02:45</td>\n",
       "      <td>170</td>\n",
       "      <td>0</td>\n",
       "      <td>1</td>\n",
       "      <td>Night</td>\n",
       "      <td>Early Morning</td>\n",
       "      <td>Short</td>\n",
       "      <td>23</td>\n",
       "      <td>02</td>\n",
       "    </tr>\n",
       "  </tbody>\n",
       "</table>\n",
       "<p>5 rows × 21 columns</p>\n",
       "</div>"
      ],
      "text/plain": [
       "             Airline Date_of_Journey    Source Destination            Route  \\\n",
       "0        Jet Airways       6/06/2019     Delhi      Cochin  DEL → BOM → COK   \n",
       "1             IndiGo      12/05/2019   Kolkata    Banglore  CCU → MAA → BLR   \n",
       "2        Jet Airways      21/05/2019     Delhi      Cochin  DEL → BOM → COK   \n",
       "3  Multiple carriers      21/05/2019     Delhi      Cochin  DEL → BOM → COK   \n",
       "4           Air Asia      24/06/2019  Banglore       Delhi        BLR → DEL   \n",
       "\n",
       "  Dep_Time  Arrival_Time Duration Total_Stops              Additional_Info  \\\n",
       "0    17:30  04:25 07 Jun  10h 55m      1 stop                      No info   \n",
       "1    06:20         10:20       4h      1 stop                      No info   \n",
       "2    19:15  19:00 22 May  23h 45m      1 stop  In-flight meal not included   \n",
       "3    08:00         21:00      13h      1 stop                      No info   \n",
       "4    23:55  02:45 25 Jun   2h 50m    non-stop                      No info   \n",
       "\n",
       "   ... MonthOfJourney ArrivalTime DurationTime  StopsCount  Meal Included  \\\n",
       "0  ...             06       04:25          655           1              1   \n",
       "1  ...             05       10:20          240           1              1   \n",
       "2  ...             05       19:00         1425           1              0   \n",
       "3  ...             05       21:00          780           1              1   \n",
       "4  ...             06       02:45          170           0              1   \n",
       "\n",
       "   DepartureDayPart ArrivalDayPart FlightLength DepartureHour ArrivalHour  \n",
       "0           Evening  Early Morning         Long            17          04  \n",
       "1           Morning        Morning       Medium            06          10  \n",
       "2             Night          Night         Long            19          19  \n",
       "3           Morning          Night         Long            08          21  \n",
       "4             Night  Early Morning        Short            23          02  \n",
       "\n",
       "[5 rows x 21 columns]"
      ]
     },
     "execution_count": 96,
     "metadata": {},
     "output_type": "execute_result"
    }
   ],
   "source": [
    "def DurationTime(n) : \n",
    "    if 'm' in n and 'h' in n : \n",
    "        H = n.split()[0]\n",
    "        H = H.strip('h')\n",
    "        \n",
    "        M = n.split()[1]\n",
    "        M = M.strip('m')\n",
    "        return  int(M) + (60*int(H))\n",
    "    elif 'm' in n and not 'h' in n : \n",
    "        M = n.strip('m')\n",
    "        return  int(M) \n",
    "    else : \n",
    "        n = n.strip('h')\n",
    "        return int(n)*60\n",
    "\n",
    "    \n",
    "Test['DayOfJourney'] = Test['Date_of_Journey'].apply(lambda x : x.split('/')[0])\n",
    "Test['MonthOfJourney'] = Test['Date_of_Journey'].apply(lambda x : x.split('/')[1])\n",
    "Test['ArrivalTime'] = Test['Arrival_Time'].apply(lambda x : x.split()[0])\n",
    "Test['DurationTime'] = Test['Duration'].apply(lambda x  :DurationTime(x))\n",
    "Test['StopsCount'] = Test['Route'].apply(lambda x : x.count('→')-1)\n",
    "Test['Meal Included'] = Test['Additional_Info'].apply(lambda x : 1 if \n",
    "                                                      x !='In-flight meal not included' else 0 )\n",
    "Test['Additional_Info'].replace('No Info','No info',inplace=True)\n",
    "Test['DepartureDayPart'] =Test['Dep_Time'].apply(lambda x : DayPart(x))\n",
    "Test['ArrivalDayPart'] = Test['ArrivalTime'].apply(lambda x : DayPart(x))\n",
    "Test['FlightLength'] = Test['DurationTime'].apply(lambda x : FlightLength(x))\n",
    "Test['DepartureHour'] = Test['Dep_Time'].apply(lambda x : x.split(':')[0])\n",
    "Test['ArrivalHour'] = Test['ArrivalTime'].apply(lambda x : x.split(':')[0])\n",
    "\n",
    "Test.head()\n"
   ]
  },
  {
   "cell_type": "code",
   "execution_count": 97,
   "id": "b4d8226b",
   "metadata": {
    "execution": {
     "iopub.execute_input": "2022-03-28T19:15:11.399792Z",
     "iopub.status.busy": "2022-03-28T19:15:11.398917Z",
     "iopub.status.idle": "2022-03-28T19:15:11.429234Z",
     "shell.execute_reply": "2022-03-28T19:15:11.429814Z",
     "shell.execute_reply.started": "2022-03-28T19:10:59.525866Z"
    },
    "papermill": {
     "duration": 0.175509,
     "end_time": "2022-03-28T19:15:11.430280",
     "exception": false,
     "start_time": "2022-03-28T19:15:11.254771",
     "status": "completed"
    },
    "tags": []
   },
   "outputs": [
    {
     "data": {
      "text/html": [
       "<div>\n",
       "<style scoped>\n",
       "    .dataframe tbody tr th:only-of-type {\n",
       "        vertical-align: middle;\n",
       "    }\n",
       "\n",
       "    .dataframe tbody tr th {\n",
       "        vertical-align: top;\n",
       "    }\n",
       "\n",
       "    .dataframe thead th {\n",
       "        text-align: right;\n",
       "    }\n",
       "</style>\n",
       "<table border=\"1\" class=\"dataframe\">\n",
       "  <thead>\n",
       "    <tr style=\"text-align: right;\">\n",
       "      <th></th>\n",
       "      <th>Airline</th>\n",
       "      <th>Date_of_Journey</th>\n",
       "      <th>Source</th>\n",
       "      <th>Destination</th>\n",
       "      <th>Route</th>\n",
       "      <th>Dep_Time</th>\n",
       "      <th>Arrival_Time</th>\n",
       "      <th>Duration</th>\n",
       "      <th>Total_Stops</th>\n",
       "      <th>Additional_Info</th>\n",
       "      <th>...</th>\n",
       "      <th>DepartureHour</th>\n",
       "      <th>ArrivalHour</th>\n",
       "      <th>AirlineEnc</th>\n",
       "      <th>SourceEnc</th>\n",
       "      <th>DestinationEnc</th>\n",
       "      <th>AdditionalInfoEnc</th>\n",
       "      <th>MealIncludedEnc</th>\n",
       "      <th>DepartureDayPartEnc</th>\n",
       "      <th>ArrivalDayPartEnc</th>\n",
       "      <th>FlightLengthEnc</th>\n",
       "    </tr>\n",
       "  </thead>\n",
       "  <tbody>\n",
       "    <tr>\n",
       "      <th>0</th>\n",
       "      <td>Jet Airways</td>\n",
       "      <td>6/06/2019</td>\n",
       "      <td>Delhi</td>\n",
       "      <td>Cochin</td>\n",
       "      <td>DEL → BOM → COK</td>\n",
       "      <td>17:30</td>\n",
       "      <td>04:25 07 Jun</td>\n",
       "      <td>10h 55m</td>\n",
       "      <td>1 stop</td>\n",
       "      <td>No info</td>\n",
       "      <td>...</td>\n",
       "      <td>17</td>\n",
       "      <td>04</td>\n",
       "      <td>4</td>\n",
       "      <td>2</td>\n",
       "      <td>1</td>\n",
       "      <td>7</td>\n",
       "      <td>1</td>\n",
       "      <td>1</td>\n",
       "      <td>0</td>\n",
       "      <td>0</td>\n",
       "    </tr>\n",
       "    <tr>\n",
       "      <th>1</th>\n",
       "      <td>IndiGo</td>\n",
       "      <td>12/05/2019</td>\n",
       "      <td>Kolkata</td>\n",
       "      <td>Banglore</td>\n",
       "      <td>CCU → MAA → BLR</td>\n",
       "      <td>06:20</td>\n",
       "      <td>10:20</td>\n",
       "      <td>4h</td>\n",
       "      <td>1 stop</td>\n",
       "      <td>No info</td>\n",
       "      <td>...</td>\n",
       "      <td>06</td>\n",
       "      <td>10</td>\n",
       "      <td>3</td>\n",
       "      <td>3</td>\n",
       "      <td>0</td>\n",
       "      <td>7</td>\n",
       "      <td>1</td>\n",
       "      <td>2</td>\n",
       "      <td>2</td>\n",
       "      <td>1</td>\n",
       "    </tr>\n",
       "    <tr>\n",
       "      <th>2</th>\n",
       "      <td>Jet Airways</td>\n",
       "      <td>21/05/2019</td>\n",
       "      <td>Delhi</td>\n",
       "      <td>Cochin</td>\n",
       "      <td>DEL → BOM → COK</td>\n",
       "      <td>19:15</td>\n",
       "      <td>19:00 22 May</td>\n",
       "      <td>23h 45m</td>\n",
       "      <td>1 stop</td>\n",
       "      <td>In-flight meal not included</td>\n",
       "      <td>...</td>\n",
       "      <td>19</td>\n",
       "      <td>19</td>\n",
       "      <td>4</td>\n",
       "      <td>2</td>\n",
       "      <td>1</td>\n",
       "      <td>5</td>\n",
       "      <td>0</td>\n",
       "      <td>3</td>\n",
       "      <td>3</td>\n",
       "      <td>0</td>\n",
       "    </tr>\n",
       "    <tr>\n",
       "      <th>3</th>\n",
       "      <td>Multiple carriers</td>\n",
       "      <td>21/05/2019</td>\n",
       "      <td>Delhi</td>\n",
       "      <td>Cochin</td>\n",
       "      <td>DEL → BOM → COK</td>\n",
       "      <td>08:00</td>\n",
       "      <td>21:00</td>\n",
       "      <td>13h</td>\n",
       "      <td>1 stop</td>\n",
       "      <td>No info</td>\n",
       "      <td>...</td>\n",
       "      <td>08</td>\n",
       "      <td>21</td>\n",
       "      <td>6</td>\n",
       "      <td>2</td>\n",
       "      <td>1</td>\n",
       "      <td>7</td>\n",
       "      <td>1</td>\n",
       "      <td>2</td>\n",
       "      <td>3</td>\n",
       "      <td>0</td>\n",
       "    </tr>\n",
       "    <tr>\n",
       "      <th>4</th>\n",
       "      <td>Air Asia</td>\n",
       "      <td>24/06/2019</td>\n",
       "      <td>Banglore</td>\n",
       "      <td>Delhi</td>\n",
       "      <td>BLR → DEL</td>\n",
       "      <td>23:55</td>\n",
       "      <td>02:45 25 Jun</td>\n",
       "      <td>2h 50m</td>\n",
       "      <td>non-stop</td>\n",
       "      <td>No info</td>\n",
       "      <td>...</td>\n",
       "      <td>23</td>\n",
       "      <td>02</td>\n",
       "      <td>0</td>\n",
       "      <td>0</td>\n",
       "      <td>2</td>\n",
       "      <td>7</td>\n",
       "      <td>1</td>\n",
       "      <td>3</td>\n",
       "      <td>0</td>\n",
       "      <td>2</td>\n",
       "    </tr>\n",
       "  </tbody>\n",
       "</table>\n",
       "<p>5 rows × 29 columns</p>\n",
       "</div>"
      ],
      "text/plain": [
       "             Airline Date_of_Journey    Source Destination            Route  \\\n",
       "0        Jet Airways       6/06/2019     Delhi      Cochin  DEL → BOM → COK   \n",
       "1             IndiGo      12/05/2019   Kolkata    Banglore  CCU → MAA → BLR   \n",
       "2        Jet Airways      21/05/2019     Delhi      Cochin  DEL → BOM → COK   \n",
       "3  Multiple carriers      21/05/2019     Delhi      Cochin  DEL → BOM → COK   \n",
       "4           Air Asia      24/06/2019  Banglore       Delhi        BLR → DEL   \n",
       "\n",
       "  Dep_Time  Arrival_Time Duration Total_Stops              Additional_Info  \\\n",
       "0    17:30  04:25 07 Jun  10h 55m      1 stop                      No info   \n",
       "1    06:20         10:20       4h      1 stop                      No info   \n",
       "2    19:15  19:00 22 May  23h 45m      1 stop  In-flight meal not included   \n",
       "3    08:00         21:00      13h      1 stop                      No info   \n",
       "4    23:55  02:45 25 Jun   2h 50m    non-stop                      No info   \n",
       "\n",
       "   ... DepartureHour ArrivalHour AirlineEnc  SourceEnc  DestinationEnc  \\\n",
       "0  ...            17          04          4          2               1   \n",
       "1  ...            06          10          3          3               0   \n",
       "2  ...            19          19          4          2               1   \n",
       "3  ...            08          21          6          2               1   \n",
       "4  ...            23          02          0          0               2   \n",
       "\n",
       "   AdditionalInfoEnc MealIncludedEnc DepartureDayPartEnc ArrivalDayPartEnc  \\\n",
       "0                  7               1                   1                 0   \n",
       "1                  7               1                   2                 2   \n",
       "2                  5               0                   3                 3   \n",
       "3                  7               1                   2                 3   \n",
       "4                  7               1                   3                 0   \n",
       "\n",
       "  FlightLengthEnc  \n",
       "0               0  \n",
       "1               1  \n",
       "2               0  \n",
       "3               0  \n",
       "4               2  \n",
       "\n",
       "[5 rows x 29 columns]"
      ]
     },
     "execution_count": 97,
     "metadata": {},
     "output_type": "execute_result"
    }
   ],
   "source": [
    "def ApplyTestEncoder(Encoder,OriginalColumn) : \n",
    "    global Test\n",
    "    return Encoder.transform(Test[OriginalColumn])\n",
    "\n",
    "\n",
    "# AirLineEnc,SourceEnc,DestinationEnc,AdditionalInfoEnc,MealIncludedEnc,DepDayEnc,ArrivDayEnc,FlightLengthEnc = LabelEncoder(),LabelEncoder(),LabelEncoder(),LabelEncoder(),LabelEncoder(),LabelEncoder(),LabelEncoder(),LabelEncoder()\n",
    "\n",
    "\n",
    "\n",
    "Test['AirlineEnc'] = ApplyTestEncoder(AirLineEnc,'Airline')\n",
    "Test['SourceEnc'] = ApplyTestEncoder(SourceEnc,'Source')\n",
    "Test['DestinationEnc'] = ApplyTestEncoder(DestinationEnc,'Destination')\n",
    "Test['AdditionalInfoEnc'] = ApplyTestEncoder(AdditionalInfoEnc,'Additional_Info')\n",
    "Test['MealIncludedEnc'] = ApplyTestEncoder(MealIncludedEnc,'Meal Included')\n",
    "Test['DepartureDayPartEnc'] = ApplyTestEncoder(DepDayEnc,'DepartureDayPart')\n",
    "Test['ArrivalDayPartEnc'] = ApplyTestEncoder(ArrivDayEnc,'ArrivalDayPart')\n",
    "Test['FlightLengthEnc'] = ApplyTestEncoder(FlightLengthEnc,'FlightLength')\n",
    "Test.head()"
   ]
  },
  {
   "cell_type": "code",
   "execution_count": 98,
   "id": "ea6295eb",
   "metadata": {
    "execution": {
     "iopub.execute_input": "2022-03-28T19:15:11.711833Z",
     "iopub.status.busy": "2022-03-28T19:15:11.711192Z",
     "iopub.status.idle": "2022-03-28T19:15:11.716254Z",
     "shell.execute_reply": "2022-03-28T19:15:11.716765Z",
     "shell.execute_reply.started": "2022-03-28T19:10:59.569210Z"
    },
    "papermill": {
     "duration": 0.148349,
     "end_time": "2022-03-28T19:15:11.716939",
     "exception": false,
     "start_time": "2022-03-28T19:15:11.568590",
     "status": "completed"
    },
    "tags": []
   },
   "outputs": [
    {
     "data": {
      "text/plain": [
       "Index(['Airline', 'Date_of_Journey', 'Source', 'Destination', 'Route',\n",
       "       'Dep_Time', 'Arrival_Time', 'Duration', 'Total_Stops',\n",
       "       'Additional_Info', 'DayOfJourney', 'MonthOfJourney', 'ArrivalTime',\n",
       "       'DurationTime', 'StopsCount', 'Meal Included', 'DepartureDayPart',\n",
       "       'ArrivalDayPart', 'FlightLength', 'DepartureHour', 'ArrivalHour',\n",
       "       'AirlineEnc', 'SourceEnc', 'DestinationEnc', 'AdditionalInfoEnc',\n",
       "       'MealIncludedEnc', 'DepartureDayPartEnc', 'ArrivalDayPartEnc',\n",
       "       'FlightLengthEnc'],\n",
       "      dtype='object')"
      ]
     },
     "execution_count": 98,
     "metadata": {},
     "output_type": "execute_result"
    }
   ],
   "source": [
    "Test.columns"
   ]
  },
  {
   "cell_type": "code",
   "execution_count": 99,
   "id": "dfa54efa",
   "metadata": {
    "execution": {
     "iopub.execute_input": "2022-03-28T19:15:12.000649Z",
     "iopub.status.busy": "2022-03-28T19:15:12.000012Z",
     "iopub.status.idle": "2022-03-28T19:15:12.024307Z",
     "shell.execute_reply": "2022-03-28T19:15:12.024811Z",
     "shell.execute_reply.started": "2022-03-28T19:10:59.578885Z"
    },
    "papermill": {
     "duration": 0.170377,
     "end_time": "2022-03-28T19:15:12.024987",
     "exception": false,
     "start_time": "2022-03-28T19:15:11.854610",
     "status": "completed"
    },
    "tags": []
   },
   "outputs": [
    {
     "data": {
      "text/html": [
       "<div>\n",
       "<style scoped>\n",
       "    .dataframe tbody tr th:only-of-type {\n",
       "        vertical-align: middle;\n",
       "    }\n",
       "\n",
       "    .dataframe tbody tr th {\n",
       "        vertical-align: top;\n",
       "    }\n",
       "\n",
       "    .dataframe thead th {\n",
       "        text-align: right;\n",
       "    }\n",
       "</style>\n",
       "<table border=\"1\" class=\"dataframe\">\n",
       "  <thead>\n",
       "    <tr style=\"text-align: right;\">\n",
       "      <th></th>\n",
       "      <th>Airline</th>\n",
       "      <th>Date_of_Journey</th>\n",
       "      <th>Source</th>\n",
       "      <th>Destination</th>\n",
       "      <th>Route</th>\n",
       "      <th>Dep_Time</th>\n",
       "      <th>Arrival_Time</th>\n",
       "      <th>Duration</th>\n",
       "      <th>Total_Stops</th>\n",
       "      <th>Additional_Info</th>\n",
       "      <th>...</th>\n",
       "      <th>DepartureHour</th>\n",
       "      <th>ArrivalHour</th>\n",
       "      <th>AirlineEnc</th>\n",
       "      <th>SourceEnc</th>\n",
       "      <th>DestinationEnc</th>\n",
       "      <th>AdditionalInfoEnc</th>\n",
       "      <th>MealIncludedEnc</th>\n",
       "      <th>DepartureDayPartEnc</th>\n",
       "      <th>ArrivalDayPartEnc</th>\n",
       "      <th>FlightLengthEnc</th>\n",
       "    </tr>\n",
       "  </thead>\n",
       "  <tbody>\n",
       "    <tr>\n",
       "      <th>0</th>\n",
       "      <td>Jet Airways</td>\n",
       "      <td>6/06/2019</td>\n",
       "      <td>Delhi</td>\n",
       "      <td>Cochin</td>\n",
       "      <td>DEL → BOM → COK</td>\n",
       "      <td>17:30</td>\n",
       "      <td>04:25 07 Jun</td>\n",
       "      <td>10h 55m</td>\n",
       "      <td>1 stop</td>\n",
       "      <td>No info</td>\n",
       "      <td>...</td>\n",
       "      <td>17</td>\n",
       "      <td>4</td>\n",
       "      <td>4</td>\n",
       "      <td>2</td>\n",
       "      <td>1</td>\n",
       "      <td>7</td>\n",
       "      <td>1</td>\n",
       "      <td>1</td>\n",
       "      <td>0</td>\n",
       "      <td>0</td>\n",
       "    </tr>\n",
       "    <tr>\n",
       "      <th>1</th>\n",
       "      <td>IndiGo</td>\n",
       "      <td>12/05/2019</td>\n",
       "      <td>Kolkata</td>\n",
       "      <td>Banglore</td>\n",
       "      <td>CCU → MAA → BLR</td>\n",
       "      <td>06:20</td>\n",
       "      <td>10:20</td>\n",
       "      <td>4h</td>\n",
       "      <td>1 stop</td>\n",
       "      <td>No info</td>\n",
       "      <td>...</td>\n",
       "      <td>6</td>\n",
       "      <td>10</td>\n",
       "      <td>3</td>\n",
       "      <td>3</td>\n",
       "      <td>0</td>\n",
       "      <td>7</td>\n",
       "      <td>1</td>\n",
       "      <td>2</td>\n",
       "      <td>2</td>\n",
       "      <td>1</td>\n",
       "    </tr>\n",
       "    <tr>\n",
       "      <th>2</th>\n",
       "      <td>Jet Airways</td>\n",
       "      <td>21/05/2019</td>\n",
       "      <td>Delhi</td>\n",
       "      <td>Cochin</td>\n",
       "      <td>DEL → BOM → COK</td>\n",
       "      <td>19:15</td>\n",
       "      <td>19:00 22 May</td>\n",
       "      <td>23h 45m</td>\n",
       "      <td>1 stop</td>\n",
       "      <td>In-flight meal not included</td>\n",
       "      <td>...</td>\n",
       "      <td>19</td>\n",
       "      <td>19</td>\n",
       "      <td>4</td>\n",
       "      <td>2</td>\n",
       "      <td>1</td>\n",
       "      <td>5</td>\n",
       "      <td>0</td>\n",
       "      <td>3</td>\n",
       "      <td>3</td>\n",
       "      <td>0</td>\n",
       "    </tr>\n",
       "    <tr>\n",
       "      <th>3</th>\n",
       "      <td>Multiple carriers</td>\n",
       "      <td>21/05/2019</td>\n",
       "      <td>Delhi</td>\n",
       "      <td>Cochin</td>\n",
       "      <td>DEL → BOM → COK</td>\n",
       "      <td>08:00</td>\n",
       "      <td>21:00</td>\n",
       "      <td>13h</td>\n",
       "      <td>1 stop</td>\n",
       "      <td>No info</td>\n",
       "      <td>...</td>\n",
       "      <td>8</td>\n",
       "      <td>21</td>\n",
       "      <td>6</td>\n",
       "      <td>2</td>\n",
       "      <td>1</td>\n",
       "      <td>7</td>\n",
       "      <td>1</td>\n",
       "      <td>2</td>\n",
       "      <td>3</td>\n",
       "      <td>0</td>\n",
       "    </tr>\n",
       "    <tr>\n",
       "      <th>4</th>\n",
       "      <td>Air Asia</td>\n",
       "      <td>24/06/2019</td>\n",
       "      <td>Banglore</td>\n",
       "      <td>Delhi</td>\n",
       "      <td>BLR → DEL</td>\n",
       "      <td>23:55</td>\n",
       "      <td>02:45 25 Jun</td>\n",
       "      <td>2h 50m</td>\n",
       "      <td>non-stop</td>\n",
       "      <td>No info</td>\n",
       "      <td>...</td>\n",
       "      <td>23</td>\n",
       "      <td>2</td>\n",
       "      <td>0</td>\n",
       "      <td>0</td>\n",
       "      <td>2</td>\n",
       "      <td>7</td>\n",
       "      <td>1</td>\n",
       "      <td>3</td>\n",
       "      <td>0</td>\n",
       "      <td>2</td>\n",
       "    </tr>\n",
       "  </tbody>\n",
       "</table>\n",
       "<p>5 rows × 29 columns</p>\n",
       "</div>"
      ],
      "text/plain": [
       "             Airline Date_of_Journey    Source Destination            Route  \\\n",
       "0        Jet Airways       6/06/2019     Delhi      Cochin  DEL → BOM → COK   \n",
       "1             IndiGo      12/05/2019   Kolkata    Banglore  CCU → MAA → BLR   \n",
       "2        Jet Airways      21/05/2019     Delhi      Cochin  DEL → BOM → COK   \n",
       "3  Multiple carriers      21/05/2019     Delhi      Cochin  DEL → BOM → COK   \n",
       "4           Air Asia      24/06/2019  Banglore       Delhi        BLR → DEL   \n",
       "\n",
       "  Dep_Time  Arrival_Time Duration Total_Stops              Additional_Info  \\\n",
       "0    17:30  04:25 07 Jun  10h 55m      1 stop                      No info   \n",
       "1    06:20         10:20       4h      1 stop                      No info   \n",
       "2    19:15  19:00 22 May  23h 45m      1 stop  In-flight meal not included   \n",
       "3    08:00         21:00      13h      1 stop                      No info   \n",
       "4    23:55  02:45 25 Jun   2h 50m    non-stop                      No info   \n",
       "\n",
       "   ...  DepartureHour  ArrivalHour AirlineEnc  SourceEnc  DestinationEnc  \\\n",
       "0  ...             17            4          4          2               1   \n",
       "1  ...              6           10          3          3               0   \n",
       "2  ...             19           19          4          2               1   \n",
       "3  ...              8           21          6          2               1   \n",
       "4  ...             23            2          0          0               2   \n",
       "\n",
       "   AdditionalInfoEnc MealIncludedEnc DepartureDayPartEnc ArrivalDayPartEnc  \\\n",
       "0                  7               1                   1                 0   \n",
       "1                  7               1                   2                 2   \n",
       "2                  5               0                   3                 3   \n",
       "3                  7               1                   2                 3   \n",
       "4                  7               1                   3                 0   \n",
       "\n",
       "   FlightLengthEnc  \n",
       "0                0  \n",
       "1                1  \n",
       "2                0  \n",
       "3                0  \n",
       "4                2  \n",
       "\n",
       "[5 rows x 29 columns]"
      ]
     },
     "execution_count": 99,
     "metadata": {},
     "output_type": "execute_result"
    }
   ],
   "source": [
    "ColumnsToInt = ['DayOfJourney','MonthOfJourney','DurationTime','StopsCount',\n",
    "                'Meal Included','DepartureHour','ArrivalHour'] \n",
    "for col in ColumnsToInt : \n",
    "    Test[col]  =Test[col].astype(int)\n",
    "Test.head()    \n"
   ]
  },
  {
   "cell_type": "code",
   "execution_count": 100,
   "id": "40abeb6d",
   "metadata": {
    "execution": {
     "iopub.execute_input": "2022-03-28T19:15:12.309566Z",
     "iopub.status.busy": "2022-03-28T19:15:12.308936Z",
     "iopub.status.idle": "2022-03-28T19:15:12.314739Z",
     "shell.execute_reply": "2022-03-28T19:15:12.315223Z",
     "shell.execute_reply.started": "2022-03-28T19:10:59.610609Z"
    },
    "papermill": {
     "duration": 0.151081,
     "end_time": "2022-03-28T19:15:12.315394",
     "exception": false,
     "start_time": "2022-03-28T19:15:12.164313",
     "status": "completed"
    },
    "tags": []
   },
   "outputs": [],
   "source": [
    "\n",
    "X = Test[['DayOfJourney','MonthOfJourney','DurationTime','StopsCount',\n",
    "          'Meal Included','DepartureHour','ArrivalHour', 'AirlineEnc', 'SourceEnc','DestinationEnc', \n",
    "          'AdditionalInfoEnc', 'DepartureDayPartEnc', 'ArrivalDayPartEnc', 'FlightLengthEnc']]"
   ]
  },
  {
   "cell_type": "code",
   "execution_count": 101,
   "id": "0a52d99c",
   "metadata": {
    "execution": {
     "iopub.execute_input": "2022-03-28T19:15:12.599716Z",
     "iopub.status.busy": "2022-03-28T19:15:12.598739Z",
     "iopub.status.idle": "2022-03-28T19:15:12.663779Z",
     "shell.execute_reply": "2022-03-28T19:15:12.664211Z",
     "shell.execute_reply.started": "2022-03-28T19:10:59.619830Z"
    },
    "papermill": {
     "duration": 0.211142,
     "end_time": "2022-03-28T19:15:12.664423",
     "exception": false,
     "start_time": "2022-03-28T19:15:12.453281",
     "status": "completed"
    },
    "tags": []
   },
   "outputs": [
    {
     "name": "stderr",
     "output_type": "stream",
     "text": [
      "/opt/conda/lib/python3.7/site-packages/sklearn/base.py:488: FutureWarning: The feature names should match those that were passed during fit. Starting version 1.2, an error will be raised.\n",
      "Feature names unseen at fit time:\n",
      "- AirlineEnc\n",
      "- ArrivalDayPartEnc\n",
      "- DayOfJourney\n",
      "- DepartureDayPartEnc\n",
      "- DepartureHour\n",
      "- ...\n",
      "Feature names seen at fit time, yet now missing:\n",
      "- AirLineEnc\n",
      "- ArrivDayEnc\n",
      "- Day_of_Journey\n",
      "- DepDayEnc\n",
      "- DurationInMinutes\n",
      "- ...\n",
      "\n",
      "  warnings.warn(message, FutureWarning)\n"
     ]
    }
   ],
   "source": [
    "Results = GridSearchModel.best_estimator_.predict(X)"
   ]
  },
  {
   "cell_type": "code",
   "execution_count": 102,
   "id": "d3ef4c9c",
   "metadata": {
    "execution": {
     "iopub.execute_input": "2022-03-28T19:15:12.981673Z",
     "iopub.status.busy": "2022-03-28T19:15:12.952137Z",
     "iopub.status.idle": "2022-03-28T19:15:12.984928Z",
     "shell.execute_reply": "2022-03-28T19:15:12.985538Z",
     "shell.execute_reply.started": "2022-03-28T19:10:59.687503Z"
    },
    "papermill": {
     "duration": 0.178015,
     "end_time": "2022-03-28T19:15:12.985716",
     "exception": false,
     "start_time": "2022-03-28T19:15:12.807701",
     "status": "completed"
    },
    "tags": []
   },
   "outputs": [
    {
     "data": {
      "text/plain": [
       "[18347.0,\n",
       " 37107.0,\n",
       " 20470.0,\n",
       " 22082.0,\n",
       " 35919.0,\n",
       " 19454.0,\n",
       " 10650.0,\n",
       " 38703.0,\n",
       " 36345.0,\n",
       " 26892.0,\n",
       " 22631.0,\n",
       " 21666.0,\n",
       " 21890.0,\n",
       " 8549.0,\n",
       " 19882.0,\n",
       " 17358.0,\n",
       " 20264.0,\n",
       " 24422.0,\n",
       " 18495.0,\n",
       " 11923.0,\n",
       " 15259.0,\n",
       " 20944.0,\n",
       " 11626.0,\n",
       " 27053.0,\n",
       " 36236.0,\n",
       " 17693.0,\n",
       " 35866.0,\n",
       " 19999.0,\n",
       " 17993.0,\n",
       " 22586.0,\n",
       " 35981.0,\n",
       " 12853.0,\n",
       " 27790.0,\n",
       " 37139.0,\n",
       " 35231.0,\n",
       " 35588.0,\n",
       " 35217.0,\n",
       " 17266.0,\n",
       " 19776.0,\n",
       " 21892.0,\n",
       " 35884.0,\n",
       " 11221.0,\n",
       " 35355.0,\n",
       " 22842.0,\n",
       " 38464.0,\n",
       " 36245.0,\n",
       " 26963.0,\n",
       " 35160.0,\n",
       " 20516.0,\n",
       " 21839.0,\n",
       " 24548.0,\n",
       " 29323.0,\n",
       " 22677.0,\n",
       " 10904.0,\n",
       " 35895.0,\n",
       " 36172.0,\n",
       " 31555.0,\n",
       " 12214.0,\n",
       " 37347.0,\n",
       " 20039.0,\n",
       " 21961.0,\n",
       " 27487.0,\n",
       " 31524.0,\n",
       " 25769.0,\n",
       " 5555.0,\n",
       " 35986.0,\n",
       " 34537.0,\n",
       " 21135.0,\n",
       " 36542.0,\n",
       " 26763.0,\n",
       " 35193.0,\n",
       " 20786.0,\n",
       " 30328.0,\n",
       " 21525.0,\n",
       " 35369.0,\n",
       " 36844.0,\n",
       " 36061.0,\n",
       " 46791.0,\n",
       " 36405.0,\n",
       " 20930.0,\n",
       " 36091.0,\n",
       " 19843.0,\n",
       " 26748.0,\n",
       " 36020.0,\n",
       " 11107.0,\n",
       " 11309.0,\n",
       " 35739.0,\n",
       " 21734.0,\n",
       " 35951.0,\n",
       " 20410.0,\n",
       " 20774.0,\n",
       " 20766.0,\n",
       " 37386.0,\n",
       " 19550.0,\n",
       " 35349.0,\n",
       " 35275.0,\n",
       " 17992.0,\n",
       " 23275.0,\n",
       " 35006.0,\n",
       " 25897.0,\n",
       " 36941.0,\n",
       " 22054.0,\n",
       " 11981.0,\n",
       " 22206.0,\n",
       " 35909.0,\n",
       " 20273.0,\n",
       " 35253.0,\n",
       " 12860.0,\n",
       " 27886.0,\n",
       " 22232.0,\n",
       " 29036.0,\n",
       " 15220.0,\n",
       " 35557.0,\n",
       " 38720.0,\n",
       " 24095.0,\n",
       " 22035.0,\n",
       " 12572.0,\n",
       " 37171.0,\n",
       " 19245.0,\n",
       " 21007.0,\n",
       " 22270.0,\n",
       " 12704.0,\n",
       " 35949.0,\n",
       " 35629.0,\n",
       " 38653.0,\n",
       " 20186.0,\n",
       " 35801.0,\n",
       " 36017.0,\n",
       " 22179.0,\n",
       " 35961.0,\n",
       " 18684.0,\n",
       " 37286.0,\n",
       " 14608.0,\n",
       " 35868.0,\n",
       " 36263.0,\n",
       " 21963.0,\n",
       " 46916.0,\n",
       " 36133.0,\n",
       " 36206.0,\n",
       " 9971.0,\n",
       " 4538.0,\n",
       " 22508.0,\n",
       " 22288.0,\n",
       " 20048.0,\n",
       " 6591.0,\n",
       " 20252.0,\n",
       " 36505.0,\n",
       " 35805.0,\n",
       " 21338.0,\n",
       " 21170.0,\n",
       " 21849.0,\n",
       " 27429.0,\n",
       " 23126.0,\n",
       " 36020.0,\n",
       " 35960.0,\n",
       " 36049.0,\n",
       " 36031.0,\n",
       " 36084.0,\n",
       " 20206.0,\n",
       " 35133.0,\n",
       " 36911.0,\n",
       " 26848.0,\n",
       " 36264.0,\n",
       " 35917.0,\n",
       " 36006.0,\n",
       " 35512.0,\n",
       " 24258.0,\n",
       " 35482.0,\n",
       " 21938.0,\n",
       " 36449.0,\n",
       " 22988.0,\n",
       " 24271.0,\n",
       " 5975.0,\n",
       " 35933.0,\n",
       " 12528.0,\n",
       " 35914.0,\n",
       " 38987.0,\n",
       " 26345.0,\n",
       " 12232.0,\n",
       " 20930.0,\n",
       " 21965.0,\n",
       " 35235.0,\n",
       " 35635.0,\n",
       " 17986.0,\n",
       " 22001.0,\n",
       " 17713.0,\n",
       " 20720.0,\n",
       " 12029.0,\n",
       " 21177.0,\n",
       " 35622.0,\n",
       " 21914.0,\n",
       " 32960.0,\n",
       " 35116.0,\n",
       " 21800.0,\n",
       " 22512.0,\n",
       " 36076.0,\n",
       " 24412.0,\n",
       " 21607.0,\n",
       " 35682.0,\n",
       " 21991.0,\n",
       " 18086.0,\n",
       " 22305.0,\n",
       " 22547.0,\n",
       " 35828.0,\n",
       " 25757.0,\n",
       " 35572.0,\n",
       " 17550.0,\n",
       " 17861.0,\n",
       " 29241.0,\n",
       " 20106.0,\n",
       " 36600.0,\n",
       " 22305.0,\n",
       " 21632.0,\n",
       " 37177.0,\n",
       " 16726.0,\n",
       " 22202.0,\n",
       " 26720.0,\n",
       " 22814.0,\n",
       " 22692.0,\n",
       " 32503.0,\n",
       " 35670.0,\n",
       " 11072.0,\n",
       " 12152.0,\n",
       " 36044.0,\n",
       " 36080.0,\n",
       " 22338.0,\n",
       " 35993.0,\n",
       " 35415.0,\n",
       " 22837.0,\n",
       " 20061.0,\n",
       " 20094.0,\n",
       " 19861.0,\n",
       " 35858.0,\n",
       " 17553.0,\n",
       " 35799.0,\n",
       " 8236.0,\n",
       " 16401.0,\n",
       " 35767.0,\n",
       " 23734.0,\n",
       " 20148.0,\n",
       " 21437.0,\n",
       " 21724.0,\n",
       " 16026.0,\n",
       " 36587.0,\n",
       " 17324.0,\n",
       " 20763.0,\n",
       " 25373.0,\n",
       " 35499.0,\n",
       " 21702.0,\n",
       " 11315.0,\n",
       " 19152.0,\n",
       " 26773.0,\n",
       " 30228.0,\n",
       " 37884.0,\n",
       " 23751.0,\n",
       " 17808.0,\n",
       " 21894.0,\n",
       " 36589.0,\n",
       " 21068.0,\n",
       " 38537.0,\n",
       " 22415.0,\n",
       " 35296.0,\n",
       " 36246.0,\n",
       " 25592.0,\n",
       " 35707.0,\n",
       " 4974.0,\n",
       " 20563.0,\n",
       " 36445.0,\n",
       " 22365.0,\n",
       " 28652.0,\n",
       " 26901.0,\n",
       " 41257.0,\n",
       " 35962.0,\n",
       " 21690.0,\n",
       " 24119.0,\n",
       " 35559.0,\n",
       " 9402.0,\n",
       " 21032.0,\n",
       " 27059.0,\n",
       " 5836.0,\n",
       " 23953.0,\n",
       " 18345.0,\n",
       " 29303.0,\n",
       " 20605.0,\n",
       " 12170.0,\n",
       " 35608.0,\n",
       " 5350.0,\n",
       " 20804.0,\n",
       " 37217.0,\n",
       " 28278.0,\n",
       " 38529.0,\n",
       " 10941.0,\n",
       " 25286.0,\n",
       " 22622.0,\n",
       " 17861.0,\n",
       " 32908.0,\n",
       " 21049.0,\n",
       " 24057.0,\n",
       " 20419.0,\n",
       " 12528.0,\n",
       " 38048.0,\n",
       " 35959.0,\n",
       " 36000.0,\n",
       " 11212.0,\n",
       " 16799.0,\n",
       " 11301.0,\n",
       " 19491.0,\n",
       " 35348.0,\n",
       " 20804.0,\n",
       " 38450.0,\n",
       " 36325.0,\n",
       " 21936.0,\n",
       " 22513.0,\n",
       " 22958.0,\n",
       " 36050.0,\n",
       " 22596.0,\n",
       " 22641.0,\n",
       " 22000.0,\n",
       " 18399.0,\n",
       " 36949.0,\n",
       " 17866.0,\n",
       " 36836.0,\n",
       " 9672.0,\n",
       " 22401.0,\n",
       " 16022.0,\n",
       " 35449.0,\n",
       " 19802.0,\n",
       " 23689.0,\n",
       " 21939.0,\n",
       " 22141.0,\n",
       " 36707.0,\n",
       " 35936.0,\n",
       " 35047.0,\n",
       " 4175.0,\n",
       " 37468.0,\n",
       " 36747.0,\n",
       " 29951.0,\n",
       " 20646.0,\n",
       " 22117.0,\n",
       " 22651.0,\n",
       " 36021.0,\n",
       " 41073.0,\n",
       " 21357.0,\n",
       " 35362.0,\n",
       " 22117.0,\n",
       " 36014.0,\n",
       " 20010.0,\n",
       " 38313.0,\n",
       " 21462.0,\n",
       " 17996.0,\n",
       " 22671.0,\n",
       " 21903.0,\n",
       " 22198.0,\n",
       " 11394.0,\n",
       " 19887.0,\n",
       " 23832.0,\n",
       " 20170.0,\n",
       " 11575.0,\n",
       " 24550.0,\n",
       " 21508.0,\n",
       " 35964.0,\n",
       " 36182.0,\n",
       " 35106.0,\n",
       " 24384.0,\n",
       " 20058.0,\n",
       " 21837.0,\n",
       " 35401.0,\n",
       " 16941.0,\n",
       " 36274.0,\n",
       " 12159.0,\n",
       " 35901.0,\n",
       " 17816.0,\n",
       " 35455.0,\n",
       " 36186.0,\n",
       " 12046.0,\n",
       " 22909.0,\n",
       " 21845.0,\n",
       " 21912.0,\n",
       " 34572.0,\n",
       " 21296.0,\n",
       " 20643.0,\n",
       " 24618.0,\n",
       " 11460.0,\n",
       " 4231.0,\n",
       " 21206.0,\n",
       " 29800.0,\n",
       " 35295.0,\n",
       " 35580.0,\n",
       " 35891.0,\n",
       " 12675.0,\n",
       " 21384.0,\n",
       " 22026.0,\n",
       " 36090.0,\n",
       " 5367.0,\n",
       " 26229.0,\n",
       " 23852.0,\n",
       " 19231.0,\n",
       " 5936.0,\n",
       " 19937.0,\n",
       " 35856.0,\n",
       " 20969.0,\n",
       " 36319.0,\n",
       " 20721.0,\n",
       " 35727.0,\n",
       " 21837.0,\n",
       " 17603.0,\n",
       " 35433.0,\n",
       " 24633.0,\n",
       " 13907.0,\n",
       " 20971.0,\n",
       " 21774.0,\n",
       " 35535.0,\n",
       " 20019.0,\n",
       " 18371.0,\n",
       " 17984.0,\n",
       " 36022.0,\n",
       " 22504.0,\n",
       " 18013.0,\n",
       " 11913.0,\n",
       " 12219.0,\n",
       " 40089.0,\n",
       " 37450.0,\n",
       " 21876.0,\n",
       " 16594.0,\n",
       " 20458.0,\n",
       " 35228.0,\n",
       " 37258.0,\n",
       " 35981.0,\n",
       " 21599.0,\n",
       " 25612.0,\n",
       " 11211.0,\n",
       " 21014.0,\n",
       " 35145.0,\n",
       " 35475.0,\n",
       " 35958.0,\n",
       " 20465.0,\n",
       " 36943.0,\n",
       " 18189.0,\n",
       " 17754.0,\n",
       " 21317.0,\n",
       " 20006.0,\n",
       " 36524.0,\n",
       " 22075.0,\n",
       " 35854.0,\n",
       " 22026.0,\n",
       " 21988.0,\n",
       " 23657.0,\n",
       " 35476.0,\n",
       " 29236.0,\n",
       " 27524.0,\n",
       " 20471.0,\n",
       " 21949.0,\n",
       " 21819.0,\n",
       " 20632.0,\n",
       " 23334.0,\n",
       " 22914.0,\n",
       " 35967.0,\n",
       " 26845.0,\n",
       " 22102.0,\n",
       " 29818.0,\n",
       " 18943.0,\n",
       " 22043.0,\n",
       " 20188.0,\n",
       " 40727.0,\n",
       " 36412.0,\n",
       " 18098.0,\n",
       " 19715.0,\n",
       " 37072.0,\n",
       " 35801.0,\n",
       " 17944.0,\n",
       " 20597.0,\n",
       " 21792.0,\n",
       " 35536.0,\n",
       " 21921.0,\n",
       " 29012.0,\n",
       " 21800.0,\n",
       " 35969.0,\n",
       " 36046.0,\n",
       " 20993.0,\n",
       " 20669.0,\n",
       " 22055.0,\n",
       " 11187.0,\n",
       " 11308.0,\n",
       " 34089.0,\n",
       " 27739.0,\n",
       " 16379.0,\n",
       " 21060.0,\n",
       " 21782.0,\n",
       " 22041.0,\n",
       " 21206.0,\n",
       " 38019.0,\n",
       " 25495.0,\n",
       " 21382.0,\n",
       " 17895.0,\n",
       " 36222.0,\n",
       " 36380.0,\n",
       " 22049.0,\n",
       " 23657.0,\n",
       " 5613.0,\n",
       " 22190.0,\n",
       " 37220.0,\n",
       " 22672.0,\n",
       " 12051.0,\n",
       " 24086.0,\n",
       " 35828.0,\n",
       " 19976.0,\n",
       " 22145.0,\n",
       " 12001.0,\n",
       " 35787.0,\n",
       " 12383.0,\n",
       " 26797.0,\n",
       " 32578.0,\n",
       " 5722.0,\n",
       " 35596.0,\n",
       " 22499.0,\n",
       " 28927.0,\n",
       " 25185.0,\n",
       " 22998.0,\n",
       " 35860.0,\n",
       " 35632.0,\n",
       " 36001.0,\n",
       " 28495.0,\n",
       " 5588.0,\n",
       " 26913.0,\n",
       " 17889.0,\n",
       " 20423.0,\n",
       " 35348.0,\n",
       " 21163.0,\n",
       " 35686.0,\n",
       " 35239.0,\n",
       " 21404.0,\n",
       " 29435.0,\n",
       " 22282.0,\n",
       " 18155.0,\n",
       " 36025.0,\n",
       " 20029.0,\n",
       " 23077.0,\n",
       " 19829.0,\n",
       " 36067.0,\n",
       " 4673.0,\n",
       " 36416.0,\n",
       " 36525.0,\n",
       " 22991.0,\n",
       " 35362.0,\n",
       " 27199.0,\n",
       " 21700.0,\n",
       " 36170.0,\n",
       " 21781.0,\n",
       " 22321.0,\n",
       " 35946.0,\n",
       " 35299.0,\n",
       " 22900.0,\n",
       " 36603.0,\n",
       " 26775.0,\n",
       " 23238.0,\n",
       " 34296.0,\n",
       " 35338.0,\n",
       " 35291.0,\n",
       " 35832.0,\n",
       " 36092.0,\n",
       " 20045.0,\n",
       " 22222.0,\n",
       " 21773.0,\n",
       " 22560.0,\n",
       " 36493.0,\n",
       " 19861.0,\n",
       " 22515.0,\n",
       " 36714.0,\n",
       " 11039.0,\n",
       " 36908.0,\n",
       " 29496.0,\n",
       " 22184.0,\n",
       " 19715.0,\n",
       " 12440.0,\n",
       " 21000.0,\n",
       " 11717.0,\n",
       " 26404.0,\n",
       " 21998.0,\n",
       " 21427.0,\n",
       " 11791.0,\n",
       " 5555.0,\n",
       " 21724.0,\n",
       " 22191.0,\n",
       " 21844.0,\n",
       " 22464.0,\n",
       " 12161.0,\n",
       " 13143.0,\n",
       " 35611.0,\n",
       " 5025.0,\n",
       " 36049.0,\n",
       " 36403.0,\n",
       " 21904.0,\n",
       " 35753.0,\n",
       " 20757.0,\n",
       " 21155.0,\n",
       " 21386.0,\n",
       " 19519.0,\n",
       " 11464.0,\n",
       " 21359.0,\n",
       " 39389.0,\n",
       " 20716.0,\n",
       " 21726.0,\n",
       " 21904.0,\n",
       " 36057.0,\n",
       " 35599.0,\n",
       " 14775.0,\n",
       " 9747.0,\n",
       " 26897.0,\n",
       " 37303.0,\n",
       " 19998.0,\n",
       " 20175.0,\n",
       " 36096.0,\n",
       " 23527.0,\n",
       " 20989.0,\n",
       " 35781.0,\n",
       " 37510.0,\n",
       " 35997.0,\n",
       " 35268.0,\n",
       " 20146.0,\n",
       " 20753.0,\n",
       " 12148.0,\n",
       " 22256.0,\n",
       " 27168.0,\n",
       " 37584.0,\n",
       " 20142.0,\n",
       " 29132.0,\n",
       " 19917.0,\n",
       " 35182.0,\n",
       " 21580.0,\n",
       " 35236.0,\n",
       " 36112.0,\n",
       " 38158.0,\n",
       " 29162.0,\n",
       " 18978.0,\n",
       " 22003.0,\n",
       " 18618.0,\n",
       " 35930.0,\n",
       " 17986.0,\n",
       " 22064.0,\n",
       " 36023.0,\n",
       " 29774.0,\n",
       " 21783.0,\n",
       " 7085.0,\n",
       " 37118.0,\n",
       " 17693.0,\n",
       " 20353.0,\n",
       " 35854.0,\n",
       " 20379.0,\n",
       " 20459.0,\n",
       " 5602.0,\n",
       " 20721.0,\n",
       " 21449.0,\n",
       " 25025.0,\n",
       " 37335.0,\n",
       " 35940.0,\n",
       " 23329.0,\n",
       " 35959.0,\n",
       " 21573.0,\n",
       " 24092.0,\n",
       " 24570.0,\n",
       " 21944.0,\n",
       " 36040.0,\n",
       " 12950.0,\n",
       " 37184.0,\n",
       " 17391.0,\n",
       " 35882.0,\n",
       " 23953.0,\n",
       " 36477.0,\n",
       " 26144.0,\n",
       " 35982.0,\n",
       " 22912.0,\n",
       " 35954.0,\n",
       " 36645.0,\n",
       " 27832.0,\n",
       " 20226.0,\n",
       " 19971.0,\n",
       " 6136.0,\n",
       " 11548.0,\n",
       " 35696.0,\n",
       " 20131.0,\n",
       " 24433.0,\n",
       " 21777.0,\n",
       " 37403.0,\n",
       " 21440.0,\n",
       " 36321.0,\n",
       " 11306.0,\n",
       " 37549.0,\n",
       " 37344.0,\n",
       " 12261.0,\n",
       " 11484.0,\n",
       " 35925.0,\n",
       " 18800.0,\n",
       " 36003.0,\n",
       " 36086.0,\n",
       " 24017.0,\n",
       " 21143.0,\n",
       " 21118.0,\n",
       " 20653.0,\n",
       " 25357.0,\n",
       " 35588.0,\n",
       " 25154.0,\n",
       " 38238.0,\n",
       " 22110.0,\n",
       " 20062.0,\n",
       " 12301.0,\n",
       " 21773.0,\n",
       " 20013.0,\n",
       " 20081.0,\n",
       " 36960.0,\n",
       " 19122.0,\n",
       " 21347.0,\n",
       " 35991.0,\n",
       " 17923.0,\n",
       " 36102.0,\n",
       " 27201.0,\n",
       " 36076.0,\n",
       " 21949.0,\n",
       " 34859.0,\n",
       " 27285.0,\n",
       " 18382.0,\n",
       " 12488.0,\n",
       " 25934.0,\n",
       " 22043.0,\n",
       " 23545.0,\n",
       " 41703.0,\n",
       " 26792.0,\n",
       " 36313.0,\n",
       " 21679.0,\n",
       " 37351.0,\n",
       " 26922.0,\n",
       " 36029.0,\n",
       " 22761.0,\n",
       " 36396.0,\n",
       " 36400.0,\n",
       " 23194.0,\n",
       " 20866.0,\n",
       " 24644.0,\n",
       " 25858.0,\n",
       " 35942.0,\n",
       " 36117.0,\n",
       " 20041.0,\n",
       " 27053.0,\n",
       " 19725.0,\n",
       " 20185.0,\n",
       " 10689.0,\n",
       " 22737.0,\n",
       " 35654.0,\n",
       " 16622.0,\n",
       " 19053.0,\n",
       " 35807.0,\n",
       " 23145.0,\n",
       " 21702.0,\n",
       " 37114.0,\n",
       " 18176.0,\n",
       " 36564.0,\n",
       " 21937.0,\n",
       " 29663.0,\n",
       " 12218.0,\n",
       " 37576.0,\n",
       " 36374.0,\n",
       " 5571.0,\n",
       " 30284.0,\n",
       " 36736.0,\n",
       " 36036.0,\n",
       " 35795.0,\n",
       " 21919.0,\n",
       " 30323.0,\n",
       " 36022.0,\n",
       " 17861.0,\n",
       " 35310.0,\n",
       " 22191.0,\n",
       " 12184.0,\n",
       " 26830.0,\n",
       " 36007.0,\n",
       " 21976.0,\n",
       " 35966.0,\n",
       " 28536.0,\n",
       " 36107.0,\n",
       " 20200.0,\n",
       " 35598.0,\n",
       " 24368.0,\n",
       " 11040.0,\n",
       " 20717.0,\n",
       " 24330.0,\n",
       " 23720.0,\n",
       " 14269.0,\n",
       " 28875.0,\n",
       " 37393.0,\n",
       " 26652.0,\n",
       " 21317.0,\n",
       " 20786.0,\n",
       " 35698.0,\n",
       " 36365.0,\n",
       " 17009.0,\n",
       " 17861.0,\n",
       " 35696.0,\n",
       " 20900.0,\n",
       " 35437.0,\n",
       " 37519.0,\n",
       " 36325.0,\n",
       " 17866.0,\n",
       " 27214.0,\n",
       " 20608.0,\n",
       " 22365.0,\n",
       " 20992.0,\n",
       " 22516.0,\n",
       " 16505.0,\n",
       " 36402.0,\n",
       " 23484.0,\n",
       " 21800.0,\n",
       " 21347.0,\n",
       " 19785.0,\n",
       " 22863.0,\n",
       " 5753.0,\n",
       " 22136.0,\n",
       " 22087.0,\n",
       " 35698.0,\n",
       " 21663.0,\n",
       " 38356.0,\n",
       " 25639.0,\n",
       " 21599.0,\n",
       " 21702.0,\n",
       " 41937.0,\n",
       " 18371.0,\n",
       " 10592.0,\n",
       " 23713.0,\n",
       " 36118.0,\n",
       " 36001.0,\n",
       " 4207.0,\n",
       " 29735.0,\n",
       " 21259.0,\n",
       " 18838.0,\n",
       " 19900.0,\n",
       " 24276.0,\n",
       " 20106.0,\n",
       " 24334.0,\n",
       " 35173.0,\n",
       " 21151.0,\n",
       " 22059.0,\n",
       " 21762.0,\n",
       " 36736.0,\n",
       " 35553.0,\n",
       " 36106.0,\n",
       " 35535.0,\n",
       " 30761.0,\n",
       " 11278.0,\n",
       " 36188.0,\n",
       " 36968.0,\n",
       " 21943.0,\n",
       " 5874.0,\n",
       " 37347.0,\n",
       " 21888.0,\n",
       " 21485.0,\n",
       " 36012.0,\n",
       " 24570.0,\n",
       " 36013.0,\n",
       " 22042.0,\n",
       " 38306.0,\n",
       " 35910.0,\n",
       " 36039.0,\n",
       " 12103.0,\n",
       " 21894.0,\n",
       " 23128.0,\n",
       " 12671.0,\n",
       " 21378.0,\n",
       " 21057.0,\n",
       " 36195.0,\n",
       " 21734.0,\n",
       " 21117.0,\n",
       " 35505.0,\n",
       " 22743.0,\n",
       " 23262.0,\n",
       " 29085.0,\n",
       " 22314.0,\n",
       " 36399.0,\n",
       " 20736.0,\n",
       " 21929.0,\n",
       " 17197.0,\n",
       " 35935.0,\n",
       " 22191.0,\n",
       " 18476.0,\n",
       " 35989.0,\n",
       " 35594.0,\n",
       " 36011.0,\n",
       " 17317.0,\n",
       " 17529.0,\n",
       " 35650.0,\n",
       " 35980.0,\n",
       " 24276.0,\n",
       " 22356.0,\n",
       " 36374.0,\n",
       " 36077.0,\n",
       " 12257.0,\n",
       " 35611.0,\n",
       " 35844.0,\n",
       " 22984.0,\n",
       " 19662.0,\n",
       " 20471.0,\n",
       " 35685.0,\n",
       " 22562.0,\n",
       " 35946.0,\n",
       " 11968.0,\n",
       " 11260.0,\n",
       " 20727.0,\n",
       " 22097.0,\n",
       " 27441.0,\n",
       " 36089.0,\n",
       " 36074.0,\n",
       " 35386.0,\n",
       " 5936.0,\n",
       " 33185.0,\n",
       " 27548.0,\n",
       " 36558.0,\n",
       " 35454.0,\n",
       " 12051.0,\n",
       " 29037.0,\n",
       " 22012.0,\n",
       " 22087.0,\n",
       " 35912.0,\n",
       " 11726.0,\n",
       " 4652.0,\n",
       " 21203.0,\n",
       " 35827.0,\n",
       " 4503.0,\n",
       " 37515.0,\n",
       " 24355.0,\n",
       " 21733.0,\n",
       " 18041.0,\n",
       " 36760.0,\n",
       " 18126.0,\n",
       " 36044.0,\n",
       " 27730.0,\n",
       " 35704.0,\n",
       " 5623.0,\n",
       " 22842.0,\n",
       " 12188.0,\n",
       " 6002.0,\n",
       " 20705.0,\n",
       " 37336.0,\n",
       " 21972.0,\n",
       " 20833.0,\n",
       " 36024.0,\n",
       " 36361.0,\n",
       " 21449.0,\n",
       " 34543.0,\n",
       " 26717.0,\n",
       " 35768.0,\n",
       " 17744.0,\n",
       " 25523.0,\n",
       " 36717.0,\n",
       " 18030.0,\n",
       " 35909.0,\n",
       " 11077.0,\n",
       " 23490.0,\n",
       " 8920.0,\n",
       " 35560.0,\n",
       " 10448.0,\n",
       " 36045.0,\n",
       " 38232.0,\n",
       " 22611.0,\n",
       " 22094.0,\n",
       " 38060.0,\n",
       " 35496.0,\n",
       " 18070.0,\n",
       " 36019.0,\n",
       " 21007.0,\n",
       " 35080.0,\n",
       " 35609.0,\n",
       " 18382.0,\n",
       " 12663.0,\n",
       " 36014.0,\n",
       " 22009.0,\n",
       " 36012.0,\n",
       " 35349.0,\n",
       " 41257.0,\n",
       " 21935.0,\n",
       " 35731.0,\n",
       " 18098.0,\n",
       " 35622.0,\n",
       " 20689.0,\n",
       " 20916.0,\n",
       " 35971.0,\n",
       " 12475.0,\n",
       " 11814.0,\n",
       " 38424.0,\n",
       " 12396.0,\n",
       " 35735.0,\n",
       " 27107.0,\n",
       " 20117.0,\n",
       " 36166.0,\n",
       " 36968.0,\n",
       " 21772.0,\n",
       " 24434.0,\n",
       " 36114.0,\n",
       " 28926.0,\n",
       " 36371.0,\n",
       " 35450.0,\n",
       " 12155.0,\n",
       " 5696.0,\n",
       " 21726.0,\n",
       " ...]"
      ]
     },
     "execution_count": 102,
     "metadata": {},
     "output_type": "execute_result"
    }
   ],
   "source": [
    "Results = [np.round(i) for i in Results]\n",
    "Results"
   ]
  },
  {
   "cell_type": "code",
   "execution_count": 103,
   "id": "1c54e335",
   "metadata": {
    "execution": {
     "iopub.execute_input": "2022-03-28T19:15:13.293399Z",
     "iopub.status.busy": "2022-03-28T19:15:13.292571Z",
     "iopub.status.idle": "2022-03-28T19:15:13.296879Z",
     "shell.execute_reply": "2022-03-28T19:15:13.296250Z",
     "shell.execute_reply.started": "2022-03-28T19:10:59.735591Z"
    },
    "papermill": {
     "duration": 0.16823,
     "end_time": "2022-03-28T19:15:13.297024",
     "exception": false,
     "start_time": "2022-03-28T19:15:13.128794",
     "status": "completed"
    },
    "tags": []
   },
   "outputs": [
    {
     "data": {
      "text/html": [
       "<div>\n",
       "<style scoped>\n",
       "    .dataframe tbody tr th:only-of-type {\n",
       "        vertical-align: middle;\n",
       "    }\n",
       "\n",
       "    .dataframe tbody tr th {\n",
       "        vertical-align: top;\n",
       "    }\n",
       "\n",
       "    .dataframe thead th {\n",
       "        text-align: right;\n",
       "    }\n",
       "</style>\n",
       "<table border=\"1\" class=\"dataframe\">\n",
       "  <thead>\n",
       "    <tr style=\"text-align: right;\">\n",
       "      <th></th>\n",
       "      <th>Airline</th>\n",
       "      <th>Date_of_Journey</th>\n",
       "      <th>Source</th>\n",
       "      <th>Destination</th>\n",
       "      <th>Route</th>\n",
       "      <th>Dep_Time</th>\n",
       "      <th>Arrival_Time</th>\n",
       "      <th>Duration</th>\n",
       "      <th>Total_Stops</th>\n",
       "      <th>Additional_Info</th>\n",
       "      <th>...</th>\n",
       "      <th>DepartureHour</th>\n",
       "      <th>ArrivalHour</th>\n",
       "      <th>AirlineEnc</th>\n",
       "      <th>SourceEnc</th>\n",
       "      <th>DestinationEnc</th>\n",
       "      <th>AdditionalInfoEnc</th>\n",
       "      <th>MealIncludedEnc</th>\n",
       "      <th>DepartureDayPartEnc</th>\n",
       "      <th>ArrivalDayPartEnc</th>\n",
       "      <th>FlightLengthEnc</th>\n",
       "    </tr>\n",
       "  </thead>\n",
       "  <tbody>\n",
       "    <tr>\n",
       "      <th>0</th>\n",
       "      <td>Jet Airways</td>\n",
       "      <td>6/06/2019</td>\n",
       "      <td>Delhi</td>\n",
       "      <td>Cochin</td>\n",
       "      <td>DEL → BOM → COK</td>\n",
       "      <td>17:30</td>\n",
       "      <td>04:25 07 Jun</td>\n",
       "      <td>10h 55m</td>\n",
       "      <td>1 stop</td>\n",
       "      <td>No info</td>\n",
       "      <td>...</td>\n",
       "      <td>17</td>\n",
       "      <td>4</td>\n",
       "      <td>4</td>\n",
       "      <td>2</td>\n",
       "      <td>1</td>\n",
       "      <td>7</td>\n",
       "      <td>1</td>\n",
       "      <td>1</td>\n",
       "      <td>0</td>\n",
       "      <td>0</td>\n",
       "    </tr>\n",
       "    <tr>\n",
       "      <th>1</th>\n",
       "      <td>IndiGo</td>\n",
       "      <td>12/05/2019</td>\n",
       "      <td>Kolkata</td>\n",
       "      <td>Banglore</td>\n",
       "      <td>CCU → MAA → BLR</td>\n",
       "      <td>06:20</td>\n",
       "      <td>10:20</td>\n",
       "      <td>4h</td>\n",
       "      <td>1 stop</td>\n",
       "      <td>No info</td>\n",
       "      <td>...</td>\n",
       "      <td>6</td>\n",
       "      <td>10</td>\n",
       "      <td>3</td>\n",
       "      <td>3</td>\n",
       "      <td>0</td>\n",
       "      <td>7</td>\n",
       "      <td>1</td>\n",
       "      <td>2</td>\n",
       "      <td>2</td>\n",
       "      <td>1</td>\n",
       "    </tr>\n",
       "    <tr>\n",
       "      <th>2</th>\n",
       "      <td>Jet Airways</td>\n",
       "      <td>21/05/2019</td>\n",
       "      <td>Delhi</td>\n",
       "      <td>Cochin</td>\n",
       "      <td>DEL → BOM → COK</td>\n",
       "      <td>19:15</td>\n",
       "      <td>19:00 22 May</td>\n",
       "      <td>23h 45m</td>\n",
       "      <td>1 stop</td>\n",
       "      <td>In-flight meal not included</td>\n",
       "      <td>...</td>\n",
       "      <td>19</td>\n",
       "      <td>19</td>\n",
       "      <td>4</td>\n",
       "      <td>2</td>\n",
       "      <td>1</td>\n",
       "      <td>5</td>\n",
       "      <td>0</td>\n",
       "      <td>3</td>\n",
       "      <td>3</td>\n",
       "      <td>0</td>\n",
       "    </tr>\n",
       "    <tr>\n",
       "      <th>3</th>\n",
       "      <td>Multiple carriers</td>\n",
       "      <td>21/05/2019</td>\n",
       "      <td>Delhi</td>\n",
       "      <td>Cochin</td>\n",
       "      <td>DEL → BOM → COK</td>\n",
       "      <td>08:00</td>\n",
       "      <td>21:00</td>\n",
       "      <td>13h</td>\n",
       "      <td>1 stop</td>\n",
       "      <td>No info</td>\n",
       "      <td>...</td>\n",
       "      <td>8</td>\n",
       "      <td>21</td>\n",
       "      <td>6</td>\n",
       "      <td>2</td>\n",
       "      <td>1</td>\n",
       "      <td>7</td>\n",
       "      <td>1</td>\n",
       "      <td>2</td>\n",
       "      <td>3</td>\n",
       "      <td>0</td>\n",
       "    </tr>\n",
       "    <tr>\n",
       "      <th>4</th>\n",
       "      <td>Air Asia</td>\n",
       "      <td>24/06/2019</td>\n",
       "      <td>Banglore</td>\n",
       "      <td>Delhi</td>\n",
       "      <td>BLR → DEL</td>\n",
       "      <td>23:55</td>\n",
       "      <td>02:45 25 Jun</td>\n",
       "      <td>2h 50m</td>\n",
       "      <td>non-stop</td>\n",
       "      <td>No info</td>\n",
       "      <td>...</td>\n",
       "      <td>23</td>\n",
       "      <td>2</td>\n",
       "      <td>0</td>\n",
       "      <td>0</td>\n",
       "      <td>2</td>\n",
       "      <td>7</td>\n",
       "      <td>1</td>\n",
       "      <td>3</td>\n",
       "      <td>0</td>\n",
       "      <td>2</td>\n",
       "    </tr>\n",
       "  </tbody>\n",
       "</table>\n",
       "<p>5 rows × 29 columns</p>\n",
       "</div>"
      ],
      "text/plain": [
       "             Airline Date_of_Journey    Source Destination            Route  \\\n",
       "0        Jet Airways       6/06/2019     Delhi      Cochin  DEL → BOM → COK   \n",
       "1             IndiGo      12/05/2019   Kolkata    Banglore  CCU → MAA → BLR   \n",
       "2        Jet Airways      21/05/2019     Delhi      Cochin  DEL → BOM → COK   \n",
       "3  Multiple carriers      21/05/2019     Delhi      Cochin  DEL → BOM → COK   \n",
       "4           Air Asia      24/06/2019  Banglore       Delhi        BLR → DEL   \n",
       "\n",
       "  Dep_Time  Arrival_Time Duration Total_Stops              Additional_Info  \\\n",
       "0    17:30  04:25 07 Jun  10h 55m      1 stop                      No info   \n",
       "1    06:20         10:20       4h      1 stop                      No info   \n",
       "2    19:15  19:00 22 May  23h 45m      1 stop  In-flight meal not included   \n",
       "3    08:00         21:00      13h      1 stop                      No info   \n",
       "4    23:55  02:45 25 Jun   2h 50m    non-stop                      No info   \n",
       "\n",
       "   ...  DepartureHour  ArrivalHour AirlineEnc  SourceEnc  DestinationEnc  \\\n",
       "0  ...             17            4          4          2               1   \n",
       "1  ...              6           10          3          3               0   \n",
       "2  ...             19           19          4          2               1   \n",
       "3  ...              8           21          6          2               1   \n",
       "4  ...             23            2          0          0               2   \n",
       "\n",
       "   AdditionalInfoEnc MealIncludedEnc DepartureDayPartEnc ArrivalDayPartEnc  \\\n",
       "0                  7               1                   1                 0   \n",
       "1                  7               1                   2                 2   \n",
       "2                  5               0                   3                 3   \n",
       "3                  7               1                   2                 3   \n",
       "4                  7               1                   3                 0   \n",
       "\n",
       "   FlightLengthEnc  \n",
       "0                0  \n",
       "1                1  \n",
       "2                0  \n",
       "3                0  \n",
       "4                2  \n",
       "\n",
       "[5 rows x 29 columns]"
      ]
     },
     "execution_count": 103,
     "metadata": {},
     "output_type": "execute_result"
    }
   ],
   "source": [
    "Test.head()"
   ]
  },
  {
   "cell_type": "code",
   "execution_count": 104,
   "id": "74f49b4b",
   "metadata": {
    "execution": {
     "iopub.execute_input": "2022-03-28T19:15:13.580803Z",
     "iopub.status.busy": "2022-03-28T19:15:13.579915Z",
     "iopub.status.idle": "2022-03-28T19:15:13.600532Z",
     "shell.execute_reply": "2022-03-28T19:15:13.601041Z",
     "shell.execute_reply.started": "2022-03-28T19:10:59.760498Z"
    },
    "papermill": {
     "duration": 0.161331,
     "end_time": "2022-03-28T19:15:13.601203",
     "exception": false,
     "start_time": "2022-03-28T19:15:13.439872",
     "status": "completed"
    },
    "tags": []
   },
   "outputs": [
    {
     "data": {
      "text/html": [
       "<div>\n",
       "<style scoped>\n",
       "    .dataframe tbody tr th:only-of-type {\n",
       "        vertical-align: middle;\n",
       "    }\n",
       "\n",
       "    .dataframe tbody tr th {\n",
       "        vertical-align: top;\n",
       "    }\n",
       "\n",
       "    .dataframe thead th {\n",
       "        text-align: right;\n",
       "    }\n",
       "</style>\n",
       "<table border=\"1\" class=\"dataframe\">\n",
       "  <thead>\n",
       "    <tr style=\"text-align: right;\">\n",
       "      <th></th>\n",
       "      <th>Airline</th>\n",
       "      <th>Date_of_Journey</th>\n",
       "      <th>Source</th>\n",
       "      <th>Destination</th>\n",
       "      <th>Route</th>\n",
       "      <th>Dep_Time</th>\n",
       "      <th>Arrival_Time</th>\n",
       "      <th>Duration</th>\n",
       "      <th>Total_Stops</th>\n",
       "      <th>Additional_Info</th>\n",
       "      <th>...</th>\n",
       "      <th>ArrivalHour</th>\n",
       "      <th>AirlineEnc</th>\n",
       "      <th>SourceEnc</th>\n",
       "      <th>DestinationEnc</th>\n",
       "      <th>AdditionalInfoEnc</th>\n",
       "      <th>MealIncludedEnc</th>\n",
       "      <th>DepartureDayPartEnc</th>\n",
       "      <th>ArrivalDayPartEnc</th>\n",
       "      <th>FlightLengthEnc</th>\n",
       "      <th>Predicted Price</th>\n",
       "    </tr>\n",
       "  </thead>\n",
       "  <tbody>\n",
       "    <tr>\n",
       "      <th>0</th>\n",
       "      <td>Jet Airways</td>\n",
       "      <td>6/06/2019</td>\n",
       "      <td>Delhi</td>\n",
       "      <td>Cochin</td>\n",
       "      <td>DEL → BOM → COK</td>\n",
       "      <td>17:30</td>\n",
       "      <td>04:25 07 Jun</td>\n",
       "      <td>10h 55m</td>\n",
       "      <td>1 stop</td>\n",
       "      <td>No info</td>\n",
       "      <td>...</td>\n",
       "      <td>4</td>\n",
       "      <td>4</td>\n",
       "      <td>2</td>\n",
       "      <td>1</td>\n",
       "      <td>7</td>\n",
       "      <td>1</td>\n",
       "      <td>1</td>\n",
       "      <td>0</td>\n",
       "      <td>0</td>\n",
       "      <td>18347.0</td>\n",
       "    </tr>\n",
       "    <tr>\n",
       "      <th>1</th>\n",
       "      <td>IndiGo</td>\n",
       "      <td>12/05/2019</td>\n",
       "      <td>Kolkata</td>\n",
       "      <td>Banglore</td>\n",
       "      <td>CCU → MAA → BLR</td>\n",
       "      <td>06:20</td>\n",
       "      <td>10:20</td>\n",
       "      <td>4h</td>\n",
       "      <td>1 stop</td>\n",
       "      <td>No info</td>\n",
       "      <td>...</td>\n",
       "      <td>10</td>\n",
       "      <td>3</td>\n",
       "      <td>3</td>\n",
       "      <td>0</td>\n",
       "      <td>7</td>\n",
       "      <td>1</td>\n",
       "      <td>2</td>\n",
       "      <td>2</td>\n",
       "      <td>1</td>\n",
       "      <td>37107.0</td>\n",
       "    </tr>\n",
       "    <tr>\n",
       "      <th>2</th>\n",
       "      <td>Jet Airways</td>\n",
       "      <td>21/05/2019</td>\n",
       "      <td>Delhi</td>\n",
       "      <td>Cochin</td>\n",
       "      <td>DEL → BOM → COK</td>\n",
       "      <td>19:15</td>\n",
       "      <td>19:00 22 May</td>\n",
       "      <td>23h 45m</td>\n",
       "      <td>1 stop</td>\n",
       "      <td>In-flight meal not included</td>\n",
       "      <td>...</td>\n",
       "      <td>19</td>\n",
       "      <td>4</td>\n",
       "      <td>2</td>\n",
       "      <td>1</td>\n",
       "      <td>5</td>\n",
       "      <td>0</td>\n",
       "      <td>3</td>\n",
       "      <td>3</td>\n",
       "      <td>0</td>\n",
       "      <td>20470.0</td>\n",
       "    </tr>\n",
       "    <tr>\n",
       "      <th>3</th>\n",
       "      <td>Multiple carriers</td>\n",
       "      <td>21/05/2019</td>\n",
       "      <td>Delhi</td>\n",
       "      <td>Cochin</td>\n",
       "      <td>DEL → BOM → COK</td>\n",
       "      <td>08:00</td>\n",
       "      <td>21:00</td>\n",
       "      <td>13h</td>\n",
       "      <td>1 stop</td>\n",
       "      <td>No info</td>\n",
       "      <td>...</td>\n",
       "      <td>21</td>\n",
       "      <td>6</td>\n",
       "      <td>2</td>\n",
       "      <td>1</td>\n",
       "      <td>7</td>\n",
       "      <td>1</td>\n",
       "      <td>2</td>\n",
       "      <td>3</td>\n",
       "      <td>0</td>\n",
       "      <td>22082.0</td>\n",
       "    </tr>\n",
       "    <tr>\n",
       "      <th>4</th>\n",
       "      <td>Air Asia</td>\n",
       "      <td>24/06/2019</td>\n",
       "      <td>Banglore</td>\n",
       "      <td>Delhi</td>\n",
       "      <td>BLR → DEL</td>\n",
       "      <td>23:55</td>\n",
       "      <td>02:45 25 Jun</td>\n",
       "      <td>2h 50m</td>\n",
       "      <td>non-stop</td>\n",
       "      <td>No info</td>\n",
       "      <td>...</td>\n",
       "      <td>2</td>\n",
       "      <td>0</td>\n",
       "      <td>0</td>\n",
       "      <td>2</td>\n",
       "      <td>7</td>\n",
       "      <td>1</td>\n",
       "      <td>3</td>\n",
       "      <td>0</td>\n",
       "      <td>2</td>\n",
       "      <td>35919.0</td>\n",
       "    </tr>\n",
       "  </tbody>\n",
       "</table>\n",
       "<p>5 rows × 30 columns</p>\n",
       "</div>"
      ],
      "text/plain": [
       "             Airline Date_of_Journey    Source Destination            Route  \\\n",
       "0        Jet Airways       6/06/2019     Delhi      Cochin  DEL → BOM → COK   \n",
       "1             IndiGo      12/05/2019   Kolkata    Banglore  CCU → MAA → BLR   \n",
       "2        Jet Airways      21/05/2019     Delhi      Cochin  DEL → BOM → COK   \n",
       "3  Multiple carriers      21/05/2019     Delhi      Cochin  DEL → BOM → COK   \n",
       "4           Air Asia      24/06/2019  Banglore       Delhi        BLR → DEL   \n",
       "\n",
       "  Dep_Time  Arrival_Time Duration Total_Stops              Additional_Info  \\\n",
       "0    17:30  04:25 07 Jun  10h 55m      1 stop                      No info   \n",
       "1    06:20         10:20       4h      1 stop                      No info   \n",
       "2    19:15  19:00 22 May  23h 45m      1 stop  In-flight meal not included   \n",
       "3    08:00         21:00      13h      1 stop                      No info   \n",
       "4    23:55  02:45 25 Jun   2h 50m    non-stop                      No info   \n",
       "\n",
       "   ...  ArrivalHour  AirlineEnc SourceEnc  DestinationEnc  AdditionalInfoEnc  \\\n",
       "0  ...            4           4         2               1                  7   \n",
       "1  ...           10           3         3               0                  7   \n",
       "2  ...           19           4         2               1                  5   \n",
       "3  ...           21           6         2               1                  7   \n",
       "4  ...            2           0         0               2                  7   \n",
       "\n",
       "   MealIncludedEnc DepartureDayPartEnc ArrivalDayPartEnc FlightLengthEnc  \\\n",
       "0                1                   1                 0               0   \n",
       "1                1                   2                 2               1   \n",
       "2                0                   3                 3               0   \n",
       "3                1                   2                 3               0   \n",
       "4                1                   3                 0               2   \n",
       "\n",
       "   Predicted Price  \n",
       "0          18347.0  \n",
       "1          37107.0  \n",
       "2          20470.0  \n",
       "3          22082.0  \n",
       "4          35919.0  \n",
       "\n",
       "[5 rows x 30 columns]"
      ]
     },
     "execution_count": 104,
     "metadata": {},
     "output_type": "execute_result"
    }
   ],
   "source": [
    "Test['Predicted Price'] = Results\n",
    "Test.head()"
   ]
  },
  {
   "cell_type": "code",
   "execution_count": 105,
   "id": "2832b37e",
   "metadata": {
    "execution": {
     "iopub.execute_input": "2022-03-28T19:15:13.885979Z",
     "iopub.status.busy": "2022-03-28T19:15:13.885062Z",
     "iopub.status.idle": "2022-03-28T19:15:13.915987Z",
     "shell.execute_reply": "2022-03-28T19:15:13.916470Z",
     "shell.execute_reply.started": "2022-03-28T19:10:59.792129Z"
    },
    "papermill": {
     "duration": 0.174708,
     "end_time": "2022-03-28T19:15:13.916663",
     "exception": false,
     "start_time": "2022-03-28T19:15:13.741955",
     "status": "completed"
    },
    "tags": []
   },
   "outputs": [],
   "source": [
    "Test.to_csv('new file.csv')"
   ]
  }
 ],
 "metadata": {
  "kernelspec": {
   "display_name": "Python 3",
   "language": "python",
   "name": "python3"
  },
  "language_info": {
   "codemirror_mode": {
    "name": "ipython",
    "version": 3
   },
   "file_extension": ".py",
   "mimetype": "text/x-python",
   "name": "python",
   "nbconvert_exporter": "python",
   "pygments_lexer": "ipython3",
   "version": "3.7.12"
  },
  "papermill": {
   "default_parameters": {},
   "duration": 170.224432,
   "end_time": "2022-03-28T19:15:14.870452",
   "environment_variables": {},
   "exception": null,
   "input_path": "__notebook__.ipynb",
   "output_path": "__notebook__.ipynb",
   "parameters": {},
   "start_time": "2022-03-28T19:12:24.646020",
   "version": "2.3.3"
  }
 },
 "nbformat": 4,
 "nbformat_minor": 5
}
